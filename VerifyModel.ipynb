{
 "cells": [
  {
   "cell_type": "markdown",
   "id": "ca8cd0a9",
   "metadata": {},
   "source": [
    "# Verifying the SpeechT5 model"
   ]
  },
  {
   "cell_type": "markdown",
   "id": "2c5342da",
   "metadata": {},
   "source": [
    "I needed to do the following to be able to load the original model:\n",
    "\n",
    "- Clone the https://github.com/microsoft/SpeechT5 repo\n",
    "\n",
    "Install stuff:\n",
    "\n",
    "```\n",
    "pip install editdistance\n",
    "pip install -U sacrebleu==1.5.1\n",
    "\n",
    "git submodule update --init SpeechT5/fairseq\n",
    "cd SpeechT5\n",
    "pip install --editable fairseq/\n",
    "pip install espnet\n",
    "```\n",
    "\n",
    "Put this notebook at the same level as the `SpeechT5` repo.\n",
    "\n",
    "Hack the code:\n",
    "\n",
    "- Copy `speecht5/tasks/speecht5.py` into `fairseq/fairseq/tasks`\n",
    "\n",
    "- To run on CPU: In `speecht5/sequence_generator.py`, comment out where it does `.to(device=\"cuda\")`\n",
    "\n",
    "Additional stuff to download:\n",
    "\n",
    "- `dict.txt` from https://drive.google.com/uc?export=download&id=19hcQ58RHZ6CssxF8Qp6yEF1NW_AXxObK\n",
    "\n",
    "- `tokenizer` from https://drive.google.com/uc?export=download&id=1wClgQjXXoU2lmpbaEa1v2SqMbg7cAutq\n",
    "\n",
    "- `speecht5_base_asr.pt` and `t5_transformer_lm.pt` from https://huggingface.co/ajyy/SpeechT5\n",
    "\n",
    "You also need an input audio file, any WAV at 16 kHz will do."
   ]
  },
  {
   "cell_type": "code",
   "execution_count": 1,
   "id": "1a4d7c59",
   "metadata": {},
   "outputs": [],
   "source": [
    "%reload_ext autoreload\n",
    "%autoreload 2"
   ]
  },
  {
   "cell_type": "markdown",
   "id": "65661728",
   "metadata": {},
   "source": [
    "Set Python path so it can find the `speecht5` and `fairseq` modules."
   ]
  },
  {
   "cell_type": "code",
   "execution_count": 2,
   "id": "f30402f0",
   "metadata": {},
   "outputs": [],
   "source": [
    "import sys\n",
    "sys.path.insert(0, \"../SpeechT5/SpeechT5\")\n",
    "sys.path.insert(0, \"../SpeechT5/SpeechT5/fairseq\")"
   ]
  },
  {
   "cell_type": "code",
   "execution_count": 3,
   "id": "d398e605",
   "metadata": {},
   "outputs": [],
   "source": [
    "import numpy as np\n",
    "import torch\n",
    "import matplotlib.pyplot as plt"
   ]
  },
  {
   "cell_type": "markdown",
   "id": "72b45926",
   "metadata": {},
   "source": [
    "## Load audio and preprocess"
   ]
  },
  {
   "cell_type": "code",
   "execution_count": 4,
   "id": "c18f317c",
   "metadata": {},
   "outputs": [],
   "source": [
    "input_file = \"/Users/matthijs/Documents/FILES/HuggingFace/SpeechT5/tryout/AUDIO_DIR/dev_clean/1272/141231/1272-141231-0020.flac\""
   ]
  },
  {
   "cell_type": "code",
   "execution_count": 5,
   "id": "63370005",
   "metadata": {},
   "outputs": [],
   "source": [
    "input_file = \"/Users/matthijs/Documents/FILES/HuggingFace/SpeechT5/tryout/AUDIO_DIR/dev_clean/1272/128104/1272-128104-0000.flac\""
   ]
  },
  {
   "cell_type": "code",
   "execution_count": 6,
   "id": "4a855d5b",
   "metadata": {},
   "outputs": [
    {
     "data": {
      "text/plain": [
       "((93680,), 16000)"
      ]
     },
     "execution_count": 6,
     "metadata": {},
     "output_type": "execute_result"
    }
   ],
   "source": [
    "import soundfile as sf\n",
    "wav_data, cur_sample_rate = sf.read(input_file)\n",
    "wav_data.shape, cur_sample_rate"
   ]
  },
  {
   "cell_type": "markdown",
   "id": "fa5e60de",
   "metadata": {},
   "source": [
    "NOTE: The `Wav2Vec2FeatureExtractor` does not make sure the audio file is mono. If it has shape `(2, length)` or even `(1, length)` then the output from the feature extractor is incorrect!\n",
    "\n",
    "The `do_normalize` option is False for the SpeechT5 ASR model."
   ]
  },
  {
   "cell_type": "code",
   "execution_count": 7,
   "id": "e9699780",
   "metadata": {},
   "outputs": [],
   "source": [
    "from transformers import Wav2Vec2FeatureExtractor\n",
    "feature_extractor = Wav2Vec2FeatureExtractor(do_normalize=False, return_attention_mask=True)"
   ]
  },
  {
   "cell_type": "code",
   "execution_count": 8,
   "id": "5ea3da78",
   "metadata": {},
   "outputs": [
    {
     "data": {
      "text/plain": [
       "torch.Size([1, 93680])"
      ]
     },
     "execution_count": 8,
     "metadata": {},
     "output_type": "execute_result"
    }
   ],
   "source": [
    "inputs = feature_extractor(wav_data, sampling_rate=cur_sample_rate, padding=True, return_tensors=\"pt\")\n",
    "inputs[\"input_values\"].shape"
   ]
  },
  {
   "cell_type": "code",
   "execution_count": 9,
   "id": "d1a94286",
   "metadata": {},
   "outputs": [],
   "source": [
    "# for testing padding mask\n",
    "inputs[\"attention_mask\"][:, 40000:] = 0"
   ]
  },
  {
   "cell_type": "code",
   "execution_count": 10,
   "id": "62e522e2",
   "metadata": {},
   "outputs": [
    {
     "data": {
      "image/png": "[encoded data removed]",
      "text/plain": [
       "<Figure size 600x200 with 1 Axes>"
      ]
     },
     "metadata": {},
     "output_type": "display_data"
    }
   ],
   "source": [
    "plt.figure(figsize=(6, 2))\n",
    "plt.plot(inputs[\"input_values\"][0])\n",
    "plt.plot(inputs[\"attention_mask\"][0])\n",
    "plt.ylim(-1, 1)\n",
    "plt.show()"
   ]
  },
  {
   "cell_type": "markdown",
   "id": "a5f594f3",
   "metadata": {},
   "source": [
    "Transform multiple inputs into a single padded batch:"
   ]
  },
  {
   "cell_type": "code",
   "execution_count": 11,
   "id": "fbb99431",
   "metadata": {},
   "outputs": [
    {
     "data": {
      "text/plain": [
       "((128632,), 16000)"
      ]
     },
     "execution_count": 11,
     "metadata": {},
     "output_type": "execute_result"
    }
   ],
   "source": [
    "input_file2 = \"/Users/matthijs/Documents/FILES/HuggingFace/S2S/textless/AUDIO_DIR/selfdestruct.wav\"\n",
    "wav_data2, cur_sample_rate2 = sf.read(input_file2)\n",
    "wav_data2.shape, cur_sample_rate2"
   ]
  },
  {
   "cell_type": "code",
   "execution_count": 12,
   "id": "1daee2cb",
   "metadata": {},
   "outputs": [
    {
     "data": {
      "text/plain": [
       "torch.Size([2, 128632])"
      ]
     },
     "execution_count": 12,
     "metadata": {},
     "output_type": "execute_result"
    }
   ],
   "source": [
    "inputs2 = feature_extractor([wav_data, wav_data2], sampling_rate=cur_sample_rate, padding=True, return_tensors=\"pt\")\n",
    "inputs2[\"input_values\"].shape"
   ]
  },
  {
   "cell_type": "markdown",
   "id": "fb653d87",
   "metadata": {},
   "source": [
    "The original model used a `padding_mask` as input, where False means no padding. The `Wav2Vec2FeatureExtractor` can return an `attention_mask`, where 1 means no padding."
   ]
  },
  {
   "cell_type": "code",
   "execution_count": 13,
   "id": "6d3ab7e2",
   "metadata": {},
   "outputs": [
    {
     "data": {
      "text/plain": [
       "tensor([[1, 1, 1,  ..., 0, 0, 0],\n",
       "        [1, 1, 1,  ..., 1, 1, 1]], dtype=torch.int32)"
      ]
     },
     "execution_count": 13,
     "metadata": {},
     "output_type": "execute_result"
    }
   ],
   "source": [
    "inputs2[\"attention_mask\"]"
   ]
  },
  {
   "cell_type": "code",
   "execution_count": 228,
   "id": "7163b1cf",
   "metadata": {},
   "outputs": [],
   "source": [
    "inputs = inputs2   # use the batch"
   ]
  },
  {
   "cell_type": "markdown",
   "id": "2205900b",
   "metadata": {},
   "source": [
    "## Load the Transformers model"
   ]
  },
  {
   "cell_type": "markdown",
   "id": "3bc8c0f8",
   "metadata": {},
   "source": [
    "To convert the original checkpoint weights to Transformers:\n",
    "\n",
    "First download the checkpoint. I used `speecht5_base_asr.pt` from https://huggingface.co/ajyy/SpeechT5\n",
    "\n",
    "Then run the following, using your own `--checkpoint_path` and `--pytorch_dump_folder_path`:\n",
    "\n",
    "```nohighlight\n",
    "cd transformers/src/transformers/models/speecht5\n",
    "\n",
    "python convert_speecht5_original_pytorch_checkpoint_to_pytorch.py \\\n",
    "  --task s2t \\\n",
    "  --checkpoint_path /path/to/SpeechT5/speecht5_base_asr.pt \n",
    "  --pytorch_dump_folder_path /some/other/path\n",
    "```"
   ]
  },
  {
   "cell_type": "code",
   "execution_count": 15,
   "id": "552fd307",
   "metadata": {},
   "outputs": [],
   "source": [
    "from transformers import (\n",
    "    SpeechT5Config, \n",
    "    SpeechT5CTCTokenizer,\n",
    "    SpeechT5Processor,\n",
    "    SpeechT5Model, \n",
    "    SpeechT5ForConditionalGeneration, \n",
    "    SpeechT5ForCTC, \n",
    "    Wav2Vec2FeatureExtractor,\n",
    ")"
   ]
  },
  {
   "cell_type": "code",
   "execution_count": 16,
   "id": "69aa6aed",
   "metadata": {},
   "outputs": [],
   "source": [
    "config = SpeechT5Config()\n",
    "hf_model = SpeechT5Model(config)"
   ]
  },
  {
   "cell_type": "code",
   "execution_count": 17,
   "id": "1ba8f514",
   "metadata": {},
   "outputs": [],
   "source": [
    "model_checkpoint = \"/Users/matthijs/Documents/FILES/HuggingFace/SpeechT5/weights/speecht5_base_asr\""
   ]
  },
  {
   "cell_type": "markdown",
   "id": "2884601a",
   "metadata": {},
   "source": [
    "Note that loading should work OK for both the base class `SpeechT5Model` and `SpeechT5ForCTC`."
   ]
  },
  {
   "cell_type": "code",
   "execution_count": 18,
   "id": "5df4bac3",
   "metadata": {},
   "outputs": [],
   "source": [
    "hf_model = SpeechT5ForConditionalGeneration.from_pretrained(model_checkpoint)"
   ]
  },
  {
   "cell_type": "code",
   "execution_count": 19,
   "id": "b7dd7606",
   "metadata": {},
   "outputs": [
    {
     "data": {
      "text/plain": [
       "SpeechT5ForConditionalGeneration(\n",
       "  (speecht5): SpeechT5Model(\n",
       "    (encoder): SpeechT5SpeechEncoder(\n",
       "      (prenet): SpeechT5SpeechEncoderPrenet(\n",
       "        (feature_encoder): SpeechT5FeatureEncoder(\n",
       "          (conv_layers): ModuleList(\n",
       "            (0): SpeechT5GroupNormConvLayer(\n",
       "              (conv): Conv1d(1, 512, kernel_size=(10,), stride=(5,), bias=False)\n",
       "              (activation): GELUActivation()\n",
       "              (layer_norm): GroupNorm(512, 512, eps=1e-05, affine=True)\n",
       "            )\n",
       "            (1): SpeechT5NoLayerNormConvLayer(\n",
       "              (conv): Conv1d(512, 512, kernel_size=(3,), stride=(2,), bias=False)\n",
       "              (activation): GELUActivation()\n",
       "            )\n",
       "            (2): SpeechT5NoLayerNormConvLayer(\n",
       "              (conv): Conv1d(512, 512, kernel_size=(3,), stride=(2,), bias=False)\n",
       "              (activation): GELUActivation()\n",
       "            )\n",
       "            (3): SpeechT5NoLayerNormConvLayer(\n",
       "              (conv): Conv1d(512, 512, kernel_size=(3,), stride=(2,), bias=False)\n",
       "              (activation): GELUActivation()\n",
       "            )\n",
       "            (4): SpeechT5NoLayerNormConvLayer(\n",
       "              (conv): Conv1d(512, 512, kernel_size=(3,), stride=(2,), bias=False)\n",
       "              (activation): GELUActivation()\n",
       "            )\n",
       "            (5): SpeechT5NoLayerNormConvLayer(\n",
       "              (conv): Conv1d(512, 512, kernel_size=(2,), stride=(2,), bias=False)\n",
       "              (activation): GELUActivation()\n",
       "            )\n",
       "            (6): SpeechT5NoLayerNormConvLayer(\n",
       "              (conv): Conv1d(512, 512, kernel_size=(2,), stride=(2,), bias=False)\n",
       "              (activation): GELUActivation()\n",
       "            )\n",
       "          )\n",
       "        )\n",
       "        (feature_projection): SpeechT5FeatureProjection(\n",
       "          (layer_norm): LayerNorm((512,), eps=1e-05, elementwise_affine=True)\n",
       "          (projection): Linear(in_features=512, out_features=768, bias=True)\n",
       "          (dropout): Dropout(p=0.0, inplace=False)\n",
       "        )\n",
       "        (pos_conv_embed): SpeechT5PositionalConvEmbedding(\n",
       "          (conv): Conv1d(768, 768, kernel_size=(128,), stride=(1,), padding=(64,), groups=16)\n",
       "          (padding): SpeechT5SamePadLayer()\n",
       "          (activation): GELUActivation()\n",
       "        )\n",
       "        (embed_positions): SpeechT5SinusoidalPositionalEmbedding()\n",
       "      )\n",
       "      (wrapped_encoder): SpeechT5Encoder(\n",
       "        (layer_norm): LayerNorm((768,), eps=1e-05, elementwise_affine=True)\n",
       "        (dropout): Dropout(p=0.1, inplace=False)\n",
       "        (layers): ModuleList(\n",
       "          (0): SpeechT5EncoderLayer(\n",
       "            (attention): SpeechT5Attention(\n",
       "              (k_proj): Linear(in_features=768, out_features=768, bias=True)\n",
       "              (v_proj): Linear(in_features=768, out_features=768, bias=True)\n",
       "              (q_proj): Linear(in_features=768, out_features=768, bias=True)\n",
       "              (out_proj): Linear(in_features=768, out_features=768, bias=True)\n",
       "            )\n",
       "            (dropout): Dropout(p=0.1, inplace=False)\n",
       "            (layer_norm): LayerNorm((768,), eps=1e-05, elementwise_affine=True)\n",
       "            (feed_forward): SpeechT5FeedForward(\n",
       "              (intermediate_dropout): Dropout(p=0.1, inplace=False)\n",
       "              (intermediate_dense): Linear(in_features=768, out_features=3072, bias=True)\n",
       "              (intermediate_act_fn): GELUActivation()\n",
       "              (output_dense): Linear(in_features=3072, out_features=768, bias=True)\n",
       "              (output_dropout): Dropout(p=0.1, inplace=False)\n",
       "            )\n",
       "            (final_layer_norm): LayerNorm((768,), eps=1e-05, elementwise_affine=True)\n",
       "          )\n",
       "          (1): SpeechT5EncoderLayer(\n",
       "            (attention): SpeechT5Attention(\n",
       "              (k_proj): Linear(in_features=768, out_features=768, bias=True)\n",
       "              (v_proj): Linear(in_features=768, out_features=768, bias=True)\n",
       "              (q_proj): Linear(in_features=768, out_features=768, bias=True)\n",
       "              (out_proj): Linear(in_features=768, out_features=768, bias=True)\n",
       "            )\n",
       "            (dropout): Dropout(p=0.1, inplace=False)\n",
       "            (layer_norm): LayerNorm((768,), eps=1e-05, elementwise_affine=True)\n",
       "            (feed_forward): SpeechT5FeedForward(\n",
       "              (intermediate_dropout): Dropout(p=0.1, inplace=False)\n",
       "              (intermediate_dense): Linear(in_features=768, out_features=3072, bias=True)\n",
       "              (intermediate_act_fn): GELUActivation()\n",
       "              (output_dense): Linear(in_features=3072, out_features=768, bias=True)\n",
       "              (output_dropout): Dropout(p=0.1, inplace=False)\n",
       "            )\n",
       "            (final_layer_norm): LayerNorm((768,), eps=1e-05, elementwise_affine=True)\n",
       "          )\n",
       "          (2): SpeechT5EncoderLayer(\n",
       "            (attention): SpeechT5Attention(\n",
       "              (k_proj): Linear(in_features=768, out_features=768, bias=True)\n",
       "              (v_proj): Linear(in_features=768, out_features=768, bias=True)\n",
       "              (q_proj): Linear(in_features=768, out_features=768, bias=True)\n",
       "              (out_proj): Linear(in_features=768, out_features=768, bias=True)\n",
       "            )\n",
       "            (dropout): Dropout(p=0.1, inplace=False)\n",
       "            (layer_norm): LayerNorm((768,), eps=1e-05, elementwise_affine=True)\n",
       "            (feed_forward): SpeechT5FeedForward(\n",
       "              (intermediate_dropout): Dropout(p=0.1, inplace=False)\n",
       "              (intermediate_dense): Linear(in_features=768, out_features=3072, bias=True)\n",
       "              (intermediate_act_fn): GELUActivation()\n",
       "              (output_dense): Linear(in_features=3072, out_features=768, bias=True)\n",
       "              (output_dropout): Dropout(p=0.1, inplace=False)\n",
       "            )\n",
       "            (final_layer_norm): LayerNorm((768,), eps=1e-05, elementwise_affine=True)\n",
       "          )\n",
       "          (3): SpeechT5EncoderLayer(\n",
       "            (attention): SpeechT5Attention(\n",
       "              (k_proj): Linear(in_features=768, out_features=768, bias=True)\n",
       "              (v_proj): Linear(in_features=768, out_features=768, bias=True)\n",
       "              (q_proj): Linear(in_features=768, out_features=768, bias=True)\n",
       "              (out_proj): Linear(in_features=768, out_features=768, bias=True)\n",
       "            )\n",
       "            (dropout): Dropout(p=0.1, inplace=False)\n",
       "            (layer_norm): LayerNorm((768,), eps=1e-05, elementwise_affine=True)\n",
       "            (feed_forward): SpeechT5FeedForward(\n",
       "              (intermediate_dropout): Dropout(p=0.1, inplace=False)\n",
       "              (intermediate_dense): Linear(in_features=768, out_features=3072, bias=True)\n",
       "              (intermediate_act_fn): GELUActivation()\n",
       "              (output_dense): Linear(in_features=3072, out_features=768, bias=True)\n",
       "              (output_dropout): Dropout(p=0.1, inplace=False)\n",
       "            )\n",
       "            (final_layer_norm): LayerNorm((768,), eps=1e-05, elementwise_affine=True)\n",
       "          )\n",
       "          (4): SpeechT5EncoderLayer(\n",
       "            (attention): SpeechT5Attention(\n",
       "              (k_proj): Linear(in_features=768, out_features=768, bias=True)\n",
       "              (v_proj): Linear(in_features=768, out_features=768, bias=True)\n",
       "              (q_proj): Linear(in_features=768, out_features=768, bias=True)\n",
       "              (out_proj): Linear(in_features=768, out_features=768, bias=True)\n",
       "            )\n",
       "            (dropout): Dropout(p=0.1, inplace=False)\n",
       "            (layer_norm): LayerNorm((768,), eps=1e-05, elementwise_affine=True)\n",
       "            (feed_forward): SpeechT5FeedForward(\n",
       "              (intermediate_dropout): Dropout(p=0.1, inplace=False)\n",
       "              (intermediate_dense): Linear(in_features=768, out_features=3072, bias=True)\n",
       "              (intermediate_act_fn): GELUActivation()\n",
       "              (output_dense): Linear(in_features=3072, out_features=768, bias=True)\n",
       "              (output_dropout): Dropout(p=0.1, inplace=False)\n",
       "            )\n",
       "            (final_layer_norm): LayerNorm((768,), eps=1e-05, elementwise_affine=True)\n",
       "          )\n",
       "          (5): SpeechT5EncoderLayer(\n",
       "            (attention): SpeechT5Attention(\n",
       "              (k_proj): Linear(in_features=768, out_features=768, bias=True)\n",
       "              (v_proj): Linear(in_features=768, out_features=768, bias=True)\n",
       "              (q_proj): Linear(in_features=768, out_features=768, bias=True)\n",
       "              (out_proj): Linear(in_features=768, out_features=768, bias=True)\n",
       "            )\n",
       "            (dropout): Dropout(p=0.1, inplace=False)\n",
       "            (layer_norm): LayerNorm((768,), eps=1e-05, elementwise_affine=True)\n",
       "            (feed_forward): SpeechT5FeedForward(\n",
       "              (intermediate_dropout): Dropout(p=0.1, inplace=False)\n",
       "              (intermediate_dense): Linear(in_features=768, out_features=3072, bias=True)\n",
       "              (intermediate_act_fn): GELUActivation()\n",
       "              (output_dense): Linear(in_features=3072, out_features=768, bias=True)\n",
       "              (output_dropout): Dropout(p=0.1, inplace=False)\n",
       "            )\n",
       "            (final_layer_norm): LayerNorm((768,), eps=1e-05, elementwise_affine=True)\n",
       "          )\n",
       "          (6): SpeechT5EncoderLayer(\n",
       "            (attention): SpeechT5Attention(\n",
       "              (k_proj): Linear(in_features=768, out_features=768, bias=True)\n",
       "              (v_proj): Linear(in_features=768, out_features=768, bias=True)\n",
       "              (q_proj): Linear(in_features=768, out_features=768, bias=True)\n",
       "              (out_proj): Linear(in_features=768, out_features=768, bias=True)\n",
       "            )\n",
       "            (dropout): Dropout(p=0.1, inplace=False)\n",
       "            (layer_norm): LayerNorm((768,), eps=1e-05, elementwise_affine=True)\n",
       "            (feed_forward): SpeechT5FeedForward(\n",
       "              (intermediate_dropout): Dropout(p=0.1, inplace=False)\n",
       "              (intermediate_dense): Linear(in_features=768, out_features=3072, bias=True)\n",
       "              (intermediate_act_fn): GELUActivation()\n",
       "              (output_dense): Linear(in_features=3072, out_features=768, bias=True)\n",
       "              (output_dropout): Dropout(p=0.1, inplace=False)\n",
       "            )\n",
       "            (final_layer_norm): LayerNorm((768,), eps=1e-05, elementwise_affine=True)\n",
       "          )\n",
       "          (7): SpeechT5EncoderLayer(\n",
       "            (attention): SpeechT5Attention(\n",
       "              (k_proj): Linear(in_features=768, out_features=768, bias=True)\n",
       "              (v_proj): Linear(in_features=768, out_features=768, bias=True)\n",
       "              (q_proj): Linear(in_features=768, out_features=768, bias=True)\n",
       "              (out_proj): Linear(in_features=768, out_features=768, bias=True)\n",
       "            )\n",
       "            (dropout): Dropout(p=0.1, inplace=False)\n",
       "            (layer_norm): LayerNorm((768,), eps=1e-05, elementwise_affine=True)\n",
       "            (feed_forward): SpeechT5FeedForward(\n",
       "              (intermediate_dropout): Dropout(p=0.1, inplace=False)\n",
       "              (intermediate_dense): Linear(in_features=768, out_features=3072, bias=True)\n",
       "              (intermediate_act_fn): GELUActivation()\n",
       "              (output_dense): Linear(in_features=3072, out_features=768, bias=True)\n",
       "              (output_dropout): Dropout(p=0.1, inplace=False)\n",
       "            )\n",
       "            (final_layer_norm): LayerNorm((768,), eps=1e-05, elementwise_affine=True)\n",
       "          )\n",
       "          (8): SpeechT5EncoderLayer(\n",
       "            (attention): SpeechT5Attention(\n",
       "              (k_proj): Linear(in_features=768, out_features=768, bias=True)\n",
       "              (v_proj): Linear(in_features=768, out_features=768, bias=True)\n",
       "              (q_proj): Linear(in_features=768, out_features=768, bias=True)\n",
       "              (out_proj): Linear(in_features=768, out_features=768, bias=True)\n",
       "            )\n",
       "            (dropout): Dropout(p=0.1, inplace=False)\n",
       "            (layer_norm): LayerNorm((768,), eps=1e-05, elementwise_affine=True)\n",
       "            (feed_forward): SpeechT5FeedForward(\n",
       "              (intermediate_dropout): Dropout(p=0.1, inplace=False)\n",
       "              (intermediate_dense): Linear(in_features=768, out_features=3072, bias=True)\n",
       "              (intermediate_act_fn): GELUActivation()\n",
       "              (output_dense): Linear(in_features=3072, out_features=768, bias=True)\n",
       "              (output_dropout): Dropout(p=0.1, inplace=False)\n",
       "            )\n",
       "            (final_layer_norm): LayerNorm((768,), eps=1e-05, elementwise_affine=True)\n",
       "          )\n",
       "          (9): SpeechT5EncoderLayer(\n",
       "            (attention): SpeechT5Attention(\n",
       "              (k_proj): Linear(in_features=768, out_features=768, bias=True)\n",
       "              (v_proj): Linear(in_features=768, out_features=768, bias=True)\n",
       "              (q_proj): Linear(in_features=768, out_features=768, bias=True)\n",
       "              (out_proj): Linear(in_features=768, out_features=768, bias=True)\n",
       "            )\n",
       "            (dropout): Dropout(p=0.1, inplace=False)\n",
       "            (layer_norm): LayerNorm((768,), eps=1e-05, elementwise_affine=True)\n",
       "            (feed_forward): SpeechT5FeedForward(\n",
       "              (intermediate_dropout): Dropout(p=0.1, inplace=False)\n",
       "              (intermediate_dense): Linear(in_features=768, out_features=3072, bias=True)\n",
       "              (intermediate_act_fn): GELUActivation()\n",
       "              (output_dense): Linear(in_features=3072, out_features=768, bias=True)\n",
       "              (output_dropout): Dropout(p=0.1, inplace=False)\n",
       "            )\n",
       "            (final_layer_norm): LayerNorm((768,), eps=1e-05, elementwise_affine=True)\n",
       "          )\n",
       "          (10): SpeechT5EncoderLayer(\n",
       "            (attention): SpeechT5Attention(\n",
       "              (k_proj): Linear(in_features=768, out_features=768, bias=True)\n",
       "              (v_proj): Linear(in_features=768, out_features=768, bias=True)\n",
       "              (q_proj): Linear(in_features=768, out_features=768, bias=True)\n",
       "              (out_proj): Linear(in_features=768, out_features=768, bias=True)\n",
       "            )\n",
       "            (dropout): Dropout(p=0.1, inplace=False)\n",
       "            (layer_norm): LayerNorm((768,), eps=1e-05, elementwise_affine=True)\n",
       "            (feed_forward): SpeechT5FeedForward(\n",
       "              (intermediate_dropout): Dropout(p=0.1, inplace=False)\n",
       "              (intermediate_dense): Linear(in_features=768, out_features=3072, bias=True)\n",
       "              (intermediate_act_fn): GELUActivation()\n",
       "              (output_dense): Linear(in_features=3072, out_features=768, bias=True)\n",
       "              (output_dropout): Dropout(p=0.1, inplace=False)\n",
       "            )\n",
       "            (final_layer_norm): LayerNorm((768,), eps=1e-05, elementwise_affine=True)\n",
       "          )\n",
       "          (11): SpeechT5EncoderLayer(\n",
       "            (attention): SpeechT5Attention(\n",
       "              (k_proj): Linear(in_features=768, out_features=768, bias=True)\n",
       "              (v_proj): Linear(in_features=768, out_features=768, bias=True)\n",
       "              (q_proj): Linear(in_features=768, out_features=768, bias=True)\n",
       "              (out_proj): Linear(in_features=768, out_features=768, bias=True)\n",
       "            )\n",
       "            (dropout): Dropout(p=0.1, inplace=False)\n",
       "            (layer_norm): LayerNorm((768,), eps=1e-05, elementwise_affine=True)\n",
       "            (feed_forward): SpeechT5FeedForward(\n",
       "              (intermediate_dropout): Dropout(p=0.1, inplace=False)\n",
       "              (intermediate_dense): Linear(in_features=768, out_features=3072, bias=True)\n",
       "              (intermediate_act_fn): GELUActivation()\n",
       "              (output_dense): Linear(in_features=3072, out_features=768, bias=True)\n",
       "              (output_dropout): Dropout(p=0.1, inplace=False)\n",
       "            )\n",
       "            (final_layer_norm): LayerNorm((768,), eps=1e-05, elementwise_affine=True)\n",
       "          )\n",
       "        )\n",
       "        (embed_positions): SpeechT5RelativePositionalEncoding(\n",
       "          (pe_k): Embedding(320, 64)\n",
       "        )\n",
       "      )\n",
       "    )\n",
       "    (decoder): SpeechT5TextDecoder(\n",
       "      (prenet): SpeechT5TextDecoderPrenet(\n",
       "        (dropout): Dropout(p=0.1, inplace=False)\n",
       "        (embed_tokens): Embedding(81, 768, padding_idx=1)\n",
       "        (embed_positions): SpeechT5SinusoidalPositionalEmbedding()\n",
       "      )\n",
       "      (wrapped_decoder): SpeechT5Decoder(\n",
       "        (layers): ModuleList(\n",
       "          (0): SpeechT5DecoderLayer(\n",
       "            (self_attn): SpeechT5Attention(\n",
       "              (k_proj): Linear(in_features=768, out_features=768, bias=True)\n",
       "              (v_proj): Linear(in_features=768, out_features=768, bias=True)\n",
       "              (q_proj): Linear(in_features=768, out_features=768, bias=True)\n",
       "              (out_proj): Linear(in_features=768, out_features=768, bias=True)\n",
       "            )\n",
       "            (dropout): Dropout(p=0.1, inplace=False)\n",
       "            (self_attn_layer_norm): LayerNorm((768,), eps=1e-05, elementwise_affine=True)\n",
       "            (encoder_attn): SpeechT5Attention(\n",
       "              (k_proj): Linear(in_features=768, out_features=768, bias=True)\n",
       "              (v_proj): Linear(in_features=768, out_features=768, bias=True)\n",
       "              (q_proj): Linear(in_features=768, out_features=768, bias=True)\n",
       "              (out_proj): Linear(in_features=768, out_features=768, bias=True)\n",
       "            )\n",
       "            (encoder_attn_layer_norm): LayerNorm((768,), eps=1e-05, elementwise_affine=True)\n",
       "            (feed_forward): SpeechT5FeedForward(\n",
       "              (intermediate_dropout): Dropout(p=0.1, inplace=False)\n",
       "              (intermediate_dense): Linear(in_features=768, out_features=3072, bias=True)\n",
       "              (intermediate_act_fn): GELUActivation()\n",
       "              (output_dense): Linear(in_features=3072, out_features=768, bias=True)\n",
       "              (output_dropout): Dropout(p=0.1, inplace=False)\n",
       "            )\n",
       "            (final_layer_norm): LayerNorm((768,), eps=1e-05, elementwise_affine=True)\n",
       "          )\n",
       "          (1): SpeechT5DecoderLayer(\n",
       "            (self_attn): SpeechT5Attention(\n",
       "              (k_proj): Linear(in_features=768, out_features=768, bias=True)\n",
       "              (v_proj): Linear(in_features=768, out_features=768, bias=True)\n",
       "              (q_proj): Linear(in_features=768, out_features=768, bias=True)\n",
       "              (out_proj): Linear(in_features=768, out_features=768, bias=True)\n",
       "            )\n",
       "            (dropout): Dropout(p=0.1, inplace=False)\n",
       "            (self_attn_layer_norm): LayerNorm((768,), eps=1e-05, elementwise_affine=True)\n",
       "            (encoder_attn): SpeechT5Attention(\n",
       "              (k_proj): Linear(in_features=768, out_features=768, bias=True)\n",
       "              (v_proj): Linear(in_features=768, out_features=768, bias=True)\n",
       "              (q_proj): Linear(in_features=768, out_features=768, bias=True)\n",
       "              (out_proj): Linear(in_features=768, out_features=768, bias=True)\n",
       "            )\n",
       "            (encoder_attn_layer_norm): LayerNorm((768,), eps=1e-05, elementwise_affine=True)\n",
       "            (feed_forward): SpeechT5FeedForward(\n",
       "              (intermediate_dropout): Dropout(p=0.1, inplace=False)\n",
       "              (intermediate_dense): Linear(in_features=768, out_features=3072, bias=True)\n",
       "              (intermediate_act_fn): GELUActivation()\n",
       "              (output_dense): Linear(in_features=3072, out_features=768, bias=True)\n",
       "              (output_dropout): Dropout(p=0.1, inplace=False)\n",
       "            )\n",
       "            (final_layer_norm): LayerNorm((768,), eps=1e-05, elementwise_affine=True)\n",
       "          )\n",
       "          (2): SpeechT5DecoderLayer(\n",
       "            (self_attn): SpeechT5Attention(\n",
       "              (k_proj): Linear(in_features=768, out_features=768, bias=True)\n",
       "              (v_proj): Linear(in_features=768, out_features=768, bias=True)\n",
       "              (q_proj): Linear(in_features=768, out_features=768, bias=True)\n",
       "              (out_proj): Linear(in_features=768, out_features=768, bias=True)\n",
       "            )\n",
       "            (dropout): Dropout(p=0.1, inplace=False)\n",
       "            (self_attn_layer_norm): LayerNorm((768,), eps=1e-05, elementwise_affine=True)\n",
       "            (encoder_attn): SpeechT5Attention(\n",
       "              (k_proj): Linear(in_features=768, out_features=768, bias=True)\n",
       "              (v_proj): Linear(in_features=768, out_features=768, bias=True)\n",
       "              (q_proj): Linear(in_features=768, out_features=768, bias=True)\n",
       "              (out_proj): Linear(in_features=768, out_features=768, bias=True)\n",
       "            )\n",
       "            (encoder_attn_layer_norm): LayerNorm((768,), eps=1e-05, elementwise_affine=True)\n",
       "            (feed_forward): SpeechT5FeedForward(\n",
       "              (intermediate_dropout): Dropout(p=0.1, inplace=False)\n",
       "              (intermediate_dense): Linear(in_features=768, out_features=3072, bias=True)\n",
       "              (intermediate_act_fn): GELUActivation()\n",
       "              (output_dense): Linear(in_features=3072, out_features=768, bias=True)\n",
       "              (output_dropout): Dropout(p=0.1, inplace=False)\n",
       "            )\n",
       "            (final_layer_norm): LayerNorm((768,), eps=1e-05, elementwise_affine=True)\n",
       "          )\n",
       "          (3): SpeechT5DecoderLayer(\n",
       "            (self_attn): SpeechT5Attention(\n",
       "              (k_proj): Linear(in_features=768, out_features=768, bias=True)\n",
       "              (v_proj): Linear(in_features=768, out_features=768, bias=True)\n",
       "              (q_proj): Linear(in_features=768, out_features=768, bias=True)\n",
       "              (out_proj): Linear(in_features=768, out_features=768, bias=True)\n",
       "            )\n",
       "            (dropout): Dropout(p=0.1, inplace=False)\n",
       "            (self_attn_layer_norm): LayerNorm((768,), eps=1e-05, elementwise_affine=True)\n",
       "            (encoder_attn): SpeechT5Attention(\n",
       "              (k_proj): Linear(in_features=768, out_features=768, bias=True)\n",
       "              (v_proj): Linear(in_features=768, out_features=768, bias=True)\n",
       "              (q_proj): Linear(in_features=768, out_features=768, bias=True)\n",
       "              (out_proj): Linear(in_features=768, out_features=768, bias=True)\n",
       "            )\n",
       "            (encoder_attn_layer_norm): LayerNorm((768,), eps=1e-05, elementwise_affine=True)\n",
       "            (feed_forward): SpeechT5FeedForward(\n",
       "              (intermediate_dropout): Dropout(p=0.1, inplace=False)\n",
       "              (intermediate_dense): Linear(in_features=768, out_features=3072, bias=True)\n",
       "              (intermediate_act_fn): GELUActivation()\n",
       "              (output_dense): Linear(in_features=3072, out_features=768, bias=True)\n",
       "              (output_dropout): Dropout(p=0.1, inplace=False)\n",
       "            )\n",
       "            (final_layer_norm): LayerNorm((768,), eps=1e-05, elementwise_affine=True)\n",
       "          )\n",
       "          (4): SpeechT5DecoderLayer(\n",
       "            (self_attn): SpeechT5Attention(\n",
       "              (k_proj): Linear(in_features=768, out_features=768, bias=True)\n",
       "              (v_proj): Linear(in_features=768, out_features=768, bias=True)\n",
       "              (q_proj): Linear(in_features=768, out_features=768, bias=True)\n",
       "              (out_proj): Linear(in_features=768, out_features=768, bias=True)\n",
       "            )\n",
       "            (dropout): Dropout(p=0.1, inplace=False)\n",
       "            (self_attn_layer_norm): LayerNorm((768,), eps=1e-05, elementwise_affine=True)\n",
       "            (encoder_attn): SpeechT5Attention(\n",
       "              (k_proj): Linear(in_features=768, out_features=768, bias=True)\n",
       "              (v_proj): Linear(in_features=768, out_features=768, bias=True)\n",
       "              (q_proj): Linear(in_features=768, out_features=768, bias=True)\n",
       "              (out_proj): Linear(in_features=768, out_features=768, bias=True)\n",
       "            )\n",
       "            (encoder_attn_layer_norm): LayerNorm((768,), eps=1e-05, elementwise_affine=True)\n",
       "            (feed_forward): SpeechT5FeedForward(\n",
       "              (intermediate_dropout): Dropout(p=0.1, inplace=False)\n",
       "              (intermediate_dense): Linear(in_features=768, out_features=3072, bias=True)\n",
       "              (intermediate_act_fn): GELUActivation()\n",
       "              (output_dense): Linear(in_features=3072, out_features=768, bias=True)\n",
       "              (output_dropout): Dropout(p=0.1, inplace=False)\n",
       "            )\n",
       "            (final_layer_norm): LayerNorm((768,), eps=1e-05, elementwise_affine=True)\n",
       "          )\n",
       "          (5): SpeechT5DecoderLayer(\n",
       "            (self_attn): SpeechT5Attention(\n",
       "              (k_proj): Linear(in_features=768, out_features=768, bias=True)\n",
       "              (v_proj): Linear(in_features=768, out_features=768, bias=True)\n",
       "              (q_proj): Linear(in_features=768, out_features=768, bias=True)\n",
       "              (out_proj): Linear(in_features=768, out_features=768, bias=True)\n",
       "            )\n",
       "            (dropout): Dropout(p=0.1, inplace=False)\n",
       "            (self_attn_layer_norm): LayerNorm((768,), eps=1e-05, elementwise_affine=True)\n",
       "            (encoder_attn): SpeechT5Attention(\n",
       "              (k_proj): Linear(in_features=768, out_features=768, bias=True)\n",
       "              (v_proj): Linear(in_features=768, out_features=768, bias=True)\n",
       "              (q_proj): Linear(in_features=768, out_features=768, bias=True)\n",
       "              (out_proj): Linear(in_features=768, out_features=768, bias=True)\n",
       "            )\n",
       "            (encoder_attn_layer_norm): LayerNorm((768,), eps=1e-05, elementwise_affine=True)\n",
       "            (feed_forward): SpeechT5FeedForward(\n",
       "              (intermediate_dropout): Dropout(p=0.1, inplace=False)\n",
       "              (intermediate_dense): Linear(in_features=768, out_features=3072, bias=True)\n",
       "              (intermediate_act_fn): GELUActivation()\n",
       "              (output_dense): Linear(in_features=3072, out_features=768, bias=True)\n",
       "              (output_dropout): Dropout(p=0.1, inplace=False)\n",
       "            )\n",
       "            (final_layer_norm): LayerNorm((768,), eps=1e-05, elementwise_affine=True)\n",
       "          )\n",
       "        )\n",
       "      )\n",
       "    )\n",
       "  )\n",
       "  (text_decoder_postnet): SpeechT5TextDecoderPostnet(\n",
       "    (lm_head): Linear(in_features=768, out_features=81, bias=False)\n",
       "  )\n",
       ")"
      ]
     },
     "execution_count": 19,
     "metadata": {},
     "output_type": "execute_result"
    }
   ],
   "source": [
    "hf_model.eval()"
   ]
  },
  {
   "cell_type": "code",
   "execution_count": 33,
   "id": "09c1c4b9",
   "metadata": {},
   "outputs": [
    {
     "name": "stderr",
     "output_type": "stream",
     "text": [
      "Some weights of the model checkpoint at /Users/matthijs/Documents/FILES/HuggingFace/SpeechT5/weights/speecht5_base_asr were not used when initializing SpeechT5Model: ['speecht5.encoder.wrapped_encoder.layers.11.attention.v_proj.bias', 'speecht5.decoder.wrapped_decoder.layers.1.feed_forward.output_dense.weight', 'speecht5.encoder.wrapped_encoder.layers.6.feed_forward.intermediate_dense.weight', 'speecht5.encoder.wrapped_encoder.layers.9.attention.q_proj.bias', 'speecht5.decoder.wrapped_decoder.layers.3.self_attn_layer_norm.weight', 'speecht5.encoder.wrapped_encoder.layers.9.feed_forward.output_dense.bias', 'speecht5.decoder.prenet.embed_tokens.weight', 'speecht5.encoder.wrapped_encoder.layers.5.attention.q_proj.weight', 'speecht5.decoder.wrapped_decoder.layers.3.final_layer_norm.weight', 'speecht5.encoder.wrapped_encoder.layers.8.final_layer_norm.weight', 'speecht5.encoder.wrapped_encoder.layers.10.attention.q_proj.bias', 'speecht5.decoder.wrapped_decoder.layers.2.encoder_attn_layer_norm.weight', 'speecht5.encoder.wrapped_encoder.layers.0.attention.q_proj.weight', 'speecht5.decoder.wrapped_decoder.layers.3.self_attn.v_proj.bias', 'speecht5.encoder.prenet.pos_conv_embed.conv.weight_v', 'speecht5.encoder.wrapped_encoder.layers.3.feed_forward.intermediate_dense.weight', 'speecht5.decoder.wrapped_decoder.layers.1.self_attn.k_proj.weight', 'speecht5.decoder.wrapped_decoder.layers.2.feed_forward.intermediate_dense.weight', 'speecht5.encoder.wrapped_encoder.layers.3.feed_forward.output_dense.bias', 'speecht5.decoder.wrapped_decoder.layers.2.feed_forward.output_dense.bias', 'speecht5.encoder.wrapped_encoder.layers.3.attention.k_proj.bias', 'speecht5.encoder.wrapped_encoder.layers.5.layer_norm.weight', 'speecht5.encoder.wrapped_encoder.layers.7.attention.out_proj.bias', 'speecht5.encoder.wrapped_encoder.layers.4.feed_forward.intermediate_dense.bias', 'speecht5.decoder.wrapped_decoder.layers.2.self_attn.v_proj.bias', 'speecht5.encoder.wrapped_encoder.layers.11.feed_forward.output_dense.bias', 'speecht5.decoder.wrapped_decoder.layers.2.encoder_attn.q_proj.weight', 'speecht5.encoder.wrapped_encoder.layers.0.feed_forward.intermediate_dense.weight', 'speecht5.encoder.wrapped_encoder.layers.2.attention.out_proj.bias', 'speecht5.encoder.wrapped_encoder.layers.2.attention.q_proj.weight', 'speecht5.encoder.wrapped_encoder.layers.6.attention.out_proj.bias', 'speecht5.decoder.wrapped_decoder.layers.2.self_attn.v_proj.weight', 'speecht5.decoder.wrapped_decoder.layers.3.encoder_attn.v_proj.weight', 'speecht5.encoder.prenet.feature_encoder.conv_layers.3.conv.weight', 'speecht5.decoder.wrapped_decoder.layers.0.final_layer_norm.bias', 'speecht5.decoder.wrapped_decoder.layers.2.self_attn_layer_norm.weight', 'speecht5.encoder.wrapped_encoder.layers.0.feed_forward.output_dense.weight', 'speecht5.encoder.wrapped_encoder.layers.7.attention.k_proj.bias', 'speecht5.decoder.wrapped_decoder.layers.4.encoder_attn.out_proj.weight', 'speecht5.decoder.wrapped_decoder.layers.0.self_attn.out_proj.bias', 'speecht5.decoder.wrapped_decoder.layers.5.encoder_attn.q_proj.weight', 'speecht5.decoder.wrapped_decoder.layers.1.encoder_attn.k_proj.bias', 'speecht5.encoder.wrapped_encoder.layers.11.final_layer_norm.weight', 'speecht5.encoder.wrapped_encoder.layers.3.feed_forward.output_dense.weight', 'speecht5.decoder.wrapped_decoder.layers.4.feed_forward.intermediate_dense.weight', 'speecht5.decoder.wrapped_decoder.layers.0.self_attn_layer_norm.bias', 'speecht5.encoder.wrapped_encoder.layers.0.feed_forward.intermediate_dense.bias', 'speecht5.encoder.wrapped_encoder.layers.1.final_layer_norm.weight', 'speecht5.encoder.wrapped_encoder.layers.3.attention.q_proj.weight', 'speecht5.decoder.wrapped_decoder.layers.0.final_layer_norm.weight', 'speecht5.decoder.wrapped_decoder.layers.3.encoder_attn.k_proj.weight', 'speecht5.encoder.wrapped_encoder.layers.7.attention.v_proj.bias', 'speecht5.encoder.wrapped_encoder.layers.11.feed_forward.intermediate_dense.bias', 'speecht5.decoder.wrapped_decoder.layers.1.self_attn_layer_norm.bias', 'speecht5.decoder.wrapped_decoder.layers.0.self_attn.q_proj.weight', 'speecht5.decoder.wrapped_decoder.layers.0.encoder_attn.out_proj.bias', 'speecht5.decoder.wrapped_decoder.layers.1.feed_forward.intermediate_dense.bias', 'speecht5.encoder.wrapped_encoder.layers.11.layer_norm.bias', 'speecht5.decoder.wrapped_decoder.layers.0.encoder_attn_layer_norm.weight', 'speecht5.encoder.wrapped_encoder.layers.7.attention.v_proj.weight', 'speecht5.encoder.wrapped_encoder.layers.11.feed_forward.output_dense.weight', 'speecht5.decoder.wrapped_decoder.layers.0.encoder_attn.out_proj.weight', 'speecht5.encoder.wrapped_encoder.layers.0.layer_norm.weight', 'speecht5.encoder.wrapped_encoder.layers.1.attention.v_proj.bias', 'speecht5.decoder.wrapped_decoder.layers.5.self_attn.out_proj.weight', 'speecht5.decoder.wrapped_decoder.layers.5.encoder_attn_layer_norm.weight', 'speecht5.encoder.wrapped_encoder.layers.4.attention.q_proj.weight', 'speecht5.encoder.wrapped_encoder.layers.4.final_layer_norm.bias', 'speecht5.decoder.wrapped_decoder.layers.0.feed_forward.intermediate_dense.weight', 'speecht5.encoder.wrapped_encoder.layers.4.layer_norm.weight', 'speecht5.encoder.wrapped_encoder.layers.7.feed_forward.intermediate_dense.bias', 'speecht5.decoder.wrapped_decoder.layers.0.encoder_attn.v_proj.weight', 'speecht5.encoder.wrapped_encoder.layers.10.attention.k_proj.weight', 'speecht5.decoder.wrapped_decoder.layers.4.self_attn.k_proj.weight', 'speecht5.encoder.wrapped_encoder.layers.7.feed_forward.output_dense.weight', 'speecht5.encoder.wrapped_encoder.layers.2.layer_norm.weight', 'speecht5.encoder.wrapped_encoder.layers.2.final_layer_norm.weight', 'speecht5.decoder.wrapped_decoder.layers.3.self_attn_layer_norm.bias', 'speecht5.encoder.wrapped_encoder.layers.5.attention.k_proj.bias', 'speecht5.decoder.wrapped_decoder.layers.2.self_attn.q_proj.bias', 'speecht5.encoder.wrapped_encoder.layers.2.feed_forward.intermediate_dense.bias', 'speecht5.encoder.wrapped_encoder.layers.2.final_layer_norm.bias', 'speecht5.decoder.wrapped_decoder.layers.4.self_attn_layer_norm.weight', 'speecht5.encoder.wrapped_encoder.layers.4.attention.q_proj.bias', 'speecht5.encoder.wrapped_encoder.layers.9.final_layer_norm.weight', 'speecht5.decoder.wrapped_decoder.layers.2.self_attn.out_proj.weight', 'speecht5.decoder.wrapped_decoder.layers.0.feed_forward.output_dense.bias', 'speecht5.encoder.wrapped_encoder.layers.3.attention.k_proj.weight', 'speecht5.decoder.wrapped_decoder.layers.0.encoder_attn.q_proj.bias', 'speecht5.decoder.wrapped_decoder.layers.4.self_attn.out_proj.weight', 'speecht5.encoder.wrapped_encoder.layers.1.attention.out_proj.weight', 'speecht5.encoder.wrapped_encoder.layers.10.feed_forward.output_dense.bias', 'speecht5.encoder.prenet.feature_encoder.conv_layers.5.conv.weight', 'speecht5.encoder.wrapped_encoder.layers.1.attention.out_proj.bias', 'speecht5.decoder.wrapped_decoder.layers.4.encoder_attn.v_proj.weight', 'speecht5.encoder.wrapped_encoder.layers.6.feed_forward.output_dense.bias', 'speecht5.decoder.wrapped_decoder.layers.5.encoder_attn.k_proj.weight', 'speecht5.encoder.wrapped_encoder.layers.2.feed_forward.output_dense.weight', 'speecht5.decoder.wrapped_decoder.layers.5.encoder_attn.q_proj.bias', 'speecht5.decoder.wrapped_decoder.layers.3.feed_forward.intermediate_dense.bias', 'speecht5.encoder.wrapped_encoder.layers.1.feed_forward.intermediate_dense.weight', 'speecht5.decoder.wrapped_decoder.layers.0.self_attn.q_proj.bias', 'speecht5.encoder.wrapped_encoder.layers.4.layer_norm.bias', 'speecht5.encoder.wrapped_encoder.layers.3.attention.out_proj.weight', 'speecht5.encoder.wrapped_encoder.layers.1.feed_forward.output_dense.bias', 'speecht5.decoder.wrapped_decoder.layers.4.encoder_attn.out_proj.bias', 'speecht5.encoder.wrapped_encoder.layers.9.attention.k_proj.weight', 'speecht5.decoder.wrapped_decoder.layers.5.final_layer_norm.bias', 'speecht5.decoder.wrapped_decoder.layers.1.self_attn.out_proj.bias', 'speecht5.encoder.wrapped_encoder.layers.11.attention.q_proj.weight', 'speecht5.decoder.wrapped_decoder.layers.5.self_attn.v_proj.weight', 'speecht5.encoder.wrapped_encoder.layers.3.layer_norm.bias', 'speecht5.decoder.wrapped_decoder.layers.4.encoder_attn.q_proj.weight', 'speecht5.encoder.wrapped_encoder.layers.9.attention.out_proj.bias', 'speecht5.decoder.wrapped_decoder.layers.0.encoder_attn_layer_norm.bias', 'speecht5.decoder.wrapped_decoder.layers.5.feed_forward.intermediate_dense.bias', 'speecht5.decoder.wrapped_decoder.layers.5.encoder_attn.k_proj.bias', 'speecht5.encoder.wrapped_encoder.layers.8.attention.q_proj.weight', 'speecht5.decoder.wrapped_decoder.layers.1.encoder_attn.v_proj.weight', 'speecht5.encoder.prenet.feature_encoder.conv_layers.1.conv.weight', 'speecht5.encoder.wrapped_encoder.layers.4.attention.out_proj.bias', 'speecht5.encoder.wrapped_encoder.layers.7.attention.out_proj.weight', 'speecht5.encoder.wrapped_encoder.layers.1.attention.q_proj.weight', 'speecht5.decoder.wrapped_decoder.layers.0.encoder_attn.k_proj.weight', 'speecht5.decoder.wrapped_decoder.layers.5.self_attn_layer_norm.bias', 'speecht5.encoder.wrapped_encoder.layers.4.feed_forward.intermediate_dense.weight', 'speecht5.encoder.wrapped_encoder.layers.11.attention.v_proj.weight', 'speecht5.encoder.wrapped_encoder.layers.2.attention.k_proj.weight', 'speecht5.encoder.wrapped_encoder.layers.5.attention.v_proj.weight', 'speecht5.decoder.wrapped_decoder.layers.2.encoder_attn.v_proj.weight', 'speecht5.encoder.wrapped_encoder.layers.6.attention.v_proj.weight', 'speecht5.encoder.prenet.embed_positions.weights', 'speecht5.decoder.wrapped_decoder.layers.0.encoder_attn.q_proj.weight', 'speecht5.encoder.wrapped_encoder.layers.1.attention.q_proj.bias', 'speecht5.decoder.wrapped_decoder.layers.1.encoder_attn.out_proj.bias', 'speecht5.decoder.wrapped_decoder.layers.4.final_layer_norm.weight', 'speecht5.encoder.prenet.pos_conv_embed.conv.bias', 'speecht5.encoder.wrapped_encoder.layers.6.attention.q_proj.bias', 'speecht5.encoder.wrapped_encoder.layers.2.attention.v_proj.bias', 'speecht5.decoder.wrapped_decoder.layers.1.self_attn_layer_norm.weight', 'speecht5.encoder.wrapped_encoder.layers.3.attention.v_proj.bias', 'speecht5.encoder.wrapped_encoder.layers.8.attention.v_proj.bias', 'speecht5.encoder.wrapped_encoder.layers.1.feed_forward.intermediate_dense.bias', 'speecht5.encoder.wrapped_encoder.layers.7.attention.q_proj.weight', 'speecht5.decoder.wrapped_decoder.layers.5.encoder_attn.out_proj.weight', 'speecht5.encoder.wrapped_encoder.layers.7.final_layer_norm.weight', 'speecht5.decoder.wrapped_decoder.layers.1.encoder_attn_layer_norm.bias', 'speecht5.decoder.wrapped_decoder.layers.5.feed_forward.intermediate_dense.weight', 'speecht5.encoder.wrapped_encoder.layers.5.final_layer_norm.bias', 'speecht5.encoder.wrapped_encoder.embed_positions.pe_k.weight', 'speecht5.decoder.wrapped_decoder.layers.0.self_attn.v_proj.weight', 'speecht5.encoder.wrapped_encoder.layers.0.attention.out_proj.weight', 'speecht5.encoder.wrapped_encoder.layers.8.attention.q_proj.bias', 'speecht5.encoder.wrapped_encoder.layers.7.attention.q_proj.bias', 'speecht5.encoder.wrapped_encoder.layers.11.attention.k_proj.bias', 'speecht5.encoder.wrapped_encoder.layers.9.attention.out_proj.weight', 'speecht5.encoder.wrapped_encoder.layers.9.layer_norm.weight', 'speecht5.decoder.wrapped_decoder.layers.1.self_attn.v_proj.weight', 'speecht5.encoder.wrapped_encoder.layers.11.attention.out_proj.bias', 'speecht5.encoder.wrapped_encoder.layers.5.final_layer_norm.weight', 'speecht5.encoder.wrapped_encoder.layers.7.layer_norm.weight', 'speecht5.decoder.wrapped_decoder.layers.0.self_attn.out_proj.weight', 'speecht5.encoder.wrapped_encoder.layers.6.layer_norm.bias', 'speecht5.encoder.wrapped_encoder.layers.0.final_layer_norm.weight', 'speecht5.decoder.wrapped_decoder.layers.2.self_attn.k_proj.weight', 'speecht5.encoder.wrapped_encoder.layers.11.layer_norm.weight', 'speecht5.encoder.wrapped_encoder.layers.2.attention.k_proj.bias', 'speecht5.encoder.wrapped_encoder.layers.7.feed_forward.intermediate_dense.weight', 'speecht5.decoder.wrapped_decoder.layers.5.feed_forward.output_dense.weight', 'speecht5.encoder.wrapped_encoder.layers.3.attention.q_proj.bias', 'speecht5.encoder.wrapped_encoder.layers.1.attention.k_proj.weight', 'speecht5.encoder.wrapped_encoder.layers.1.attention.k_proj.bias', 'speecht5.encoder.wrapped_encoder.layers.5.layer_norm.bias', 'speecht5.decoder.wrapped_decoder.layers.4.final_layer_norm.bias', 'speecht5.decoder.wrapped_decoder.layers.4.self_attn.v_proj.bias', 'speecht5.decoder.wrapped_decoder.layers.5.self_attn.q_proj.bias', 'speecht5.encoder.wrapped_encoder.layers.11.attention.out_proj.weight', 'speecht5.decoder.wrapped_decoder.layers.2.encoder_attn.q_proj.bias', 'speecht5.encoder.wrapped_encoder.layers.2.feed_forward.intermediate_dense.weight', 'speecht5.encoder.wrapped_encoder.layers.3.final_layer_norm.weight', 'speecht5.decoder.wrapped_decoder.layers.1.encoder_attn.out_proj.weight', 'speecht5.decoder.wrapped_decoder.layers.4.encoder_attn.v_proj.bias', 'speecht5.encoder.wrapped_encoder.layers.0.final_layer_norm.bias', 'speecht5.encoder.wrapped_encoder.layers.10.final_layer_norm.bias', 'speecht5.encoder.wrapped_encoder.layers.10.feed_forward.intermediate_dense.bias', 'speecht5.encoder.wrapped_encoder.layers.10.attention.v_proj.weight', 'speecht5.encoder.wrapped_encoder.layers.0.attention.k_proj.weight', 'speecht5.decoder.wrapped_decoder.layers.1.self_attn.out_proj.weight', 'speecht5.decoder.wrapped_decoder.layers.2.final_layer_norm.bias', 'speecht5.decoder.wrapped_decoder.layers.2.feed_forward.intermediate_dense.bias', 'speecht5.encoder.wrapped_encoder.layers.3.attention.v_proj.weight', 'speecht5.decoder.wrapped_decoder.layers.5.self_attn.k_proj.weight', 'speecht5.encoder.wrapped_encoder.layers.1.feed_forward.output_dense.weight', 'speecht5.encoder.wrapped_encoder.layers.5.feed_forward.intermediate_dense.weight', 'speecht5.encoder.wrapped_encoder.layers.5.attention.out_proj.bias', 'speecht5.encoder.wrapped_encoder.layers.8.attention.k_proj.weight', 'speecht5.decoder.wrapped_decoder.layers.5.self_attn.q_proj.weight', 'speecht5.decoder.wrapped_decoder.layers.1.final_layer_norm.bias', 'speecht5.decoder.wrapped_decoder.layers.4.feed_forward.output_dense.weight', 'speecht5.encoder.wrapped_encoder.layers.2.attention.v_proj.weight', 'speecht5.encoder.wrapped_encoder.layers.5.attention.q_proj.bias', 'speecht5.encoder.wrapped_encoder.layers.0.attention.q_proj.bias', 'speecht5.encoder.wrapped_encoder.layers.4.attention.out_proj.weight', 'speecht5.decoder.wrapped_decoder.layers.3.encoder_attn.out_proj.weight', 'speecht5.decoder.wrapped_decoder.layers.3.encoder_attn_layer_norm.weight', 'speecht5.decoder.wrapped_decoder.layers.0.self_attn.k_proj.weight', 'speecht5.encoder.wrapped_encoder.layers.10.attention.v_proj.bias', 'speecht5.encoder.wrapped_encoder.layers.4.final_layer_norm.weight', 'speecht5.encoder.prenet.feature_encoder.conv_layers.4.conv.weight', 'speecht5.decoder.wrapped_decoder.layers.3.self_attn.k_proj.bias', 'speecht5.encoder.wrapped_encoder.layers.3.feed_forward.intermediate_dense.bias', 'speecht5.encoder.wrapped_encoder.layers.2.layer_norm.bias', 'speecht5.encoder.wrapped_encoder.layers.8.feed_forward.intermediate_dense.bias', 'speecht5.encoder.wrapped_encoder.layers.8.attention.out_proj.weight', 'speecht5.decoder.wrapped_decoder.layers.1.encoder_attn.q_proj.bias', 'speecht5.encoder.wrapped_encoder.layers.4.feed_forward.output_dense.weight', 'speecht5.encoder.prenet.feature_projection.projection.bias', 'speecht5.encoder.wrapped_encoder.layers.9.feed_forward.intermediate_dense.bias', 'speecht5.encoder.wrapped_encoder.layers.8.feed_forward.output_dense.weight', 'speecht5.encoder.wrapped_encoder.layers.8.feed_forward.output_dense.bias', 'speecht5.decoder.wrapped_decoder.layers.2.encoder_attn.k_proj.bias', 'speecht5.decoder.wrapped_decoder.layers.4.self_attn.q_proj.bias', 'speecht5.encoder.wrapped_encoder.layers.6.attention.k_proj.bias', 'speecht5.decoder.wrapped_decoder.layers.3.self_attn.v_proj.weight', 'speecht5.encoder.wrapped_encoder.layer_norm.weight', 'speecht5.decoder.wrapped_decoder.layers.5.feed_forward.output_dense.bias', 'speecht5.encoder.wrapped_encoder.layers.5.attention.out_proj.weight', 'speecht5.encoder.wrapped_encoder.layers.2.attention.q_proj.bias', 'speecht5.encoder.wrapped_encoder.layers.0.attention.v_proj.bias', 'speecht5.encoder.wrapped_encoder.layers.10.layer_norm.weight', 'speecht5.encoder.prenet.feature_projection.projection.weight', 'speecht5.encoder.wrapped_encoder.layers.1.layer_norm.weight', 'speecht5.decoder.wrapped_decoder.layers.3.self_attn.q_proj.weight', 'speecht5.encoder.wrapped_encoder.layers.5.feed_forward.intermediate_dense.bias', 'speecht5.encoder.wrapped_encoder.layers.6.final_layer_norm.bias', 'speecht5.encoder.wrapped_encoder.layers.0.attention.k_proj.bias', 'speecht5.encoder.wrapped_encoder.layers.7.attention.k_proj.weight', 'speecht5.encoder.wrapped_encoder.layers.10.feed_forward.intermediate_dense.weight', 'speecht5.encoder.wrapped_encoder.layers.8.final_layer_norm.bias', 'speecht5.decoder.wrapped_decoder.layers.2.feed_forward.output_dense.weight', 'speecht5.encoder.wrapped_encoder.layers.1.attention.v_proj.weight', 'speecht5.decoder.wrapped_decoder.layers.3.feed_forward.output_dense.weight', 'speecht5.encoder.wrapped_encoder.layers.11.final_layer_norm.bias', 'speecht5.decoder.wrapped_decoder.layers.4.encoder_attn.q_proj.bias', 'speecht5.encoder.wrapped_encoder.layers.9.attention.q_proj.weight', 'speecht5.encoder.wrapped_encoder.layers.4.feed_forward.output_dense.bias', 'speecht5.decoder.wrapped_decoder.layers.3.encoder_attn.q_proj.bias', 'speecht5.encoder.wrapped_encoder.layers.10.attention.out_proj.bias', 'speecht5.decoder.wrapped_decoder.layers.1.self_attn.q_proj.bias', 'speecht5.decoder.wrapped_decoder.layers.3.encoder_attn.q_proj.weight', 'speecht5.decoder.wrapped_decoder.layers.2.encoder_attn.v_proj.bias', 'speecht5.encoder.prenet.feature_encoder.conv_layers.0.layer_norm.bias', 'speecht5.decoder.wrapped_decoder.layers.2.encoder_attn.out_proj.weight', 'speecht5.decoder.wrapped_decoder.layers.4.feed_forward.output_dense.bias', 'speecht5.encoder.wrapped_encoder.layers.8.attention.v_proj.weight', 'speecht5.decoder.wrapped_decoder.layers.5.encoder_attn.v_proj.weight', 'speecht5.encoder.prenet.feature_encoder.conv_layers.0.layer_norm.weight', 'speecht5.encoder.wrapped_encoder.layers.0.feed_forward.output_dense.bias', 'speecht5.decoder.wrapped_decoder.layers.0.feed_forward.output_dense.weight', 'speecht5.decoder.wrapped_decoder.layers.1.final_layer_norm.weight', 'speecht5.encoder.wrapped_encoder.layers.11.attention.k_proj.weight', 'speecht5.encoder.wrapped_encoder.layers.5.attention.k_proj.weight', 'speecht5.encoder.wrapped_encoder.layers.10.attention.k_proj.bias', 'speecht5.decoder.wrapped_decoder.layers.2.encoder_attn.k_proj.weight', 'speecht5.decoder.wrapped_decoder.layers.2.final_layer_norm.weight', 'speecht5.encoder.wrapped_encoder.layers.4.attention.v_proj.weight', 'speecht5.encoder.wrapped_encoder.layers.11.feed_forward.intermediate_dense.weight', 'speecht5.encoder.wrapped_encoder.layers.8.attention.k_proj.bias', 'speecht5.encoder.wrapped_encoder.layers.9.feed_forward.output_dense.weight', 'speecht5.encoder.wrapped_encoder.layers.10.feed_forward.output_dense.weight', 'speecht5.encoder.wrapped_encoder.layers.1.final_layer_norm.bias', 'speecht5.encoder.wrapped_encoder.layers.6.layer_norm.weight', 'speecht5.encoder.wrapped_encoder.layers.10.final_layer_norm.weight', 'speecht5.decoder.wrapped_decoder.layers.4.encoder_attn_layer_norm.bias', 'speecht5.decoder.wrapped_decoder.layers.0.encoder_attn.k_proj.bias', 'speecht5.decoder.wrapped_decoder.layers.1.self_attn.v_proj.bias', 'speecht5.decoder.wrapped_decoder.layers.4.self_attn_layer_norm.bias', 'speecht5.decoder.wrapped_decoder.layers.4.encoder_attn.k_proj.bias', 'speecht5.decoder.wrapped_decoder.layers.4.self_attn.v_proj.weight', 'speecht5.encoder.wrapped_encoder.layers.9.attention.k_proj.bias', 'speecht5.encoder.prenet.feature_encoder.conv_layers.0.conv.weight', 'speecht5.encoder.wrapped_encoder.layers.2.attention.out_proj.weight', 'speecht5.encoder.wrapped_encoder.layers.10.layer_norm.bias', 'speecht5.decoder.wrapped_decoder.layers.4.feed_forward.intermediate_dense.bias', 'speecht5.encoder.wrapped_encoder.layers.5.attention.v_proj.bias', 'speecht5.encoder.wrapped_encoder.layers.8.layer_norm.weight', 'speecht5.decoder.wrapped_decoder.layers.1.encoder_attn.k_proj.weight', 'speecht5.decoder.wrapped_decoder.layers.4.self_attn.k_proj.bias', 'speecht5.encoder.wrapped_encoder.layers.6.attention.q_proj.weight', 'speecht5.decoder.wrapped_decoder.layers.0.encoder_attn.v_proj.bias', 'speecht5.encoder.wrapped_encoder.layers.6.feed_forward.output_dense.weight', 'speecht5.decoder.wrapped_decoder.layers.5.final_layer_norm.weight', 'speecht5.encoder.wrapped_encoder.layers.3.attention.out_proj.bias', 'speecht5.decoder.wrapped_decoder.layers.1.feed_forward.output_dense.bias', 'speecht5.encoder.wrapped_encoder.layers.3.final_layer_norm.bias', 'speecht5.decoder.wrapped_decoder.layers.0.self_attn.k_proj.bias', 'speecht5.encoder.wrapped_encoder.layers.7.feed_forward.output_dense.bias', 'speecht5.encoder.wrapped_encoder.layers.4.attention.v_proj.bias', 'speecht5.encoder.wrapped_encoder.layers.2.feed_forward.output_dense.bias', 'speecht5.encoder.wrapped_encoder.layers.10.attention.q_proj.weight', 'speecht5.decoder.wrapped_decoder.layers.2.self_attn.out_proj.bias', 'speecht5.decoder.wrapped_decoder.layers.5.encoder_attn_layer_norm.bias', 'speecht5.decoder.wrapped_decoder.layers.3.encoder_attn.out_proj.bias', 'speecht5.decoder.wrapped_decoder.layers.1.encoder_attn.q_proj.weight', 'speecht5.encoder.wrapped_encoder.layers.3.layer_norm.weight', 'speecht5.encoder.wrapped_encoder.layers.10.attention.out_proj.weight', 'speecht5.encoder.wrapped_encoder.layers.9.attention.v_proj.weight', 'speecht5.decoder.wrapped_decoder.layers.4.encoder_attn.k_proj.weight', 'speecht5.decoder.wrapped_decoder.layers.3.final_layer_norm.bias', 'speecht5.decoder.wrapped_decoder.layers.0.self_attn.v_proj.bias', 'speecht5.decoder.wrapped_decoder.layers.5.self_attn.k_proj.bias', 'speecht5.decoder.wrapped_decoder.layers.5.encoder_attn.out_proj.bias', 'speecht5.decoder.wrapped_decoder.layers.1.encoder_attn.v_proj.bias', 'speecht5.decoder.wrapped_decoder.layers.5.self_attn_layer_norm.weight', 'text_decoder_postnet.lm_head.weight', 'speecht5.encoder.wrapped_encoder.layers.1.layer_norm.bias', 'speecht5.decoder.wrapped_decoder.layers.3.self_attn.q_proj.bias', 'speecht5.encoder.wrapped_encoder.layers.6.attention.out_proj.weight', 'speecht5.decoder.wrapped_decoder.layers.2.encoder_attn.out_proj.bias', 'speecht5.encoder.wrapped_encoder.layers.9.layer_norm.bias', 'speecht5.encoder.wrapped_encoder.layers.6.attention.v_proj.bias', 'speecht5.decoder.wrapped_decoder.layers.4.self_attn.out_proj.bias', 'speecht5.encoder.wrapped_encoder.layers.8.layer_norm.bias', 'speecht5.encoder.wrapped_encoder.layers.7.final_layer_norm.bias', 'speecht5.decoder.wrapped_decoder.layers.2.self_attn.q_proj.weight', 'speecht5.decoder.wrapped_decoder.layers.0.self_attn_layer_norm.weight', 'speecht5.decoder.wrapped_decoder.layers.3.encoder_attn.k_proj.bias', 'speecht5.encoder.wrapped_encoder.layers.9.feed_forward.intermediate_dense.weight', 'speecht5.encoder.wrapped_encoder.layers.6.attention.k_proj.weight', 'speecht5.encoder.prenet.pos_conv_embed.conv.weight_g', 'speecht5.encoder.wrapped_encoder.layers.5.feed_forward.output_dense.weight', 'speecht5.decoder.wrapped_decoder.layers.3.encoder_attn.v_proj.bias', 'speecht5.encoder.wrapped_encoder.layers.6.feed_forward.intermediate_dense.bias', 'speecht5.decoder.wrapped_decoder.layers.3.self_attn.out_proj.bias', 'speecht5.decoder.wrapped_decoder.layers.4.encoder_attn_layer_norm.weight', 'speecht5.encoder.prenet.feature_encoder.conv_layers.6.conv.weight', 'speecht5.decoder.wrapped_decoder.layers.1.self_attn.k_proj.bias', 'speecht5.decoder.wrapped_decoder.layers.1.encoder_attn_layer_norm.weight', 'speecht5.decoder.prenet.embed_positions.weights', 'speecht5.encoder.wrapped_encoder.layers.4.attention.k_proj.bias', 'speecht5.decoder.wrapped_decoder.layers.1.feed_forward.intermediate_dense.weight', 'speecht5.encoder.wrapped_encoder.layers.8.attention.out_proj.bias', 'speecht5.decoder.wrapped_decoder.layers.3.self_attn.k_proj.weight', 'speecht5.encoder.wrapped_encoder.layers.8.feed_forward.intermediate_dense.weight', 'speecht5.encoder.wrapped_encoder.layers.0.attention.v_proj.weight', 'speecht5.decoder.wrapped_decoder.layers.2.encoder_attn_layer_norm.bias', 'speecht5.decoder.wrapped_decoder.layers.3.feed_forward.output_dense.bias', 'speecht5.encoder.wrapped_encoder.layers.9.final_layer_norm.bias', 'speecht5.decoder.wrapped_decoder.layers.0.feed_forward.intermediate_dense.bias', 'speecht5.encoder.prenet.feature_projection.layer_norm.bias', 'speecht5.encoder.wrapped_encoder.layers.4.attention.k_proj.weight', 'speecht5.decoder.wrapped_decoder.layers.2.self_attn.k_proj.bias', 'speecht5.encoder.wrapped_encoder.layers.7.layer_norm.bias', 'speecht5.encoder.wrapped_encoder.layers.0.layer_norm.bias', 'speecht5.decoder.wrapped_decoder.layers.5.self_attn.out_proj.bias', 'speecht5.encoder.prenet.feature_encoder.conv_layers.2.conv.weight', 'speecht5.encoder.wrapped_encoder.layers.0.attention.out_proj.bias', 'speecht5.decoder.wrapped_decoder.layers.3.encoder_attn_layer_norm.bias', 'speecht5.encoder.wrapped_encoder.layer_norm.bias', 'speecht5.encoder.wrapped_encoder.layers.6.final_layer_norm.weight', 'speecht5.decoder.wrapped_decoder.layers.2.self_attn_layer_norm.bias', 'speecht5.decoder.wrapped_decoder.layers.4.self_attn.q_proj.weight', 'speecht5.encoder.wrapped_encoder.layers.11.attention.q_proj.bias', 'speecht5.decoder.wrapped_decoder.layers.5.encoder_attn.v_proj.bias', 'speecht5.decoder.wrapped_decoder.layers.3.feed_forward.intermediate_dense.weight', 'speecht5.decoder.wrapped_decoder.layers.1.self_attn.q_proj.weight', 'speecht5.decoder.wrapped_decoder.layers.3.self_attn.out_proj.weight', 'speecht5.decoder.wrapped_decoder.layers.5.self_attn.v_proj.bias', 'speecht5.encoder.prenet.feature_projection.layer_norm.weight', 'speecht5.encoder.prenet.masked_spec_embed', 'speecht5.encoder.wrapped_encoder.layers.9.attention.v_proj.bias', 'speecht5.encoder.wrapped_encoder.layers.5.feed_forward.output_dense.bias']\n",
      "- This IS expected if you are initializing SpeechT5Model from the checkpoint of a model trained on another task or with another architecture (e.g. initializing a BertForSequenceClassification model from a BertForPreTraining model).\n",
      "- This IS NOT expected if you are initializing SpeechT5Model from the checkpoint of a model that you expect to be exactly identical (initializing a BertForSequenceClassification model from a BertForSequenceClassification model).\n"
     ]
    },
    {
     "name": "stderr",
     "output_type": "stream",
     "text": [
      "Some weights of SpeechT5Model were not initialized from the model checkpoint at /Users/matthijs/Documents/FILES/HuggingFace/SpeechT5/weights/speecht5_base_asr and are newly initialized: ['speecht5.encoder.layers.1.feed_forward.intermediate_dense.weight', 'speecht5.decoder.layers.5.feed_forward.intermediate_dense.weight', 'speecht5.encoder.layers.4.attention.v_proj.weight', 'speecht5.encoder.layers.5.attention.k_proj.weight', 'speecht5.encoder.layers.2.attention.out_proj.weight', 'speecht5.decoder.layers.2.self_attn.v_proj.weight', 'speecht5.encoder.layers.8.final_layer_norm.weight', 'speecht5.decoder.layers.3.encoder_attn.q_proj.bias', 'speecht5.encoder.layers.3.attention.k_proj.weight', 'speecht5.encoder.layers.0.final_layer_norm.bias', 'speecht5.decoder.layers.0.encoder_attn.k_proj.bias', 'speecht5.encoder.layers.6.attention.q_proj.weight', 'speecht5.encoder.layers.7.attention.k_proj.bias', 'speecht5.encoder.layers.10.feed_forward.intermediate_dense.weight', 'speecht5.encoder.layers.0.layer_norm.weight', 'speecht5.encoder.layers.0.attention.k_proj.bias', 'speecht5.encoder.layers.7.layer_norm.weight', 'speecht5.encoder.layers.3.attention.q_proj.bias', 'speecht5.decoder.layers.4.self_attn_layer_norm.weight', 'speecht5.encoder.layers.7.feed_forward.output_dense.weight', 'speecht5.decoder.layers.4.self_attn.out_proj.weight', 'speecht5.decoder.layers.4.encoder_attn.v_proj.bias', 'speecht5.encoder.layers.1.attention.out_proj.weight', 'speecht5.decoder.layers.5.feed_forward.output_dense.bias', 'speecht5.decoder.layers.0.self_attn.k_proj.bias', 'speecht5.decoder.layers.3.encoder_attn.k_proj.bias', 'speecht5.encoder.layers.11.feed_forward.intermediate_dense.weight', 'speecht5.decoder.layers.4.encoder_attn.k_proj.bias', 'speecht5.decoder.layers.5.self_attn_layer_norm.bias', 'speecht5.decoder.layers.2.self_attn.out_proj.bias', 'speecht5.decoder.layers.3.encoder_attn.out_proj.bias', 'speecht5.decoder.layers.5.encoder_attn.v_proj.weight', 'speecht5.encoder.layers.11.attention.q_proj.bias', 'speecht5.encoder.layers.6.feed_forward.output_dense.bias', 'speecht5.decoder.layers.4.self_attn_layer_norm.bias', 'speecht5.decoder.layers.3.encoder_attn.v_proj.weight', 'speecht5.decoder.layers.1.self_attn.out_proj.bias', 'speecht5.decoder.layers.1.encoder_attn.k_proj.weight', 'speecht5.decoder.layers.3.feed_forward.output_dense.bias', 'speecht5.encoder.layers.8.layer_norm.bias', 'speecht5.encoder.layers.2.final_layer_norm.bias', 'speecht5.encoder.layers.11.attention.k_proj.weight', 'speecht5.decoder.layers.2.encoder_attn_layer_norm.bias', 'speecht5.decoder.layers.4.feed_forward.intermediate_dense.bias', 'speecht5.encoder.layers.9.feed_forward.intermediate_dense.bias', 'speecht5.encoder.layers.7.final_layer_norm.weight', 'speecht5.decoder.layers.2.encoder_attn_layer_norm.weight', 'speecht5.encoder.layers.11.attention.out_proj.weight', 'speecht5.encoder.layers.11.layer_norm.weight', 'speecht5.encoder.layers.9.attention.k_proj.weight', 'speecht5.encoder.layers.0.attention.v_proj.weight', 'speecht5.encoder.layers.1.attention.k_proj.bias', 'speecht5.encoder.layers.10.attention.v_proj.weight', 'speecht5.decoder.layers.4.encoder_attn.v_proj.weight', 'speecht5.decoder.layers.1.feed_forward.output_dense.bias', 'speecht5.encoder.layers.3.layer_norm.bias', 'speecht5.encoder.layers.7.attention.out_proj.bias', 'speecht5.encoder.layers.8.attention.k_proj.bias', 'speecht5.encoder.layers.9.final_layer_norm.weight', 'speecht5.encoder.layers.0.attention.q_proj.bias', 'speecht5.encoder.layers.7.attention.out_proj.weight', 'speecht5.decoder.layers.5.encoder_attn.k_proj.weight', 'speecht5.encoder.layers.3.feed_forward.output_dense.weight', 'speecht5.decoder.layers.3.self_attn.q_proj.bias', 'speecht5.encoder.layers.2.feed_forward.intermediate_dense.bias', 'speecht5.decoder.layers.2.encoder_attn.v_proj.bias', 'speecht5.encoder.layers.4.feed_forward.intermediate_dense.bias', 'speecht5.decoder.layers.5.self_attn_layer_norm.weight', 'speecht5.encoder.layers.1.attention.v_proj.weight', 'speecht5.encoder.layers.5.final_layer_norm.weight', 'speecht5.encoder.layers.9.attention.q_proj.bias', 'speecht5.encoder.layers.0.layer_norm.bias', 'speecht5.encoder.layers.10.final_layer_norm.bias', 'speecht5.decoder.layers.1.self_attn_layer_norm.bias', 'speecht5.encoder.layers.3.attention.out_proj.weight', 'speecht5.decoder.layers.3.self_attn.k_proj.bias', 'speecht5.decoder.layers.4.self_attn.out_proj.bias', 'speecht5.decoder.layers.4.encoder_attn.k_proj.weight', 'speecht5.decoder.layers.3.feed_forward.output_dense.weight', 'speecht5.encoder.layers.2.feed_forward.output_dense.weight', 'speecht5.decoder.layers.5.self_attn.k_proj.weight', 'speecht5.decoder.layers.1.feed_forward.output_dense.weight', 'speecht5.decoder.layers.2.encoder_attn.k_proj.bias', 'speecht5.decoder.layers.4.self_attn.q_proj.weight', 'speecht5.encoder.layers.7.attention.q_proj.bias', 'speecht5.encoder.layers.8.feed_forward.intermediate_dense.bias', 'speecht5.decoder.layers.5.final_layer_norm.weight', 'speecht5.encoder.layers.1.attention.q_proj.bias', 'speecht5.decoder.layers.0.self_attn.q_proj.bias', 'speecht5.decoder.layers.2.self_attn.k_proj.bias', 'speecht5.decoder.layers.3.self_attn_layer_norm.bias', 'speecht5.encoder.layers.0.final_layer_norm.weight', 'speecht5.decoder.layers.3.encoder_attn_layer_norm.weight', 'speecht5.encoder.layers.6.attention.k_proj.weight', 'speecht5.encoder.layers.8.attention.out_proj.weight', 'speecht5.encoder.layer_norm.bias', 'speecht5.decoder.layers.1.encoder_attn_layer_norm.bias', 'speecht5.encoder.layers.2.attention.v_proj.weight', 'speecht5.decoder.layers.0.encoder_attn.v_proj.bias', 'speecht5.encoder.layers.2.attention.k_proj.bias', 'speecht5.decoder.layers.5.feed_forward.output_dense.weight', 'speecht5.encoder.layers.1.attention.out_proj.bias', 'speecht5.encoder.layers.0.attention.v_proj.bias', 'speecht5.encoder.layers.5.attention.v_proj.bias', 'speecht5.decoder.layers.3.final_layer_norm.bias', 'speecht5.encoder.layers.11.feed_forward.output_dense.weight', 'speecht5.decoder.layers.5.final_layer_norm.bias', 'speecht5.encoder.layers.6.attention.out_proj.weight', 'speecht5.decoder.layers.1.self_attn.v_proj.weight', 'speecht5.decoder.layers.5.self_attn.k_proj.bias', 'speecht5.encoder.layers.9.attention.out_proj.weight', 'speecht5.encoder.layers.3.final_layer_norm.bias', 'speecht5.encoder.layers.11.attention.k_proj.bias', 'speecht5.encoder.layers.7.final_layer_norm.bias', 'speecht5.encoder.layers.10.attention.q_proj.bias', 'speecht5.decoder.layers.1.encoder_attn.q_proj.bias', 'speecht5.decoder.layers.3.self_attn.q_proj.weight', 'speecht5.decoder.layers.1.encoder_attn.v_proj.weight', 'speecht5.encoder.layers.8.attention.q_proj.bias', 'speecht5.decoder.layers.5.encoder_attn.q_proj.weight', 'speecht5.encoder.layers.0.attention.q_proj.weight', 'speecht5.encoder.layers.5.layer_norm.bias', 'speecht5.decoder.layers.4.feed_forward.intermediate_dense.weight', 'speecht5.decoder.layers.0.encoder_attn.out_proj.bias', 'speecht5.encoder.layers.5.feed_forward.intermediate_dense.bias', 'speecht5.decoder.layers.5.self_attn.v_proj.weight', 'speecht5.encoder.layers.8.attention.q_proj.weight', 'speecht5.encoder.layers.4.attention.out_proj.bias', 'speecht5.decoder.layers.2.self_attn.q_proj.bias', 'speecht5.encoder.layers.4.feed_forward.intermediate_dense.weight', 'speecht5.decoder.layers.0.final_layer_norm.weight', 'speecht5.decoder.layers.5.encoder_attn.out_proj.bias', 'speecht5.encoder.layers.4.feed_forward.output_dense.weight', 'speecht5.decoder.layers.0.self_attn_layer_norm.weight', 'speecht5.encoder.layers.4.attention.q_proj.bias', 'speecht5.decoder.layers.2.self_attn.q_proj.weight', 'speecht5.encoder.layers.5.feed_forward.output_dense.bias', 'speecht5.decoder.layers.3.feed_forward.intermediate_dense.weight', 'speecht5.decoder.layers.5.self_attn.out_proj.bias', 'speecht5.decoder.layers.2.encoder_attn.v_proj.weight', 'speecht5.encoder.layers.7.attention.k_proj.weight', 'speecht5.encoder.layers.10.attention.out_proj.weight', 'speecht5.encoder.layers.2.feed_forward.output_dense.bias', 'speecht5.encoder.layers.4.attention.v_proj.bias', 'speecht5.encoder.layers.6.layer_norm.bias', 'speecht5.decoder.layers.1.encoder_attn_layer_norm.weight', 'speecht5.decoder.layers.1.self_attn_layer_norm.weight', 'speecht5.encoder.layers.10.attention.q_proj.weight', 'speecht5.decoder.layers.2.feed_forward.intermediate_dense.bias', 'speecht5.encoder.layers.3.final_layer_norm.weight', 'speecht5.encoder.layers.10.feed_forward.output_dense.bias', 'speecht5.decoder.layers.0.final_layer_norm.bias', 'speecht5.encoder.layer_norm.weight', 'speecht5.encoder.layers.8.final_layer_norm.bias', 'speecht5.decoder.layers.1.self_attn.k_proj.weight', 'speecht5.encoder.layers.7.attention.v_proj.weight', 'speecht5.encoder.layers.0.feed_forward.intermediate_dense.weight', 'speecht5.encoder.layers.0.attention.out_proj.weight', 'speecht5.decoder.layers.3.self_attn.out_proj.weight', 'speecht5.decoder.layers.4.self_attn.v_proj.weight', 'speecht5.encoder.layers.9.layer_norm.weight', 'speecht5.encoder.layers.2.layer_norm.bias', 'speecht5.decoder.layers.2.self_attn.k_proj.weight', 'speecht5.encoder.layers.10.final_layer_norm.weight', 'speecht5.decoder.layers.1.encoder_attn.v_proj.bias', 'speecht5.decoder.layers.2.self_attn_layer_norm.weight', 'speecht5.decoder.layers.1.self_attn.q_proj.bias', 'speecht5.encoder.layers.9.attention.v_proj.bias', 'speecht5.decoder.layers.0.self_attn.out_proj.bias', 'speecht5.decoder.layers.3.self_attn_layer_norm.weight', 'speecht5.encoder.layers.5.attention.q_proj.weight', 'speecht5.encoder.layers.9.feed_forward.output_dense.bias', 'speecht5.encoder.layers.3.attention.v_proj.weight', 'speecht5.encoder.layers.3.attention.out_proj.bias', 'speecht5.encoder.layers.2.attention.out_proj.bias', 'speecht5.decoder.layers.2.encoder_attn.k_proj.weight', 'speecht5.decoder.layers.5.encoder_attn.out_proj.weight', 'speecht5.encoder.layers.9.final_layer_norm.bias', 'speecht5.encoder.layers.10.layer_norm.weight', 'speecht5.decoder.layers.5.encoder_attn.q_proj.bias', 'speecht5.decoder.layers.2.self_attn_layer_norm.bias', 'speecht5.decoder.layers.2.feed_forward.output_dense.bias', 'speecht5.decoder.layers.0.encoder_attn.k_proj.weight', 'speecht5.decoder.layers.2.encoder_attn.out_proj.weight', 'speecht5.decoder.layers.4.final_layer_norm.weight', 'speecht5.decoder.layers.1.feed_forward.intermediate_dense.weight', 'speecht5.decoder.layers.1.self_attn.v_proj.bias', 'speecht5.encoder.layers.6.layer_norm.weight', 'speecht5.encoder.layers.5.feed_forward.intermediate_dense.weight', 'speecht5.decoder.layers.4.encoder_attn_layer_norm.weight', 'speecht5.encoder.layers.1.layer_norm.weight', 'speecht5.encoder.layers.5.layer_norm.weight', 'speecht5.encoder.layers.1.attention.v_proj.bias', 'speecht5.encoder.layers.10.attention.k_proj.bias', 'speecht5.decoder.layers.0.feed_forward.output_dense.weight', 'speecht5.decoder.layers.0.feed_forward.intermediate_dense.weight', 'speecht5.decoder.layers.1.encoder_attn.out_proj.bias', 'speecht5.encoder.layers.4.attention.q_proj.weight', 'speecht5.encoder.layers.6.feed_forward.intermediate_dense.bias', 'speecht5.decoder.layers.5.self_attn.v_proj.bias', 'speecht5.encoder.layers.10.feed_forward.output_dense.weight', 'speecht5.decoder.layers.4.encoder_attn_layer_norm.bias', 'speecht5.decoder.layers.0.encoder_attn.out_proj.weight', 'speecht5.encoder.layers.8.layer_norm.weight', 'speecht5.encoder.layers.10.feed_forward.intermediate_dense.bias', 'speecht5.decoder.layers.3.final_layer_norm.weight', 'speecht5.encoder.layers.2.layer_norm.weight', 'speecht5.encoder.layers.2.final_layer_norm.weight', 'speecht5.encoder.layers.0.attention.out_proj.bias', 'speecht5.encoder.layers.9.attention.q_proj.weight', 'speecht5.encoder.layers.2.feed_forward.intermediate_dense.weight', 'speecht5.encoder.layers.11.attention.v_proj.bias', 'speecht5.encoder.layers.8.attention.k_proj.weight', 'speecht5.encoder.layers.10.layer_norm.bias', 'speecht5.decoder.layers.2.self_attn.v_proj.bias', 'speecht5.decoder.layers.0.self_attn.k_proj.weight', 'speecht5.decoder.layers.2.feed_forward.intermediate_dense.weight', 'speecht5.decoder.layers.3.encoder_attn.k_proj.weight', 'speecht5.decoder.layers.5.feed_forward.intermediate_dense.bias', 'speecht5.encoder.layers.7.feed_forward.intermediate_dense.bias', 'speecht5.encoder.layers.5.attention.out_proj.bias', 'speecht5.decoder.layers.2.encoder_attn.q_proj.bias', 'speecht5.encoder.layers.11.attention.out_proj.bias', 'speecht5.encoder.layers.5.final_layer_norm.bias', 'speecht5.encoder.layers.4.attention.out_proj.weight', 'speecht5.decoder.layers.1.self_attn.out_proj.weight', 'speecht5.encoder.layers.11.layer_norm.bias', 'speecht5.decoder.layers.1.self_attn.k_proj.bias', 'speecht5.encoder.layers.4.layer_norm.weight', 'speecht5.decoder.layers.4.feed_forward.output_dense.bias', 'speecht5.encoder.layers.5.attention.out_proj.weight', 'speecht5.encoder.layers.11.attention.q_proj.weight', 'speecht5.decoder.layers.3.self_attn.v_proj.bias', 'speecht5.encoder.layers.5.attention.v_proj.weight', 'speecht5.encoder.layers.8.attention.out_proj.bias', 'speecht5.decoder.layers.4.feed_forward.output_dense.weight', 'speecht5.encoder.layers.1.final_layer_norm.bias', 'speecht5.encoder.layers.10.attention.k_proj.weight', 'speecht5.encoder.layers.11.attention.v_proj.weight', 'speecht5.decoder.layers.2.encoder_attn.q_proj.weight', 'speecht5.decoder.layers.3.encoder_attn.v_proj.bias', 'speecht5.decoder.layers.1.final_layer_norm.bias', 'speecht5.decoder.layers.4.self_attn.k_proj.bias', 'speecht5.decoder.layers.1.self_attn.q_proj.weight', 'speecht5.decoder.layers.3.self_attn.out_proj.bias', 'speecht5.decoder.layers.2.feed_forward.output_dense.weight', 'speecht5.encoder.layers.6.attention.q_proj.bias', 'speecht5.decoder.layers.4.self_attn.q_proj.bias', 'speecht5.decoder.layers.0.self_attn.v_proj.bias', 'speecht5.encoder.layers.0.feed_forward.output_dense.weight', 'speecht5.encoder.layers.8.attention.v_proj.bias', 'speecht5.encoder.layers.9.feed_forward.intermediate_dense.weight', 'speecht5.encoder.layers.5.attention.k_proj.bias', 'speecht5.decoder.layers.0.self_attn.out_proj.weight', 'speecht5.decoder.layers.2.final_layer_norm.weight', 'speecht5.encoder.layers.4.feed_forward.output_dense.bias', 'speecht5.encoder.layers.7.feed_forward.intermediate_dense.weight', 'speecht5.encoder.layers.11.feed_forward.intermediate_dense.bias', 'speecht5.decoder.layers.1.encoder_attn.k_proj.bias', 'speecht5.encoder.layers.1.layer_norm.bias', 'speecht5.encoder.layers.5.attention.q_proj.bias', 'speecht5.encoder.layers.9.layer_norm.bias', 'speecht5.decoder.layers.5.self_attn.q_proj.bias', 'speecht5.encoder.layers.11.feed_forward.output_dense.bias', 'speecht5.encoder.layers.1.feed_forward.output_dense.weight', 'speecht5.encoder.layers.9.attention.k_proj.bias', 'speecht5.encoder.layers.6.attention.out_proj.bias', 'speecht5.decoder.layers.4.self_attn.k_proj.weight', 'speecht5.encoder.layers.2.attention.v_proj.bias', 'speecht5.encoder.layers.0.attention.k_proj.weight', 'speecht5.encoder.layers.10.attention.v_proj.bias', 'speecht5.encoder.layers.8.feed_forward.intermediate_dense.weight', 'speecht5.encoder.layers.1.attention.k_proj.weight', 'speecht5.encoder.layers.6.attention.k_proj.bias', 'speecht5.encoder.layers.1.feed_forward.intermediate_dense.bias', 'speecht5.encoder.layers.1.final_layer_norm.weight', 'speecht5.encoder.layers.6.final_layer_norm.bias', 'speecht5.decoder.layers.0.feed_forward.output_dense.bias', 'speecht5.decoder.layers.0.encoder_attn.q_proj.bias', 'speecht5.encoder.layers.11.final_layer_norm.weight', 'speecht5.decoder.layers.1.final_layer_norm.weight', 'speecht5.encoder.layers.4.final_layer_norm.weight', 'speecht5.encoder.layers.6.final_layer_norm.weight', 'speecht5.decoder.layers.3.encoder_attn_layer_norm.bias', 'speecht5.decoder.layers.5.self_attn.out_proj.weight', 'speecht5.decoder.layers.1.feed_forward.intermediate_dense.bias', 'speecht5.encoder.layers.4.final_layer_norm.bias', 'speecht5.encoder.layers.6.attention.v_proj.weight', 'speecht5.decoder.layers.0.feed_forward.intermediate_dense.bias', 'speecht5.encoder.embed_positions.pe_k.weight', 'speecht5.decoder.layers.2.final_layer_norm.bias', 'speecht5.decoder.layers.0.self_attn.v_proj.weight', 'speecht5.encoder.layers.6.feed_forward.output_dense.weight', 'speecht5.decoder.layers.0.encoder_attn_layer_norm.weight', 'speecht5.decoder.layers.3.feed_forward.intermediate_dense.bias', 'speecht5.encoder.layers.1.feed_forward.output_dense.bias', 'speecht5.encoder.layers.9.attention.v_proj.weight', 'speecht5.encoder.layers.9.feed_forward.output_dense.weight', 'speecht5.decoder.layers.0.self_attn_layer_norm.bias', 'speecht5.encoder.layers.7.attention.v_proj.bias', 'speecht5.encoder.layers.9.attention.out_proj.bias', 'speecht5.encoder.layers.7.attention.q_proj.weight', 'speecht5.decoder.layers.1.encoder_attn.q_proj.weight', 'speecht5.encoder.layers.7.layer_norm.bias', 'speecht5.decoder.layers.4.encoder_attn.q_proj.weight', 'speecht5.encoder.layers.11.final_layer_norm.bias', 'speecht5.decoder.layers.4.self_attn.v_proj.bias', 'speecht5.decoder.layers.0.self_attn.q_proj.weight', 'speecht5.decoder.layers.0.encoder_attn.q_proj.weight', 'speecht5.decoder.layers.0.encoder_attn.v_proj.weight', 'speecht5.decoder.layers.3.self_attn.k_proj.weight', 'speecht5.decoder.layers.4.final_layer_norm.bias', 'speecht5.encoder.layers.8.feed_forward.output_dense.bias', 'speecht5.encoder.layers.3.feed_forward.intermediate_dense.bias', 'speecht5.encoder.layers.5.feed_forward.output_dense.weight', 'speecht5.encoder.layers.7.feed_forward.output_dense.bias', 'speecht5.encoder.layers.4.attention.k_proj.bias', 'speecht5.encoder.layers.8.attention.v_proj.weight', 'speecht5.encoder.layers.0.feed_forward.output_dense.bias', 'speecht5.decoder.layers.5.self_attn.q_proj.weight', 'speecht5.decoder.layers.5.encoder_attn_layer_norm.weight', 'speecht5.decoder.layers.3.self_attn.v_proj.weight', 'speecht5.decoder.layers.4.encoder_attn.out_proj.weight', 'speecht5.encoder.layers.3.attention.k_proj.bias', 'speecht5.encoder.layers.4.attention.k_proj.weight', 'speecht5.encoder.layers.1.attention.q_proj.weight', 'speecht5.encoder.layers.4.layer_norm.bias', 'speecht5.decoder.layers.4.encoder_attn.out_proj.bias', 'speecht5.encoder.layers.3.layer_norm.weight', 'speecht5.encoder.layers.3.attention.q_proj.weight', 'speecht5.decoder.layers.3.encoder_attn.out_proj.weight', 'speecht5.decoder.layers.5.encoder_attn.k_proj.bias', 'speecht5.decoder.layers.0.encoder_attn_layer_norm.bias', 'speecht5.decoder.layers.3.encoder_attn.q_proj.weight', 'speecht5.encoder.layers.6.feed_forward.intermediate_dense.weight', 'speecht5.encoder.layers.3.feed_forward.intermediate_dense.weight', 'speecht5.encoder.layers.0.feed_forward.intermediate_dense.bias', 'speecht5.decoder.layers.1.encoder_attn.out_proj.weight', 'speecht5.encoder.layers.3.attention.v_proj.bias', 'speecht5.decoder.layers.5.encoder_attn.v_proj.bias', 'speecht5.encoder.layers.2.attention.q_proj.bias', 'speecht5.encoder.layers.2.attention.k_proj.weight', 'speecht5.decoder.layers.5.encoder_attn_layer_norm.bias', 'speecht5.decoder.layers.2.self_attn.out_proj.weight', 'speecht5.encoder.layers.10.attention.out_proj.bias', 'speecht5.encoder.layers.3.feed_forward.output_dense.bias', 'speecht5.encoder.layers.2.attention.q_proj.weight', 'speecht5.decoder.layers.2.encoder_attn.out_proj.bias', 'speecht5.decoder.layers.4.encoder_attn.q_proj.bias', 'speecht5.encoder.layers.6.attention.v_proj.bias', 'speecht5.encoder.layers.8.feed_forward.output_dense.weight']\n",
      "You should probably TRAIN this model on a down-stream task to be able to use it for predictions and inference.\n"
     ]
    }
   ],
   "source": [
    "hf_model_naked = SpeechT5Model.from_pretrained(model_checkpoint)"
   ]
  },
  {
   "cell_type": "code",
   "execution_count": 351,
   "id": "7628cc3e",
   "metadata": {},
   "outputs": [],
   "source": [
    "# Verify the attention layer weights are correct\n",
    "# for i in range(len(hf_model.speecht5.encoder.layers)):\n",
    "#     print(i, \"k_proj weight\", torch.all(hf_model.speecht5.encoder.layers[i].attention.k_proj.weight == orig_model.encoder.layers[i].self_attn.k_proj.weight))\n",
    "#     print(i, \"k_proj bias\", torch.all(hf_model.speecht5.encoder.layers[i].attention.k_proj.bias == orig_model.encoder.layers[i].self_attn.k_proj.bias))\n",
    "#     print(i, \"v_proj weight\", torch.all(hf_model.speecht5.encoder.layers[i].attention.v_proj.weight == orig_model.encoder.layers[i].self_attn.v_proj.weight))\n",
    "#     print(i, \"v_proj bias\", torch.all(hf_model.speecht5.encoder.layers[i].attention.v_proj.bias == orig_model.encoder.layers[i].self_attn.v_proj.bias))\n",
    "#     print(i, \"q_proj weight\", torch.all(hf_model.speecht5.encoder.layers[i].attention.q_proj.weight == orig_model.encoder.layers[i].self_attn.q_proj.weight))\n",
    "#     print(i, \"q_proj bias\", torch.all(hf_model.speecht5.encoder.layers[i].attention.q_proj.bias == orig_model.encoder.layers[i].self_attn.q_proj.bias))\n",
    "#     print(i, \"out_proj weight\", torch.all(hf_model.speecht5.encoder.layers[i].attention.out_proj.weight == orig_model.encoder.layers[i].self_attn.out_proj.weight))\n",
    "#     print(i, \"out_proj bias\", torch.all(hf_model.speecht5.encoder.layers[i].attention.out_proj.bias == orig_model.encoder.layers[i].self_attn.out_proj.bias))\n",
    "#     print(\"---\")\n",
    "\n",
    "# print(\"pos_emb weight\", torch.all(hf_model.speecht5.encoder.pos_emb.pe_k.weight == orig_model.encoder.pos_emb.pe_k.weight))"
   ]
  },
  {
   "cell_type": "markdown",
   "id": "82233c52",
   "metadata": {},
   "source": [
    "Run a single forward pass. This should run the encoder, decoder, and the relevant pre- and postnets."
   ]
  },
  {
   "cell_type": "code",
   "execution_count": 20,
   "id": "29bd2f4d",
   "metadata": {},
   "outputs": [
    {
     "data": {
      "text/plain": [
       "tuple"
      ]
     },
     "execution_count": 20,
     "metadata": {},
     "output_type": "execute_result"
    }
   ],
   "source": [
    "with torch.no_grad():\n",
    "     hf_outputs = hf_model.speecht5.encoder.prenet(**inputs)\n",
    "\n",
    "type(hf_outputs)"
   ]
  },
  {
   "cell_type": "code",
   "execution_count": 21,
   "id": "7e1f8501",
   "metadata": {},
   "outputs": [],
   "source": [
    "# Using no attention_mask\n",
    "# with torch.no_grad():\n",
    "#      hf_outputs = hf_model.speech_encoder_prenet(input_values=inputs[\"input_values\"])\n",
    "\n",
    "# type(hf_outputs)"
   ]
  },
  {
   "cell_type": "code",
   "execution_count": 22,
   "id": "359778a9",
   "metadata": {},
   "outputs": [],
   "source": [
    "# list(hf_outputs.keys())"
   ]
  },
  {
   "cell_type": "code",
   "execution_count": 23,
   "id": "97a77055",
   "metadata": {},
   "outputs": [],
   "source": [
    "# hf_outputs[\"extract_features\"].shape"
   ]
  },
  {
   "cell_type": "code",
   "execution_count": 24,
   "id": "7db34f53",
   "metadata": {},
   "outputs": [],
   "source": [
    "# hf_outputs[\"extract_features\"]"
   ]
  },
  {
   "cell_type": "code",
   "execution_count": 25,
   "id": "41afd19a",
   "metadata": {},
   "outputs": [],
   "source": [
    "# hf_outputs[\"hidden_states\"].shape"
   ]
  },
  {
   "cell_type": "code",
   "execution_count": 26,
   "id": "fcef1339",
   "metadata": {},
   "outputs": [],
   "source": [
    "# hf_outputs[\"hidden_states\"]"
   ]
  },
  {
   "cell_type": "code",
   "execution_count": 27,
   "id": "d01d920d",
   "metadata": {},
   "outputs": [
    {
     "data": {
      "text/plain": [
       "[torch.Size([2, 401, 768]), torch.Size([2, 401])]"
      ]
     },
     "execution_count": 27,
     "metadata": {},
     "output_type": "execute_result"
    }
   ],
   "source": [
    "[x.shape for x in hf_outputs if hasattr(x, \"shape\")]"
   ]
  },
  {
   "cell_type": "code",
   "execution_count": 28,
   "id": "2d5ff106",
   "metadata": {},
   "outputs": [
    {
     "data": {
      "text/plain": [
       "tensor([[[ 6.9419e+00,  6.0887e+00,  5.0580e+00,  ...,  5.8203e-01,\n",
       "           2.5973e+00, -1.8086e-01],\n",
       "         [ 7.1978e+00,  1.6047e+00,  9.1351e+00,  ...,  1.2387e+00,\n",
       "           2.8825e+00,  3.4502e+00],\n",
       "         [ 3.0047e+00, -7.6195e-01,  1.1497e+01,  ...,  1.3287e+00,\n",
       "           2.6715e+00,  2.3741e+00],\n",
       "         ...,\n",
       "         [-1.2140e-01, -9.2100e-02, -1.5428e-01,  ..., -2.4324e-01,\n",
       "          -2.2983e-01, -2.0718e-01],\n",
       "         [ 4.0435e-02, -9.1658e-02, -1.5430e-01,  ..., -2.5205e-01,\n",
       "          -2.0630e-01, -2.5674e-01],\n",
       "         [ 8.2007e-03, -1.3189e-01, -1.6461e-01,  ..., -2.0494e-01,\n",
       "          -3.0676e-01, -3.1394e-01]],\n",
       "\n",
       "        [[ 1.4333e+00, -1.8173e+00,  9.1156e-01,  ...,  7.4279e-01,\n",
       "          -3.9927e-01,  1.0221e+00],\n",
       "         [ 5.6487e-01, -2.0062e+00,  2.2312e-02,  ...,  6.6407e-01,\n",
       "           9.8154e-02,  1.4818e+00],\n",
       "         [-2.7547e-01, -2.7482e+00, -7.6423e-01,  ...,  4.7994e-01,\n",
       "           2.4423e-01,  1.1358e+00],\n",
       "         ...,\n",
       "         [ 1.2788e-01, -1.4121e+00, -8.5273e-01,  ...,  5.4640e-01,\n",
       "          -2.7472e-01,  8.5026e-01],\n",
       "         [ 6.6787e-02, -1.0637e+00, -1.1532e+00,  ...,  5.7377e-01,\n",
       "          -1.1603e-01,  1.2345e+00],\n",
       "         [ 5.1934e-01, -1.9056e+00, -5.7697e-01,  ...,  4.9755e-01,\n",
       "           1.5985e-01,  1.6285e+00]]])"
      ]
     },
     "execution_count": 28,
     "metadata": {},
     "output_type": "execute_result"
    }
   ],
   "source": [
    "hf_outputs[0]"
   ]
  },
  {
   "cell_type": "code",
   "execution_count": 29,
   "id": "d24920f9",
   "metadata": {},
   "outputs": [],
   "source": [
    "hf_encoder_input = hf_outputs[0]\n",
    "hf_encoder_attention_mask = hf_outputs[1]"
   ]
  },
  {
   "cell_type": "markdown",
   "id": "64823660",
   "metadata": {},
   "source": [
    "## Load the original model"
   ]
  },
  {
   "cell_type": "markdown",
   "id": "b1697ab0",
   "metadata": {},
   "source": [
    "Load the dictionary. This adds `<s>, <pad>, </s>, <unk>` tokens to the front and `<mask>` and `<ctc_blank>` to the end. **dict.txt** was [downloaded from here](https://drive.google.com/uc?export=download&id=19hcQ58RHZ6CssxF8Qp6yEF1NW_AXxObK). This is the Vocabulary link from the main SpeechT5 README."
   ]
  },
  {
   "cell_type": "code",
   "execution_count": 30,
   "id": "24e0f251",
   "metadata": {},
   "outputs": [
    {
     "name": "stdout",
     "output_type": "stream",
     "text": [
      "dictionary size: 81\n"
     ]
    }
   ],
   "source": [
    "from fairseq.data import Dictionary\n",
    "tgt_dict = Dictionary.load(\"/Users/matthijs/Documents/FILES/HuggingFace/SpeechT5/tryout/DATA_ROOT/dict.txt\")\n",
    "tgt_dict.add_symbol(\"<mask>\")\n",
    "tgt_dict.add_symbol(\"<ctc_blank>\")\n",
    "print(f\"dictionary size: \" f\"{len(tgt_dict):,}\")"
   ]
  },
  {
   "cell_type": "markdown",
   "id": "85935250",
   "metadata": {},
   "source": [
    "To load the model we need the `SpeechT5Task` object but constructing it is annoying. Fortunately, `build_model` only reads two properties from the task object, so we can fake it."
   ]
  },
  {
   "cell_type": "code",
   "execution_count": 31,
   "id": "ea4b4380",
   "metadata": {},
   "outputs": [],
   "source": [
    "class FakeTask:\n",
    "    def __init__(self):\n",
    "        self.dicts = { \"text\": tgt_dict }\n",
    "        self.t5_task = \"s2t\"\n",
    "        \n",
    "task = FakeTask()"
   ]
  },
  {
   "cell_type": "markdown",
   "id": "a5dc6c7a",
   "metadata": {},
   "source": [
    "Load the fine-tuned ASR model."
   ]
  },
  {
   "cell_type": "code",
   "execution_count": 32,
   "id": "a79fbfdf",
   "metadata": {},
   "outputs": [],
   "source": [
    "import torch\n",
    "from speecht5.models.speecht5 import T5TransformerModel"
   ]
  },
  {
   "cell_type": "code",
   "execution_count": 33,
   "id": "b9b2818e",
   "metadata": {},
   "outputs": [],
   "source": [
    "checkpoint = torch.load(\"../weights/SpeechT5/speecht5_base_asr.pt\")\n",
    "\n",
    "orig_model = T5TransformerModel.build_model(checkpoint[\"cfg\"][\"model\"], task)\n",
    "\n",
    "orig_model.load_state_dict(checkpoint[\"model\"])\n",
    "orig_model = orig_model.eval()"
   ]
  },
  {
   "cell_type": "code",
   "execution_count": 34,
   "id": "bda7a201",
   "metadata": {},
   "outputs": [
    {
     "data": {
      "text/plain": [
       "speecht5.models.speecht5.T5TransformerModel"
      ]
     },
     "execution_count": 34,
     "metadata": {},
     "output_type": "execute_result"
    }
   ],
   "source": [
    "type(orig_model)"
   ]
  },
  {
   "cell_type": "code",
   "execution_count": 35,
   "id": "64d53b18",
   "metadata": {},
   "outputs": [
    {
     "data": {
      "text/plain": [
       "speecht5.models.modules.encoder.TransformerEncoder"
      ]
     },
     "execution_count": 35,
     "metadata": {},
     "output_type": "execute_result"
    }
   ],
   "source": [
    "type(orig_model.encoder)"
   ]
  },
  {
   "cell_type": "code",
   "execution_count": 36,
   "id": "bad44136",
   "metadata": {},
   "outputs": [],
   "source": [
    "#list(checkpoint[\"model\"].keys())"
   ]
  },
  {
   "cell_type": "code",
   "execution_count": 37,
   "id": "4c1faddb",
   "metadata": {},
   "outputs": [
    {
     "data": {
      "text/plain": [
       "fairseq.data.encoders.sentencepiece_bpe.SentencepieceBPE"
      ]
     },
     "execution_count": 37,
     "metadata": {},
     "output_type": "execute_result"
    }
   ],
   "source": [
    "from fairseq.data import encoders\n",
    "from argparse import Namespace\n",
    "tokenizer = encoders.build_bpe(\n",
    "    Namespace(\n",
    "        bpe='sentencepiece', \n",
    "        sentencepiece_model='/Users/matthijs/Documents/FILES/HuggingFace/SpeechT5/tryout/MODEL_DIR/spm_char.model'\n",
    "    )\n",
    ")\n",
    "type(tokenizer)"
   ]
  },
  {
   "cell_type": "code",
   "execution_count": 38,
   "id": "61dd5619",
   "metadata": {},
   "outputs": [],
   "source": [
    "# orig_model.decoder.layers[0].encoder_attn"
   ]
  },
  {
   "cell_type": "markdown",
   "id": "56503f04",
   "metadata": {},
   "source": [
    "## Verify speech encoder prenet output"
   ]
  },
  {
   "cell_type": "markdown",
   "id": "42e2f9ff",
   "metadata": {},
   "source": [
    "This first uses the `speech_encoder_prenet` to convert the raw audio data into embeddings of shape `(batch, sequence_length, 768)`. The sequence length is roughly `number of audio samples / 320`, so there is one vector every 20 ms."
   ]
  },
  {
   "cell_type": "code",
   "execution_count": 39,
   "id": "01638115",
   "metadata": {},
   "outputs": [
    {
     "data": {
      "text/plain": [
       "torch.Size([2, 128632])"
      ]
     },
     "execution_count": 39,
     "metadata": {},
     "output_type": "execute_result"
    }
   ],
   "source": [
    "source = inputs[\"input_values\"]\n",
    "source.shape"
   ]
  },
  {
   "cell_type": "code",
   "execution_count": 40,
   "id": "35b0a089",
   "metadata": {},
   "outputs": [],
   "source": [
    "padding_mask = torch.BoolTensor(source.shape).fill_(False)"
   ]
  },
  {
   "cell_type": "code",
   "execution_count": 41,
   "id": "94586252",
   "metadata": {},
   "outputs": [
    {
     "data": {
      "text/plain": [
       "tensor([[False, False, False,  ...,  True,  True,  True],\n",
       "        [False, False, False,  ..., False, False, False]])"
      ]
     },
     "execution_count": 41,
     "metadata": {},
     "output_type": "execute_result"
    }
   ],
   "source": [
    "padding_mask = torch.BoolTensor((1 - inputs[\"attention_mask\"]).bool())\n",
    "padding_mask"
   ]
  },
  {
   "cell_type": "code",
   "execution_count": 42,
   "id": "374cf769",
   "metadata": {},
   "outputs": [],
   "source": [
    "# This doesn't work on the original model\n",
    "#padding_mask = None"
   ]
  },
  {
   "cell_type": "code",
   "execution_count": 43,
   "id": "31d1d2e6",
   "metadata": {},
   "outputs": [],
   "source": [
    "encoder_input, encoder_padding_mask = orig_model.speech_encoder_prenet(\n",
    "    source, padding_mask=padding_mask, mask=False\n",
    ")"
   ]
  },
  {
   "cell_type": "code",
   "execution_count": 44,
   "id": "36334be4",
   "metadata": {},
   "outputs": [],
   "source": [
    "# encoder_input = orig_model.speech_encoder_prenet.feature_extractor(source)\n",
    "# encoder_input.shape"
   ]
  },
  {
   "cell_type": "code",
   "execution_count": 45,
   "id": "26c4a65d",
   "metadata": {},
   "outputs": [
    {
     "data": {
      "text/plain": [
       "(torch.Size([2, 401, 768]), torch.Size([2, 401]))"
      ]
     },
     "execution_count": 45,
     "metadata": {},
     "output_type": "execute_result"
    }
   ],
   "source": [
    "encoder_input.shape, encoder_padding_mask.shape"
   ]
  },
  {
   "cell_type": "code",
   "execution_count": 46,
   "id": "058de538",
   "metadata": {},
   "outputs": [
    {
     "data": {
      "text/plain": [
       "tensor([[[ 6.9419e+00,  6.0887e+00,  5.0580e+00,  ...,  5.8203e-01,\n",
       "           2.5973e+00, -1.8086e-01],\n",
       "         [ 7.1978e+00,  1.6047e+00,  9.1351e+00,  ...,  1.2387e+00,\n",
       "           2.8825e+00,  3.4502e+00],\n",
       "         [ 3.0047e+00, -7.6195e-01,  1.1497e+01,  ...,  1.3287e+00,\n",
       "           2.6715e+00,  2.3741e+00],\n",
       "         ...,\n",
       "         [-1.2140e-01, -9.2100e-02, -1.5428e-01,  ..., -2.4324e-01,\n",
       "          -2.2983e-01, -2.0718e-01],\n",
       "         [ 4.0435e-02, -9.1658e-02, -1.5430e-01,  ..., -2.5205e-01,\n",
       "          -2.0630e-01, -2.5674e-01],\n",
       "         [ 8.2007e-03, -1.3189e-01, -1.6461e-01,  ..., -2.0494e-01,\n",
       "          -3.0676e-01, -3.1394e-01]],\n",
       "\n",
       "        [[ 1.4333e+00, -1.8173e+00,  9.1156e-01,  ...,  7.4279e-01,\n",
       "          -3.9927e-01,  1.0221e+00],\n",
       "         [ 5.6487e-01, -2.0062e+00,  2.2312e-02,  ...,  6.6407e-01,\n",
       "           9.8154e-02,  1.4818e+00],\n",
       "         [-2.7547e-01, -2.7482e+00, -7.6423e-01,  ...,  4.7994e-01,\n",
       "           2.4423e-01,  1.1358e+00],\n",
       "         ...,\n",
       "         [ 1.2788e-01, -1.4121e+00, -8.5273e-01,  ...,  5.4640e-01,\n",
       "          -2.7472e-01,  8.5026e-01],\n",
       "         [ 6.6787e-02, -1.0637e+00, -1.1532e+00,  ...,  5.7377e-01,\n",
       "          -1.1603e-01,  1.2345e+00],\n",
       "         [ 5.1934e-01, -1.9056e+00, -5.7697e-01,  ...,  4.9755e-01,\n",
       "           1.5985e-01,  1.6285e+00]]])"
      ]
     },
     "execution_count": 46,
     "metadata": {},
     "output_type": "execute_result"
    }
   ],
   "source": [
    "encoder_input"
   ]
  },
  {
   "cell_type": "code",
   "execution_count": 47,
   "id": "3c07884f",
   "metadata": {},
   "outputs": [],
   "source": [
    "#encoder_padding_mask"
   ]
  },
  {
   "cell_type": "markdown",
   "id": "d2dbc6dd",
   "metadata": {},
   "source": [
    "If the weights and model were converted correctly, this should report zero or a very small number:"
   ]
  },
  {
   "cell_type": "code",
   "execution_count": 48,
   "id": "4b099ad3",
   "metadata": {},
   "outputs": [
    {
     "data": {
      "text/plain": [
       "tensor(1.0000)"
      ]
     },
     "execution_count": 48,
     "metadata": {},
     "output_type": "execute_result"
    }
   ],
   "source": [
    "# torch.max(torch.abs(encoder_input - hf_outputs[\"hidden_states\"]))\n",
    "torch.max(torch.abs(encoder_input - hf_outputs[0]))"
   ]
  },
  {
   "cell_type": "code",
   "execution_count": 52,
   "id": "5533cb26",
   "metadata": {},
   "outputs": [
    {
     "data": {
      "text/plain": [
       "<matplotlib.image.AxesImage at 0x7f965177ee20>"
      ]
     },
     "execution_count": 52,
     "metadata": {},
     "output_type": "execute_result"
    },
    {
     "data": {
      "image/png": "[encoded data removed]",
      "text/plain": [
       "<Figure size 640x480 with 1 Axes>"
      ]
     },
     "metadata": {},
     "output_type": "display_data"
    }
   ],
   "source": [
    "# plt.imshow(torch.abs(encoder_input - hf_outputs[\"hidden_states\"]).numpy()[0] > 1e-5)\n",
    "plt.imshow(torch.abs(encoder_input - hf_outputs[0]).numpy()[0] > 1e-5)"
   ]
  },
  {
   "cell_type": "markdown",
   "id": "90bf93df",
   "metadata": {},
   "source": [
    "The line that is different is where the padding mask goes from 1 to 0; the original model handles this a little different than we do."
   ]
  },
  {
   "cell_type": "code",
   "execution_count": 53,
   "id": "b92b758a",
   "metadata": {},
   "outputs": [],
   "source": [
    "# torch.max(torch.abs(encoder_input - hf_outputs[\"extract_features\"]))"
   ]
  },
  {
   "cell_type": "code",
   "execution_count": 54,
   "id": "d18286fa",
   "metadata": {},
   "outputs": [],
   "source": [
    "# torch.abs(encoder_input - hf_outputs[\"last_hidden_state\"])"
   ]
  },
  {
   "cell_type": "markdown",
   "id": "8b76dc23",
   "metadata": {},
   "source": [
    "## Verify Transformer encoder output"
   ]
  },
  {
   "cell_type": "code",
   "execution_count": 55,
   "id": "47c86f72",
   "metadata": {},
   "outputs": [],
   "source": [
    "# Run it with the original's speech prenet input:\n",
    "# with torch.no_grad():\n",
    "#     encoder_output = orig_model.encoder(encoder_input, encoder_padding_mask)"
   ]
  },
  {
   "cell_type": "code",
   "execution_count": 112,
   "id": "8b8b4df6",
   "metadata": {},
   "outputs": [],
   "source": [
    "# Run it with our input, which is slightly different (see above)\n",
    "with torch.no_grad():\n",
    "    encoder_output = orig_model.encoder(hf_encoder_input, ~hf_encoder_attention_mask)"
   ]
  },
  {
   "cell_type": "code",
   "execution_count": 113,
   "id": "41ff76cc",
   "metadata": {},
   "outputs": [
    {
     "name": "stdout",
     "output_type": "stream",
     "text": [
      "encoder_out shape torch.Size([401, 2, 768])\n",
      "encoder_padding_mask shape torch.Size([2, 401])\n",
      "encoder_states []\n",
      "src_tokens []\n",
      "decoder_input [None]\n",
      "encoder_out_for_ctc shape torch.Size([401, 2, 81])\n"
     ]
    }
   ],
   "source": [
    "print(\"encoder_out shape\", encoder_output[\"encoder_out\"][0].shape)\n",
    "print(\"encoder_padding_mask shape\", encoder_output[\"encoder_padding_mask\"][0].shape)\n",
    "print(\"encoder_states\", encoder_output[\"encoder_states\"])  # []\n",
    "print(\"src_tokens\", encoder_output[\"src_tokens\"])  # []\n",
    "print(\"decoder_input\", encoder_output[\"decoder_input\"])  # [None]\n",
    "print(\"encoder_out_for_ctc shape\", encoder_output[\"encoder_out_for_ctc\"][0].shape)"
   ]
  },
  {
   "cell_type": "code",
   "execution_count": 58,
   "id": "a38979d4",
   "metadata": {},
   "outputs": [
    {
     "data": {
      "text/plain": [
       "tensor([[[-0.3491, -0.0853, -0.4962,  ...,  0.2933, -0.6834,  0.0838],\n",
       "         [-0.2567, -0.0870, -0.5613,  ...,  0.2358, -0.6816,  0.0205],\n",
       "         [-0.3327, -0.1112, -0.6037,  ...,  0.2785, -0.6297, -0.1314],\n",
       "         ...,\n",
       "         [-0.0580, -0.3146, -0.0368,  ..., -0.2898, -0.1898,  0.2105],\n",
       "         [-0.2231, -0.3032,  0.0296,  ...,  0.0974, -0.2742,  0.1361],\n",
       "         [-0.1851, -0.3024,  0.0322,  ...,  0.1357, -0.2357,  0.0736]],\n",
       "\n",
       "        [[-0.2545, -0.2163, -0.4848,  ...,  0.3813, -0.5618,  0.3422],\n",
       "         [-0.1782, -0.2388, -0.4575,  ...,  0.3282, -0.5424,  0.2551],\n",
       "         [-0.1515, -0.3072, -0.3812,  ...,  0.2877, -0.4253,  0.1172],\n",
       "         ...,\n",
       "         [ 0.5395,  0.1442, -0.0540,  ...,  0.3096, -0.5798,  0.3530],\n",
       "         [ 0.2973,  0.0378, -0.0507,  ...,  0.2811, -0.5635,  0.2517],\n",
       "         [ 0.1936, -0.1404, -0.1436,  ...,  0.3061, -0.5138,  0.1664]]])"
      ]
     },
     "execution_count": 58,
     "metadata": {},
     "output_type": "execute_result"
    }
   ],
   "source": [
    "encoder_output[\"encoder_out\"][0].permute((1, 0, 2))"
   ]
  },
  {
   "cell_type": "code",
   "execution_count": 59,
   "id": "f9b9dda4",
   "metadata": {},
   "outputs": [
    {
     "data": {
      "text/plain": [
       "tensor([[[ -9.7539,  -9.9639,  -9.7654,  ...,  -9.7121,  -9.6935,  13.1617],\n",
       "         [-10.2644, -10.4033, -10.2593,  ..., -10.2150, -10.2457,  14.2349],\n",
       "         [-11.2071, -11.2572, -11.2052,  ..., -11.2506, -11.1760,  15.3922],\n",
       "         ...,\n",
       "         [-13.4234, -14.0800, -13.6217,  ..., -13.8993, -13.3328,   8.9910],\n",
       "         [ -9.9343, -10.3540, -10.0413,  ..., -10.0725,  -9.6708,   9.4658],\n",
       "         [ -9.1374,  -9.5370,  -9.2425,  ...,  -9.2380,  -8.8825,   8.8501]],\n",
       "\n",
       "        [[ -9.9849, -10.1272, -10.0026,  ..., -10.0058,  -9.7552,  12.7793],\n",
       "         [-10.4426, -10.5391, -10.4868,  ..., -10.5314, -10.2572,  13.7857],\n",
       "         [-12.3113, -12.4078, -12.2937,  ..., -12.4932, -12.1741,  15.2556],\n",
       "         ...,\n",
       "         [ -9.1622,  -9.3113,  -9.2084,  ...,  -9.3590,  -9.0228,  11.5350],\n",
       "         [ -9.9882, -10.2963,  -9.9973,  ..., -10.0581,  -9.7548,  11.7940],\n",
       "         [-10.3344, -10.8017, -10.4995,  ..., -10.4289,  -9.9483,  10.9756]]])"
      ]
     },
     "execution_count": 59,
     "metadata": {},
     "output_type": "execute_result"
    }
   ],
   "source": [
    "encoder_output[\"encoder_out_for_ctc\"][0].permute((1, 0, 2))"
   ]
  },
  {
   "cell_type": "code",
   "execution_count": 60,
   "id": "cde6dbda",
   "metadata": {},
   "outputs": [],
   "source": [
    "# Use exact same inputs as the original model:\n",
    "# with torch.no_grad():\n",
    "#      hf_outputs = hf_model.speecht5(\n",
    "#          inputs_embeds=encoder_input,\n",
    "#          attention_mask=(~encoder_padding_mask),\n",
    "#      )\n",
    "\n",
    "# type(hf_outputs)"
   ]
  },
  {
   "cell_type": "code",
   "execution_count": 61,
   "id": "28f529a5",
   "metadata": {},
   "outputs": [
    {
     "data": {
      "text/plain": [
       "transformers.modeling_outputs.BaseModelOutput"
      ]
     },
     "execution_count": 61,
     "metadata": {},
     "output_type": "execute_result"
    }
   ],
   "source": [
    "with torch.no_grad():\n",
    "     hf_outputs = hf_model.speecht5.encoder.wrapped_encoder(\n",
    "         hidden_states=hf_encoder_input,\n",
    "         attention_mask=hf_encoder_attention_mask,\n",
    "#          input_values=inputs.input_values,\n",
    "#          attention_mask=inputs.attention_mask,\n",
    "         return_dict=True,\n",
    "     )\n",
    "\n",
    "type(hf_outputs)"
   ]
  },
  {
   "cell_type": "code",
   "execution_count": 62,
   "id": "fb12e71a",
   "metadata": {},
   "outputs": [
    {
     "data": {
      "text/plain": [
       "BaseModelOutput(last_hidden_state=tensor([[[-0.3491, -0.0853, -0.4962,  ...,  0.2933, -0.6834,  0.0838],\n",
       "         [-0.2567, -0.0870, -0.5613,  ...,  0.2358, -0.6816,  0.0205],\n",
       "         [-0.3327, -0.1112, -0.6037,  ...,  0.2785, -0.6297, -0.1314],\n",
       "         ...,\n",
       "         [-0.0580, -0.3146, -0.0368,  ..., -0.2898, -0.1898,  0.2105],\n",
       "         [-0.2231, -0.3032,  0.0296,  ...,  0.0974, -0.2742,  0.1361],\n",
       "         [-0.1851, -0.3024,  0.0322,  ...,  0.1357, -0.2357,  0.0736]],\n",
       "\n",
       "        [[-0.2545, -0.2163, -0.4848,  ...,  0.3813, -0.5618,  0.3422],\n",
       "         [-0.1782, -0.2388, -0.4575,  ...,  0.3282, -0.5424,  0.2551],\n",
       "         [-0.1515, -0.3072, -0.3812,  ...,  0.2877, -0.4253,  0.1172],\n",
       "         ...,\n",
       "         [ 0.5395,  0.1442, -0.0540,  ...,  0.3096, -0.5798,  0.3530],\n",
       "         [ 0.2973,  0.0378, -0.0507,  ...,  0.2811, -0.5635,  0.2517],\n",
       "         [ 0.1936, -0.1404, -0.1436,  ...,  0.3061, -0.5138,  0.1664]]]), hidden_states=None, attentions=None)"
      ]
     },
     "execution_count": 62,
     "metadata": {},
     "output_type": "execute_result"
    }
   ],
   "source": [
    "hf_outputs"
   ]
  },
  {
   "cell_type": "code",
   "execution_count": 63,
   "id": "06fb675b",
   "metadata": {},
   "outputs": [
    {
     "data": {
      "text/plain": [
       "['last_hidden_state']"
      ]
     },
     "execution_count": 63,
     "metadata": {},
     "output_type": "execute_result"
    }
   ],
   "source": [
    "list(hf_outputs.keys())"
   ]
  },
  {
   "cell_type": "code",
   "execution_count": 64,
   "id": "8fe9914e",
   "metadata": {},
   "outputs": [
    {
     "data": {
      "text/plain": [
       "torch.Size([2, 401, 768])"
      ]
     },
     "execution_count": 64,
     "metadata": {},
     "output_type": "execute_result"
    }
   ],
   "source": [
    "hf_outputs[\"last_hidden_state\"].shape"
   ]
  },
  {
   "cell_type": "code",
   "execution_count": 65,
   "id": "69eda6f0",
   "metadata": {},
   "outputs": [
    {
     "data": {
      "text/plain": [
       "tensor([[[-0.3491, -0.0853, -0.4962,  ...,  0.2933, -0.6834,  0.0838],\n",
       "         [-0.2567, -0.0870, -0.5613,  ...,  0.2358, -0.6816,  0.0205],\n",
       "         [-0.3327, -0.1112, -0.6037,  ...,  0.2785, -0.6297, -0.1314],\n",
       "         ...,\n",
       "         [-0.0580, -0.3146, -0.0368,  ..., -0.2898, -0.1898,  0.2105],\n",
       "         [-0.2231, -0.3032,  0.0296,  ...,  0.0974, -0.2742,  0.1361],\n",
       "         [-0.1851, -0.3024,  0.0322,  ...,  0.1357, -0.2357,  0.0736]],\n",
       "\n",
       "        [[-0.2545, -0.2163, -0.4848,  ...,  0.3813, -0.5618,  0.3422],\n",
       "         [-0.1782, -0.2388, -0.4575,  ...,  0.3282, -0.5424,  0.2551],\n",
       "         [-0.1515, -0.3072, -0.3812,  ...,  0.2877, -0.4253,  0.1172],\n",
       "         ...,\n",
       "         [ 0.5395,  0.1442, -0.0540,  ...,  0.3096, -0.5798,  0.3530],\n",
       "         [ 0.2973,  0.0378, -0.0507,  ...,  0.2811, -0.5635,  0.2517],\n",
       "         [ 0.1936, -0.1404, -0.1436,  ...,  0.3061, -0.5138,  0.1664]]])"
      ]
     },
     "execution_count": 65,
     "metadata": {},
     "output_type": "execute_result"
    }
   ],
   "source": [
    "hf_outputs[\"last_hidden_state\"]"
   ]
  },
  {
   "cell_type": "code",
   "execution_count": 66,
   "id": "a747e547",
   "metadata": {},
   "outputs": [
    {
     "data": {
      "text/plain": [
       "tensor(1.9073e-06)"
      ]
     },
     "execution_count": 66,
     "metadata": {},
     "output_type": "execute_result"
    }
   ],
   "source": [
    "torch.max(torch.abs(encoder_output[\"encoder_out\"][0].permute((1, 0, 2)) - hf_outputs[\"last_hidden_state\"]))"
   ]
  },
  {
   "cell_type": "code",
   "execution_count": null,
   "id": "7518e152",
   "metadata": {},
   "outputs": [],
   "source": []
  },
  {
   "cell_type": "markdown",
   "id": "ca490a88",
   "metadata": {},
   "source": [
    "## Verify CTC model"
   ]
  },
  {
   "cell_type": "markdown",
   "id": "98055be9",
   "metadata": {},
   "source": [
    "This model only needs the encoder portion.\n",
    "\n",
    "This uses the same checkpoint as before: `speecht5_base_asr.pt` from https://huggingface.co/ajyy/SpeechT5\n",
    "\n",
    "Run the following to convert, using your own `--checkpoint_path` and `--pytorch_dump_folder_path`:\n",
    "\n",
    "```nohighlight\n",
    "cd transformers/src/transformers/models/speecht5\n",
    "\n",
    "python convert_speecht5_original_pytorch_checkpoint_to_pytorch.py \\\n",
    "  --task ctc \\\n",
    "  --checkpoint_path /path/to/SpeechT5/speecht5_base_asr.pt \n",
    "  --pytorch_dump_folder_path /some/other/path\n",
    "```"
   ]
  },
  {
   "cell_type": "code",
   "execution_count": 69,
   "id": "69ca25a8",
   "metadata": {},
   "outputs": [],
   "source": [
    "# hf_model_ctc = SpeechT5ForCTC(config)"
   ]
  },
  {
   "cell_type": "code",
   "execution_count": 67,
   "id": "5a32978f",
   "metadata": {},
   "outputs": [],
   "source": [
    "model_checkpoint_ctc = \"/Users/matthijs/Documents/FILES/HuggingFace/SpeechT5/weights/speecht5_base_ctc\"\n",
    "hf_model_ctc = SpeechT5ForCTC.from_pretrained(model_checkpoint_ctc)"
   ]
  },
  {
   "cell_type": "code",
   "execution_count": 68,
   "id": "45272066",
   "metadata": {},
   "outputs": [],
   "source": [
    "# Not sure if this should work, since SpeechT5ForCTC does not have a speecht5 property...\n",
    "#hf_model_ctc = SpeechT5Model.from_pretrained(model_checkpoint_ctc)"
   ]
  },
  {
   "cell_type": "code",
   "execution_count": 69,
   "id": "8d81d7ef",
   "metadata": {},
   "outputs": [
    {
     "data": {
      "text/plain": [
       "transformers.modeling_outputs.CausalLMOutput"
      ]
     },
     "execution_count": 69,
     "metadata": {},
     "output_type": "execute_result"
    }
   ],
   "source": [
    "# Run the full model:\n",
    "with torch.no_grad():\n",
    "     hf_outputs = hf_model_ctc(**inputs)\n",
    "\n",
    "# Run without attention_mask:\n",
    "# with torch.no_grad():\n",
    "#     hf_outputs = hf_model_ctc(input_values=inputs[\"input_values\"])\n",
    "\n",
    "type(hf_outputs)"
   ]
  },
  {
   "cell_type": "code",
   "execution_count": 70,
   "id": "de48ff1e",
   "metadata": {},
   "outputs": [
    {
     "data": {
      "text/plain": [
       "tensor(9.5367e-06)"
      ]
     },
     "execution_count": 70,
     "metadata": {},
     "output_type": "execute_result"
    }
   ],
   "source": [
    "torch.max(torch.abs(encoder_output[\"encoder_out_for_ctc\"][0].permute((1, 0, 2)) - hf_outputs[0]))"
   ]
  },
  {
   "cell_type": "code",
   "execution_count": 71,
   "id": "32fabb43",
   "metadata": {},
   "outputs": [],
   "source": [
    "probs = torch.nn.functional.softmax(hf_outputs[0], dim=-1, dtype=torch.float32)\n",
    "probs = probs.argmax(dim=-1)"
   ]
  },
  {
   "cell_type": "code",
   "execution_count": 72,
   "id": "267f80ad",
   "metadata": {},
   "outputs": [
    {
     "data": {
      "text/plain": [
       "tensor([[80, 80, 80, 80, 80,  4,  4,  4,  4,  4,  4,  4,  4,  4,  4,  4,  4,  4,\n",
       "          4,  4,  4,  4,  4,  4,  4,  4,  4, 18, 18, 10, 10, 80, 12, 12, 80,  6,\n",
       "         80,  5, 13, 13,  4,  4, 45, 45, 16, 16, 10, 10, 15, 15, 15, 80, 80,  6,\n",
       "          6, 80,  5, 13, 13, 80, 80,  4,  4, 80, 10, 10, 80, 12, 12,  4,  4,  6,\n",
       "         11, 11,  5,  5,  4,  4, 80,  7, 24, 80, 80, 24, 80, 80, 80, 80,  8, 12,\n",
       "         12, 80, 80, 80, 12, 80, 80, 80,  5, 15, 15, 15, 80, 80, 80,  4,  4, 80,\n",
       "         80,  8, 19, 19,  4,  4,  6, 11, 11,  5,  4,  4, 18, 10, 10, 14, 80, 14,\n",
       "         14, 15, 15,  5, 80,  4,  4, 17, 17, 15, 15, 80, 80, 80,  7, 12, 12, 12,\n",
       "         80, 80, 12, 12, 80, 80,  5,  5, 80, 80, 80, 12, 12, 80, 80, 80, 80, 80,\n",
       "         80,  4,  4,  4, 80,  7,  9,  9, 14, 80,  4,  4, 20, 20,  5,  5,  4,  4,\n",
       "          7,  7, 13,  5,  5,  4, 21, 21, 15, 15, 80, 80, 80,  7,  7,  7, 80, 80,\n",
       "         14, 14, 80, 80,  4,  4,  6,  6,  8,  8, 80,  4,  4, 20, 20, 80,  5, 15,\n",
       "         15, 15, 15, 80, 80, 17, 17,  8,  8, 18,  5,  5, 80, 80, 80,  4,  4, 11,\n",
       "         11, 11, 10, 80, 12, 12, 80, 80,  4,  4,  4, 21, 21, 80, 80,  8,  8, 80,\n",
       "         80, 80, 12, 12, 80, 80, 80, 24, 24, 80, 80, 15, 15, 15, 80, 80, 80, 80,\n",
       "         80, 80, 80, 80, 80, 80, 80, 80, 80, 80, 80, 80, 80, 80, 80, 80, 80, 80,\n",
       "         80, 80, 80, 80, 80, 80, 80, 80, 80, 80, 80, 80, 80, 80, 80, 80, 80, 80,\n",
       "         80, 80, 80, 80, 80, 80, 80, 80, 80, 80, 80, 80, 80, 80, 80, 80, 80, 80,\n",
       "         80, 80, 80, 80, 80, 80, 80, 80, 80, 80, 80, 80, 80, 80, 80, 80, 80, 80,\n",
       "         80, 80, 80, 80, 80, 80, 80, 80, 80, 80, 80, 80, 80, 80, 80, 80, 80, 80,\n",
       "         80, 80, 80, 80, 80, 80, 80, 80, 80, 80, 80, 80, 80, 80, 80, 80, 80, 80,\n",
       "         80, 80, 80, 80, 80, 80, 80, 80, 80, 80, 80, 80, 80, 80, 80, 80, 80, 80,\n",
       "         80, 80, 80, 80, 80],\n",
       "        [80, 80, 80, 80,  4,  4,  4,  4,  4,  4,  4, 12, 12, 80, 80, 80,  5,  5,\n",
       "         15, 15, 15, 19, 19, 80,  4,  4, 14, 14, 80,  5, 80, 80, 12, 12, 12, 80,\n",
       "          6,  6, 13, 13, 16, 16, 16, 80, 17, 17,  6,  4,  4, 20, 10, 15, 80, 80,\n",
       "         15,  4, 17, 17,  8,  8, 18, 80, 80, 18, 80,  5,  9,  9, 80, 80, 17,  5,\n",
       "         80,  4, 80, 10,  9, 80, 80,  4,  4, 19, 19, 80, 80, 80, 80, 80, 80, 80,\n",
       "         80, 80, 10, 10, 80, 80, 27,  5,  5, 80, 80, 80, 80, 80, 80, 80, 80, 80,\n",
       "         80, 80, 80, 80, 80, 80, 80,  4,  4,  4,  4,  4,  4,  4, 19, 19, 80, 80,\n",
       "         80,  8,  8, 16, 16, 13, 13, 13, 80, 80, 80, 80, 80, 80, 80, 80, 80, 80,\n",
       "         80, 80, 80, 80, 80, 80,  4,  4,  4,  4,  4,  4,  6,  6, 11, 11, 13, 13,\n",
       "         13,  5,  5, 80, 80,  5,  5,  5, 80, 80, 80, 80, 80, 80, 80, 80, 80, 80,\n",
       "         80, 80, 80, 80, 80,  4,  4,  4,  4,  4,  4,  6,  6,  6, 20, 20, 80, 80,\n",
       "          8,  8, 80, 80, 80, 80, 80, 80, 80, 80, 80, 80, 80, 80, 80, 80, 80, 80,\n",
       "         80, 80, 80, 80,  4,  4,  4,  4,  4,  4,  4,  4, 80, 80, 80,  8,  9,  9,\n",
       "          5,  5,  4,  4, 80,  7,  9,  9, 14,  4,  4,  4,  7,  4,  4, 11, 11, 80,\n",
       "         80, 80,  7,  7,  7, 15, 15, 15, 19, 19, 80, 80, 80, 80, 80, 80, 80, 80,\n",
       "         80, 80, 80, 80, 80, 80,  4,  4,  4,  4,  4,  4,  4, 80, 80,  8,  8,  9,\n",
       "          9,  5,  5, 80,  4,  4, 80, 80,  7,  9,  9, 14,  4,  4,  7,  7,  4,  4,\n",
       "         45, 45, 16, 16, 16,  7,  7, 13, 13, 80, 80,  6, 80,  5, 13, 13, 80, 80,\n",
       "         80, 80, 80, 80, 80, 80, 80, 80, 80, 80, 80, 80, 80,  4,  4,  4,  4,  4,\n",
       "          4,  4, 80, 80,  8,  8,  9,  9,  5,  4,  4, 80,  7,  9,  9, 14,  4,  4,\n",
       "          7,  4,  4, 15, 10,  6,  6, 80,  6,  6, 15,  5,  5,  4, 25, 25, 80, 10,\n",
       "         10, 80,  6,  6, 80, 80, 80, 80, 80, 80, 80, 80, 80, 80, 80, 80, 80, 80,\n",
       "         80, 80, 80, 80, 80]])"
      ]
     },
     "execution_count": 72,
     "metadata": {},
     "output_type": "execute_result"
    }
   ],
   "source": [
    "probs"
   ]
  },
  {
   "cell_type": "code",
   "execution_count": 73,
   "id": "90ca3c77",
   "metadata": {},
   "outputs": [],
   "source": [
    "# print(tgt_dict.string(probs[0]))"
   ]
  },
  {
   "cell_type": "code",
   "execution_count": 74,
   "id": "5bcf370d",
   "metadata": {},
   "outputs": [
    {
     "name": "stdout",
     "output_type": "stream",
     "text": [
      "                      mmiissterr  qquuiillltterr  iiss  thhee  appossselll  off  thhe  miidddlle  ccllassssseess   annd  wwee  aaree ggllaaadd  ttoo  wwellllccoomee  hhhiss   ggoosspplll\n",
      "       sseelllff  ddesssttrruuucct  will ccoommennce in  ffiivee       ffoouurrr      tthhrrreeeee      tttwwoo        onnee  annd   a  hhaaalllff       oonnee  annd  aa  qquuuaarrterr       oonne  annd  a  littttlee bbiitt\n"
     ]
    }
   ],
   "source": [
    "for i in range(probs.shape[0]):\n",
    "    print(tokenizer.decode(tgt_dict.string(probs[i])).replace(\"<ctc_blank>\", \"\"))"
   ]
  },
  {
   "cell_type": "code",
   "execution_count": null,
   "id": "1d998839",
   "metadata": {},
   "outputs": [],
   "source": []
  },
  {
   "cell_type": "markdown",
   "id": "0843c78d",
   "metadata": {},
   "source": [
    "Calculate loss:"
   ]
  },
  {
   "cell_type": "code",
   "execution_count": null,
   "id": "488b057a",
   "metadata": {},
   "outputs": [],
   "source": [
    "with torch.no_grad():\n",
    "     hf_outputs = hf_model_ctc(\n",
    "         **inputs, \n",
    "         labels=torch.tensor(\n",
    "           [[ 46, 16, 12,  6,  4,  6, 11, 13, 16, 12,  6,  4,  7,  9, 14,  4,\n",
    "         24,  7, 13, 13, 22,  4,  7,  9, 14,  4, 27, 10, 17,  6,  8, 13, 22,  4,\n",
    "          6,  8,  4,  6, 11,  5,  4, 12,  6, 13,  8,  9, 21,  5, 13, ]]\n",
    "         ),\n",
    "         output_hidden_states=True,\n",
    "         return_dict=True,\n",
    "     )"
   ]
  },
  {
   "cell_type": "code",
   "execution_count": null,
   "id": "0c9be9de",
   "metadata": {},
   "outputs": [],
   "source": [
    "hf_outputs.loss"
   ]
  },
  {
   "cell_type": "code",
   "execution_count": null,
   "id": "a115aa44",
   "metadata": {},
   "outputs": [],
   "source": []
  },
  {
   "cell_type": "markdown",
   "id": "b17bb840",
   "metadata": {},
   "source": [
    "## Verify text decoder prenet"
   ]
  },
  {
   "cell_type": "markdown",
   "id": "cb9ba48d",
   "metadata": {},
   "source": [
    "First this calls `text_decoder_prenet`:"
   ]
  },
  {
   "cell_type": "code",
   "execution_count": 154,
   "id": "731e18db",
   "metadata": {},
   "outputs": [],
   "source": [
    "batch_size = inputs.input_values.size(0)\n",
    "beam_size = 5"
   ]
  },
  {
   "cell_type": "code",
   "execution_count": 155,
   "id": "28dcb259",
   "metadata": {},
   "outputs": [
    {
     "data": {
      "text/plain": [
       "torch.Size([10, 6])"
      ]
     },
     "execution_count": 155,
     "metadata": {},
     "output_type": "execute_result"
    }
   ],
   "source": [
    "tokens = torch.tensor([2, 4, 46, 16, 12, 16] * beam_size * batch_size).reshape(beam_size * batch_size, -1)\n",
    "tokens.shape"
   ]
  },
  {
   "cell_type": "code",
   "execution_count": 131,
   "id": "2296db22",
   "metadata": {},
   "outputs": [],
   "source": [
    "# This one has padding (token_id = 1)\n",
    "tokens = torch.tensor([2, 4, 46, 16, 1, 12] * beam_size * batch_size).reshape(beam_size * batch_size, -1)"
   ]
  },
  {
   "cell_type": "code",
   "execution_count": 156,
   "id": "f09f744e",
   "metadata": {},
   "outputs": [],
   "source": [
    "with torch.no_grad():\n",
    "    prev_output_tokens, tgt_mask, incremental_state = orig_model.text_decoder_prenet(tokens, incremental_state=None)"
   ]
  },
  {
   "cell_type": "code",
   "execution_count": 157,
   "id": "28e885e3",
   "metadata": {},
   "outputs": [],
   "source": [
    "# This returns a sequence length of 1\n",
    "# with torch.no_grad():\n",
    "#     prev_output_tokens, tgt_mask, incremental_state = orig_model.text_decoder_prenet(tokens, incremental_state={})"
   ]
  },
  {
   "cell_type": "code",
   "execution_count": 158,
   "id": "725cfc62",
   "metadata": {},
   "outputs": [
    {
     "data": {
      "text/plain": [
       "torch.Size([10, 6, 768])"
      ]
     },
     "execution_count": 158,
     "metadata": {},
     "output_type": "execute_result"
    }
   ],
   "source": [
    "# Note: misleading name; these are not the actual tokens but their embeddings!\n",
    "prev_output_tokens.shape"
   ]
  },
  {
   "cell_type": "code",
   "execution_count": 159,
   "id": "84764c60",
   "metadata": {},
   "outputs": [],
   "source": [
    "tgt_mask"
   ]
  },
  {
   "cell_type": "code",
   "execution_count": 160,
   "id": "81026d6e",
   "metadata": {},
   "outputs": [],
   "source": [
    "incremental_state"
   ]
  },
  {
   "cell_type": "code",
   "execution_count": 161,
   "id": "d180d86a",
   "metadata": {},
   "outputs": [
    {
     "data": {
      "text/plain": [
       "tuple"
      ]
     },
     "execution_count": 161,
     "metadata": {},
     "output_type": "execute_result"
    }
   ],
   "source": [
    "with torch.no_grad():\n",
    "     hf_outputs = hf_model.speecht5.decoder.prenet(\n",
    "         input_ids=tokens,\n",
    "#          attention_mask=hf_encoder_attention_mask,\n",
    "#          attention_mask=inputs.attention_mask,\n",
    "#          past_key_values=[(torch.ones(5, 1, 1), torch.ones(5, 1, 1))],\n",
    "     )\n",
    "\n",
    "type(hf_outputs)"
   ]
  },
  {
   "cell_type": "code",
   "execution_count": 162,
   "id": "6ba48750",
   "metadata": {},
   "outputs": [],
   "source": [
    "token_embeds_hf, decoder_attention_mask = hf_outputs"
   ]
  },
  {
   "cell_type": "code",
   "execution_count": 163,
   "id": "265eaee9",
   "metadata": {},
   "outputs": [
    {
     "data": {
      "text/plain": [
       "torch.Size([10, 6, 768])"
      ]
     },
     "execution_count": 163,
     "metadata": {},
     "output_type": "execute_result"
    }
   ],
   "source": [
    "token_embeds_hf.shape"
   ]
  },
  {
   "cell_type": "code",
   "execution_count": 164,
   "id": "308e46e6",
   "metadata": {},
   "outputs": [
    {
     "data": {
      "text/plain": [
       "tensor(0.)"
      ]
     },
     "execution_count": 164,
     "metadata": {},
     "output_type": "execute_result"
    }
   ],
   "source": [
    "torch.max(torch.abs(prev_output_tokens - token_embeds_hf))"
   ]
  },
  {
   "cell_type": "code",
   "execution_count": 165,
   "id": "1d4c3d92",
   "metadata": {},
   "outputs": [],
   "source": [
    "decoder_attention_mask"
   ]
  },
  {
   "cell_type": "code",
   "execution_count": null,
   "id": "ad9c84dc",
   "metadata": {},
   "outputs": [],
   "source": []
  },
  {
   "cell_type": "markdown",
   "id": "7fec354d",
   "metadata": {},
   "source": [
    "## Verify Transformer decoder output"
   ]
  },
  {
   "cell_type": "code",
   "execution_count": 166,
   "id": "42a4fb97",
   "metadata": {},
   "outputs": [],
   "source": [
    "bsz = source.size(0)\n",
    "new_order = torch.arange(bsz).view(-1, 1).repeat(1, beam_size).view(-1)\n",
    "encoder_outs = orig_model.encoder.reorder_encoder_out(encoder_output, new_order)"
   ]
  },
  {
   "cell_type": "code",
   "execution_count": 167,
   "id": "a98652fd",
   "metadata": {},
   "outputs": [
    {
     "data": {
      "text/plain": [
       "tensor([[[ 1.1074,  1.1042,  1.0387,  ...,  0.9619,  1.0463,  0.8678],\n",
       "         [ 0.0890,  0.1702,  0.3139,  ...,  0.8629,  0.7833,  0.9348],\n",
       "         [-0.7402, -0.4274, -0.5774,  ...,  1.3103,  0.5403,  0.7292],\n",
       "         [-0.8579, -0.9214, -0.9064,  ...,  1.0331,  0.8949,  0.9723],\n",
       "         [-0.2291, -0.4457, -0.5671,  ...,  0.9991,  0.8768,  0.9128],\n",
       "         [ 0.7580,  0.5875,  0.4706,  ...,  1.0331,  0.8949,  0.9723]],\n",
       "\n",
       "        [[ 1.1074,  1.1042,  1.0387,  ...,  0.9619,  1.0463,  0.8678],\n",
       "         [ 0.0890,  0.1702,  0.3139,  ...,  0.8629,  0.7833,  0.9348],\n",
       "         [-0.7402, -0.4274, -0.5774,  ...,  1.3103,  0.5403,  0.7292],\n",
       "         [-0.8579, -0.9214, -0.9064,  ...,  1.0331,  0.8949,  0.9723],\n",
       "         [-0.2291, -0.4457, -0.5671,  ...,  0.9991,  0.8768,  0.9128],\n",
       "         [ 0.7580,  0.5875,  0.4706,  ...,  1.0331,  0.8949,  0.9723]],\n",
       "\n",
       "        [[ 1.1074,  1.1042,  1.0387,  ...,  0.9619,  1.0463,  0.8678],\n",
       "         [ 0.0890,  0.1702,  0.3139,  ...,  0.8629,  0.7833,  0.9348],\n",
       "         [-0.7402, -0.4274, -0.5774,  ...,  1.3103,  0.5403,  0.7292],\n",
       "         [-0.8579, -0.9214, -0.9064,  ...,  1.0331,  0.8949,  0.9723],\n",
       "         [-0.2291, -0.4457, -0.5671,  ...,  0.9991,  0.8768,  0.9128],\n",
       "         [ 0.7580,  0.5875,  0.4706,  ...,  1.0331,  0.8949,  0.9723]],\n",
       "\n",
       "        ...,\n",
       "\n",
       "        [[ 1.1074,  1.1042,  1.0387,  ...,  0.9619,  1.0463,  0.8678],\n",
       "         [ 0.0890,  0.1702,  0.3139,  ...,  0.8629,  0.7833,  0.9348],\n",
       "         [-0.7402, -0.4274, -0.5774,  ...,  1.3103,  0.5403,  0.7292],\n",
       "         [-0.8579, -0.9214, -0.9064,  ...,  1.0331,  0.8949,  0.9723],\n",
       "         [-0.2291, -0.4457, -0.5671,  ...,  0.9991,  0.8768,  0.9128],\n",
       "         [ 0.7580,  0.5875,  0.4706,  ...,  1.0331,  0.8949,  0.9723]],\n",
       "\n",
       "        [[ 1.1074,  1.1042,  1.0387,  ...,  0.9619,  1.0463,  0.8678],\n",
       "         [ 0.0890,  0.1702,  0.3139,  ...,  0.8629,  0.7833,  0.9348],\n",
       "         [-0.7402, -0.4274, -0.5774,  ...,  1.3103,  0.5403,  0.7292],\n",
       "         [-0.8579, -0.9214, -0.9064,  ...,  1.0331,  0.8949,  0.9723],\n",
       "         [-0.2291, -0.4457, -0.5671,  ...,  0.9991,  0.8768,  0.9128],\n",
       "         [ 0.7580,  0.5875,  0.4706,  ...,  1.0331,  0.8949,  0.9723]],\n",
       "\n",
       "        [[ 1.1074,  1.1042,  1.0387,  ...,  0.9619,  1.0463,  0.8678],\n",
       "         [ 0.0890,  0.1702,  0.3139,  ...,  0.8629,  0.7833,  0.9348],\n",
       "         [-0.7402, -0.4274, -0.5774,  ...,  1.3103,  0.5403,  0.7292],\n",
       "         [-0.8579, -0.9214, -0.9064,  ...,  1.0331,  0.8949,  0.9723],\n",
       "         [-0.2291, -0.4457, -0.5671,  ...,  0.9991,  0.8768,  0.9128],\n",
       "         [ 0.7580,  0.5875,  0.4706,  ...,  1.0331,  0.8949,  0.9723]]])"
      ]
     },
     "execution_count": 167,
     "metadata": {},
     "output_type": "execute_result"
    }
   ],
   "source": [
    "prev_output_tokens"
   ]
  },
  {
   "cell_type": "code",
   "execution_count": 168,
   "id": "6229b43c",
   "metadata": {},
   "outputs": [],
   "source": [
    "with torch.no_grad():\n",
    "    decoder_output, extra = orig_model.decoder(\n",
    "        prev_output_tokens,\n",
    "        tgt_mask,\n",
    "        encoder_out=encoder_outs,\n",
    "        incremental_state=incremental_state,\n",
    "    )"
   ]
  },
  {
   "cell_type": "code",
   "execution_count": 169,
   "id": "0a190958",
   "metadata": {},
   "outputs": [
    {
     "data": {
      "text/plain": [
       "torch.Size([10, 6, 768])"
      ]
     },
     "execution_count": 169,
     "metadata": {},
     "output_type": "execute_result"
    }
   ],
   "source": [
    "decoder_output.shape"
   ]
  },
  {
   "cell_type": "code",
   "execution_count": 170,
   "id": "fea0351e",
   "metadata": {
    "scrolled": false
   },
   "outputs": [
    {
     "data": {
      "text/plain": [
       "tensor([[[-0.4042, -0.3464, -0.1654,  ..., -0.2053, -0.4237,  0.0788],\n",
       "         [-0.4293, -0.6809, -1.6442,  ..., -0.3035,  0.1346,  0.0505],\n",
       "         [ 0.2834, -0.7885, -1.0885,  ...,  0.2483,  0.1978,  0.5294],\n",
       "         [ 0.7349, -1.1453, -1.6684,  ...,  0.3394,  0.5876, -0.4216],\n",
       "         [ 0.6584, -1.1614, -0.8039,  ..., -0.5429,  0.5048, -0.2464],\n",
       "         [ 0.5320, -0.6075, -0.9035,  ...,  0.6435,  0.6379, -0.0853]],\n",
       "\n",
       "        [[-0.4042, -0.3464, -0.1654,  ..., -0.2053, -0.4237,  0.0788],\n",
       "         [-0.4293, -0.6809, -1.6442,  ..., -0.3035,  0.1346,  0.0505],\n",
       "         [ 0.2834, -0.7885, -1.0885,  ...,  0.2483,  0.1978,  0.5294],\n",
       "         [ 0.7349, -1.1453, -1.6684,  ...,  0.3394,  0.5876, -0.4216],\n",
       "         [ 0.6584, -1.1614, -0.8039,  ..., -0.5429,  0.5048, -0.2464],\n",
       "         [ 0.5320, -0.6075, -0.9035,  ...,  0.6435,  0.6379, -0.0853]],\n",
       "\n",
       "        [[-0.4042, -0.3464, -0.1654,  ..., -0.2053, -0.4237,  0.0788],\n",
       "         [-0.4293, -0.6809, -1.6442,  ..., -0.3035,  0.1346,  0.0505],\n",
       "         [ 0.2834, -0.7885, -1.0885,  ...,  0.2483,  0.1978,  0.5294],\n",
       "         [ 0.7349, -1.1453, -1.6684,  ...,  0.3394,  0.5876, -0.4216],\n",
       "         [ 0.6584, -1.1614, -0.8039,  ..., -0.5429,  0.5048, -0.2464],\n",
       "         [ 0.5320, -0.6075, -0.9035,  ...,  0.6435,  0.6379, -0.0853]],\n",
       "\n",
       "        ...,\n",
       "\n",
       "        [[-0.4469, -0.2283, -0.0834,  ..., -0.2076, -0.4499,  0.0166],\n",
       "         [ 0.0655, -0.4424, -1.4536,  ..., -0.2090, -0.1812, -0.1850],\n",
       "         [ 0.6125, -0.1873, -0.7856,  ...,  0.1821, -0.3962,  0.9259],\n",
       "         [ 0.8581, -0.5432, -1.7023,  ..., -0.0384,  0.2454,  0.0275],\n",
       "         [ 0.8709, -0.2559, -0.4044,  ..., -0.4054, -0.4117, -0.0879],\n",
       "         [ 0.6939, -0.6869, -0.7209,  ...,  0.2299,  0.0294,  0.2049]],\n",
       "\n",
       "        [[-0.4469, -0.2283, -0.0834,  ..., -0.2076, -0.4499,  0.0166],\n",
       "         [ 0.0655, -0.4424, -1.4536,  ..., -0.2090, -0.1812, -0.1850],\n",
       "         [ 0.6125, -0.1873, -0.7856,  ...,  0.1821, -0.3962,  0.9259],\n",
       "         [ 0.8581, -0.5432, -1.7023,  ..., -0.0384,  0.2454,  0.0275],\n",
       "         [ 0.8709, -0.2559, -0.4044,  ..., -0.4054, -0.4117, -0.0879],\n",
       "         [ 0.6939, -0.6869, -0.7209,  ...,  0.2299,  0.0294,  0.2049]],\n",
       "\n",
       "        [[-0.4469, -0.2283, -0.0834,  ..., -0.2076, -0.4499,  0.0166],\n",
       "         [ 0.0655, -0.4424, -1.4536,  ..., -0.2090, -0.1812, -0.1850],\n",
       "         [ 0.6125, -0.1873, -0.7856,  ...,  0.1821, -0.3962,  0.9259],\n",
       "         [ 0.8581, -0.5432, -1.7023,  ..., -0.0384,  0.2454,  0.0275],\n",
       "         [ 0.8709, -0.2559, -0.4044,  ..., -0.4054, -0.4117, -0.0879],\n",
       "         [ 0.6939, -0.6869, -0.7209,  ...,  0.2299,  0.0294,  0.2049]]])"
      ]
     },
     "execution_count": 170,
     "metadata": {},
     "output_type": "execute_result"
    }
   ],
   "source": [
    "decoder_output"
   ]
  },
  {
   "cell_type": "code",
   "execution_count": 171,
   "id": "05117956",
   "metadata": {},
   "outputs": [],
   "source": [
    "#[x.shape for x in extra[\"attn\"]]"
   ]
  },
  {
   "cell_type": "code",
   "execution_count": 172,
   "id": "b593692b",
   "metadata": {},
   "outputs": [],
   "source": [
    "#[x.shape for x in extra[\"inner_states\"]]"
   ]
  },
  {
   "cell_type": "code",
   "execution_count": 193,
   "id": "9d486f4b",
   "metadata": {},
   "outputs": [
    {
     "data": {
      "text/plain": [
       "transformers.modeling_outputs.BaseModelOutputWithPastAndCrossAttentions"
      ]
     },
     "execution_count": 193,
     "metadata": {},
     "output_type": "execute_result"
    }
   ],
   "source": [
    "with torch.no_grad():\n",
    "     hf_outputs = hf_model.speecht5.decoder.wrapped_decoder(\n",
    "         hidden_states=prev_output_tokens,\n",
    "         attention_mask=decoder_attention_mask,\n",
    "         encoder_hidden_states=encoder_outs[\"encoder_out\"][0].permute((1, 0, 2)),\n",
    "         encoder_attention_mask=hf_encoder_attention_mask.repeat((1, beam_size)).view(beam_size * batch_size, -1),\n",
    "         return_dict=True,\n",
    "     )\n",
    "\n",
    "type(hf_outputs)"
   ]
  },
  {
   "cell_type": "code",
   "execution_count": 194,
   "id": "ea512cc2",
   "metadata": {},
   "outputs": [
    {
     "data": {
      "text/plain": [
       "['last_hidden_state', 'past_key_values']"
      ]
     },
     "execution_count": 194,
     "metadata": {},
     "output_type": "execute_result"
    }
   ],
   "source": [
    "list(hf_outputs.keys())"
   ]
  },
  {
   "cell_type": "code",
   "execution_count": 195,
   "id": "d82c369a",
   "metadata": {},
   "outputs": [
    {
     "data": {
      "text/plain": [
       "torch.Size([10, 6, 768])"
      ]
     },
     "execution_count": 195,
     "metadata": {},
     "output_type": "execute_result"
    }
   ],
   "source": [
    "hf_outputs[\"last_hidden_state\"].shape"
   ]
  },
  {
   "cell_type": "code",
   "execution_count": 196,
   "id": "eb6282bc",
   "metadata": {},
   "outputs": [
    {
     "data": {
      "text/plain": [
       "tensor([[[-0.4042, -0.3464, -0.1654,  ..., -0.2053, -0.4237,  0.0788],\n",
       "         [-0.4293, -0.6809, -1.6442,  ..., -0.3035,  0.1346,  0.0505],\n",
       "         [ 0.2834, -0.7885, -1.0885,  ...,  0.2483,  0.1978,  0.5294],\n",
       "         [ 0.7349, -1.1453, -1.6684,  ...,  0.3394,  0.5876, -0.4216],\n",
       "         [ 0.6584, -1.1614, -0.8039,  ..., -0.5429,  0.5048, -0.2464],\n",
       "         [ 0.5320, -0.6075, -0.9035,  ...,  0.6435,  0.6379, -0.0853]],\n",
       "\n",
       "        [[-0.4042, -0.3464, -0.1654,  ..., -0.2053, -0.4237,  0.0788],\n",
       "         [-0.4293, -0.6809, -1.6442,  ..., -0.3035,  0.1346,  0.0505],\n",
       "         [ 0.2834, -0.7885, -1.0885,  ...,  0.2483,  0.1978,  0.5294],\n",
       "         [ 0.7349, -1.1453, -1.6684,  ...,  0.3394,  0.5876, -0.4216],\n",
       "         [ 0.6584, -1.1614, -0.8039,  ..., -0.5429,  0.5048, -0.2464],\n",
       "         [ 0.5320, -0.6075, -0.9035,  ...,  0.6435,  0.6379, -0.0853]],\n",
       "\n",
       "        [[-0.4042, -0.3464, -0.1654,  ..., -0.2053, -0.4237,  0.0788],\n",
       "         [-0.4293, -0.6809, -1.6442,  ..., -0.3035,  0.1346,  0.0505],\n",
       "         [ 0.2834, -0.7885, -1.0885,  ...,  0.2483,  0.1978,  0.5294],\n",
       "         [ 0.7349, -1.1453, -1.6684,  ...,  0.3394,  0.5876, -0.4216],\n",
       "         [ 0.6584, -1.1614, -0.8039,  ..., -0.5429,  0.5048, -0.2464],\n",
       "         [ 0.5320, -0.6075, -0.9035,  ...,  0.6435,  0.6379, -0.0853]],\n",
       "\n",
       "        ...,\n",
       "\n",
       "        [[-0.4469, -0.2283, -0.0834,  ..., -0.2076, -0.4499,  0.0166],\n",
       "         [ 0.0655, -0.4424, -1.4536,  ..., -0.2090, -0.1812, -0.1850],\n",
       "         [ 0.6125, -0.1873, -0.7856,  ...,  0.1821, -0.3962,  0.9259],\n",
       "         [ 0.8581, -0.5432, -1.7023,  ..., -0.0384,  0.2454,  0.0275],\n",
       "         [ 0.8709, -0.2559, -0.4044,  ..., -0.4054, -0.4117, -0.0879],\n",
       "         [ 0.6939, -0.6869, -0.7209,  ...,  0.2299,  0.0294,  0.2049]],\n",
       "\n",
       "        [[-0.4469, -0.2283, -0.0834,  ..., -0.2076, -0.4499,  0.0166],\n",
       "         [ 0.0655, -0.4424, -1.4536,  ..., -0.2090, -0.1812, -0.1850],\n",
       "         [ 0.6125, -0.1873, -0.7856,  ...,  0.1821, -0.3962,  0.9259],\n",
       "         [ 0.8581, -0.5432, -1.7023,  ..., -0.0384,  0.2454,  0.0275],\n",
       "         [ 0.8709, -0.2559, -0.4044,  ..., -0.4054, -0.4117, -0.0879],\n",
       "         [ 0.6939, -0.6869, -0.7209,  ...,  0.2299,  0.0294,  0.2049]],\n",
       "\n",
       "        [[-0.4469, -0.2283, -0.0834,  ..., -0.2076, -0.4499,  0.0166],\n",
       "         [ 0.0655, -0.4424, -1.4536,  ..., -0.2090, -0.1812, -0.1850],\n",
       "         [ 0.6125, -0.1873, -0.7856,  ...,  0.1821, -0.3962,  0.9259],\n",
       "         [ 0.8581, -0.5432, -1.7023,  ..., -0.0384,  0.2454,  0.0275],\n",
       "         [ 0.8709, -0.2559, -0.4044,  ..., -0.4054, -0.4117, -0.0879],\n",
       "         [ 0.6939, -0.6869, -0.7209,  ...,  0.2299,  0.0294,  0.2049]]])"
      ]
     },
     "execution_count": 196,
     "metadata": {},
     "output_type": "execute_result"
    }
   ],
   "source": [
    "hf_outputs[\"last_hidden_state\"]"
   ]
  },
  {
   "cell_type": "code",
   "execution_count": 197,
   "id": "f3e254cb",
   "metadata": {},
   "outputs": [
    {
     "data": {
      "text/plain": [
       "tensor(1.6689e-06)"
      ]
     },
     "execution_count": 197,
     "metadata": {},
     "output_type": "execute_result"
    }
   ],
   "source": [
    "torch.max(torch.abs(decoder_output - hf_outputs[\"last_hidden_state\"]))"
   ]
  },
  {
   "cell_type": "markdown",
   "id": "ef206524",
   "metadata": {},
   "source": [
    "Close enough! I would rather see 0.0 but this looks like numerical precision differences for 32-bit floats."
   ]
  },
  {
   "cell_type": "code",
   "execution_count": null,
   "id": "e0d3d1fc",
   "metadata": {},
   "outputs": [],
   "source": []
  },
  {
   "cell_type": "markdown",
   "id": "1d9113f7",
   "metadata": {},
   "source": [
    "## Verify text decoder postnet output"
   ]
  },
  {
   "cell_type": "code",
   "execution_count": 198,
   "id": "a20be43c",
   "metadata": {},
   "outputs": [],
   "source": [
    "with torch.no_grad():\n",
    "    lprobs = orig_model.text_decoder_postnet(decoder_output)"
   ]
  },
  {
   "cell_type": "code",
   "execution_count": 199,
   "id": "a7a143bf",
   "metadata": {},
   "outputs": [
    {
     "data": {
      "text/plain": [
       "torch.Size([10, 6, 81])"
      ]
     },
     "execution_count": 199,
     "metadata": {},
     "output_type": "execute_result"
    }
   ],
   "source": [
    "lprobs.shape"
   ]
  },
  {
   "cell_type": "code",
   "execution_count": 200,
   "id": "7d6de14b",
   "metadata": {},
   "outputs": [
    {
     "data": {
      "text/plain": [
       "tensor([[-2.4168e+01, -2.2556e+01,  5.4097e-01, -2.2586e+01,  1.7349e+01,\n",
       "          4.6760e-02,  6.2041e-01, -9.4606e-01, -4.4315e-01, -1.8812e+00,\n",
       "         -3.9952e-01,  2.1893e-01,  3.9134e-01, -1.3906e+00, -2.2705e+00,\n",
       "         -1.5500e+00, -1.0440e+00, -2.6232e+00, -7.7046e-01, -4.0442e-02,\n",
       "          1.1401e+00,  2.4883e-01, -3.7950e+00, -2.2715e+01, -8.6929e-01,\n",
       "          6.3732e-01, -2.2659e+01, -2.8817e+00, -3.3690e+00, -2.2606e+01,\n",
       "         -2.2637e+01,  9.3877e-02, -2.2744e+01, -2.2613e+01, -2.2609e+01,\n",
       "         -2.2670e+01, -2.2651e+01, -5.3913e+00, -2.2602e+01, -2.2722e+01,\n",
       "         -2.2586e+01, -2.2674e+01, -2.2655e+01, -2.2676e+01, -2.2658e+01,\n",
       "         -2.4368e+00, -2.3410e+00, -2.2580e+01, -2.2609e+01, -2.2735e+01,\n",
       "         -2.2613e+01, -2.2698e+01, -2.2605e+01, -2.2590e+01, -2.2633e+01,\n",
       "         -2.2558e+01, -2.2639e+01, -6.2336e+00, -2.2628e+01, -2.2604e+01,\n",
       "         -2.2654e+01, -2.2722e+01, -2.2647e+01, -2.2622e+01, -2.2642e+01,\n",
       "         -2.2666e+01, -2.2624e+01, -2.2692e+01, -2.2651e+01, -2.2621e+01,\n",
       "         -2.2545e+01, -2.2643e+01, -2.2597e+01, -2.2617e+01, -2.2579e+01,\n",
       "         -2.2647e+01, -2.2589e+01, -2.2632e+01, -2.2609e+01, -2.1264e+01,\n",
       "         -2.2597e+01],\n",
       "        [-1.9043e+01, -1.6790e+01, -1.0073e+01, -1.6704e+01, -2.1654e+00,\n",
       "         -1.6095e-01,  2.0542e+00,  1.3301e+00,  8.8607e-01,  3.1429e+00,\n",
       "          1.7273e+00,  1.7962e+00,  2.6194e+00,  1.9622e+00,  1.1515e+00,\n",
       "          2.9886e-01, -3.7260e+00, -1.7935e+00,  1.7473e+01,  1.4869e+00,\n",
       "          2.9626e+00, -5.8204e-01, -1.0603e+00, -1.6751e+01, -2.1045e-01,\n",
       "          1.1617e+00, -1.6724e+01,  1.3194e-01, -1.3141e+00, -1.6618e+01,\n",
       "         -1.6784e+01, -7.2883e+00, -1.6691e+01, -1.6631e+01, -1.6725e+01,\n",
       "         -1.6714e+01, -1.6689e+01, -8.9997e+00, -1.6611e+01, -1.6721e+01,\n",
       "         -1.6792e+01, -1.6688e+01, -1.6791e+01, -1.6748e+01, -1.6654e+01,\n",
       "         -4.4007e+00,  1.5568e-02, -1.6610e+01, -1.6773e+01, -1.6620e+01,\n",
       "         -1.6670e+01, -1.6731e+01, -1.6700e+01, -1.6577e+01, -1.6680e+01,\n",
       "         -1.6566e+01, -1.6698e+01, -3.7797e+00, -1.6731e+01, -1.6726e+01,\n",
       "         -1.6751e+01, -1.6781e+01, -1.6745e+01, -1.6605e+01, -1.6571e+01,\n",
       "         -1.6787e+01, -1.6671e+01, -1.6678e+01, -1.6674e+01, -1.6768e+01,\n",
       "         -1.6603e+01, -1.6593e+01, -1.6689e+01, -1.6522e+01, -1.6743e+01,\n",
       "         -1.6653e+01, -1.6763e+01, -1.6809e+01, -1.6687e+01, -1.5258e+01,\n",
       "         -1.6675e+01],\n",
       "        [-2.3547e+01, -1.7763e+01, -3.8741e+00, -1.8379e+01,  4.6679e+00,\n",
       "          8.2100e+00, -1.0609e+00,  8.2360e+00,  6.7864e+00, -5.4316e-01,\n",
       "          1.1049e+01, -5.6321e+00, -1.6484e+00, -1.5931e+00, -5.5817e+00,\n",
       "         -4.7685e+00,  1.2519e+01, -4.8425e+00,  6.5959e-01, -5.7096e+00,\n",
       "         -7.5465e+00, -7.1944e+00,  1.1202e-01, -1.8384e+01, -2.8636e+00,\n",
       "         -8.6657e+00, -1.8400e+01, -2.7559e+00, -7.7308e+00, -1.8319e+01,\n",
       "         -1.8435e+01,  1.0387e+00, -1.8136e+01, -1.8234e+01, -1.8274e+01,\n",
       "         -1.8311e+01, -1.8356e+01, -1.0118e+01, -1.8370e+01, -1.8282e+01,\n",
       "         -1.8412e+01, -1.8292e+01, -1.8378e+01, -1.8441e+01, -1.8355e+01,\n",
       "         -8.4691e+00, -6.2354e+00, -1.8301e+01, -1.8260e+01, -1.8281e+01,\n",
       "         -1.8252e+01, -1.8347e+01, -1.8376e+01, -1.8136e+01, -1.8382e+01,\n",
       "         -1.8192e+01, -1.8309e+01, -7.9916e+00, -1.8421e+01, -1.8375e+01,\n",
       "         -1.8315e+01, -1.8357e+01, -1.8441e+01, -1.8317e+01, -1.8351e+01,\n",
       "         -1.8351e+01, -1.8408e+01, -1.8292e+01, -1.8241e+01, -1.8416e+01,\n",
       "         -1.8368e+01, -1.8337e+01, -1.8390e+01, -1.8279e+01, -1.8236e+01,\n",
       "         -1.8186e+01, -1.8362e+01, -1.8411e+01, -1.8322e+01, -1.7774e+01,\n",
       "         -1.8253e+01],\n",
       "        [-2.2486e+01, -1.6404e+01, -6.4348e+00, -1.6746e+01,  8.9949e-01,\n",
       "         -4.2801e+00,  1.9602e+00,  1.0625e+00, -6.0304e+00,  6.0616e+00,\n",
       "          3.1471e+00, -1.6299e+00,  1.1612e+01,  2.5203e+00,  7.0812e+00,\n",
       "          9.1620e+00, -4.3276e+00, -3.3373e+00,  5.9013e+00, -1.2608e+00,\n",
       "         -5.8013e+00, -2.0902e-01, -3.5005e+00, -1.6746e+01,  6.6611e+00,\n",
       "          3.9378e+00, -1.6607e+01,  1.7803e+00, -4.4496e+00, -1.6785e+01,\n",
       "         -1.6694e+01, -5.0086e+00, -1.6821e+01, -1.6751e+01, -1.6729e+01,\n",
       "         -1.6822e+01, -1.6882e+01, -4.3096e+00, -1.6694e+01, -1.6740e+01,\n",
       "         -1.6745e+01, -1.6832e+01, -1.6796e+01, -1.6810e+01, -1.6876e+01,\n",
       "         -4.3033e+00, -3.1710e+00, -1.6942e+01, -1.6760e+01, -1.6683e+01,\n",
       "         -1.6764e+01, -1.6752e+01, -1.6687e+01, -1.6698e+01, -1.6927e+01,\n",
       "         -1.6769e+01, -1.6844e+01, -3.7531e+00, -1.6823e+01, -1.6781e+01,\n",
       "         -1.6878e+01, -1.6840e+01, -1.6772e+01, -1.6743e+01, -1.6781e+01,\n",
       "         -1.6845e+01, -1.6749e+01, -1.6924e+01, -1.6653e+01, -1.6760e+01,\n",
       "         -1.6856e+01, -1.6797e+01, -1.6971e+01, -1.6886e+01, -1.6766e+01,\n",
       "         -1.6745e+01, -1.6744e+01, -1.6852e+01, -1.6832e+01, -1.5578e+01,\n",
       "         -1.6644e+01],\n",
       "        [-9.5296e+00, -1.2752e+01, -3.4893e+00, -1.2767e+01,  3.0611e+00,\n",
       "         -2.2461e-01,  2.1057e+01, -1.7268e+00, -2.7778e-01, -8.3309e-01,\n",
       "          1.2230e+00,  4.0795e-01,  4.5440e+00, -3.5393e+00,  1.2538e+00,\n",
       "         -4.1438e+00,  1.6193e+00,  3.5282e+00, -2.9716e+00,  1.2647e-01,\n",
       "         -4.9344e+00, -3.9908e+00, -5.4732e+00, -1.2774e+01,  7.8165e+00,\n",
       "         -3.4972e+00, -1.2680e+01, -5.0850e+00,  2.7922e+00, -1.2757e+01,\n",
       "         -1.2756e+01, -2.4174e+00, -1.2711e+01, -1.2820e+01, -1.2787e+01,\n",
       "         -1.2801e+01, -1.2719e+01, -7.6775e+00, -1.2788e+01, -1.2685e+01,\n",
       "         -1.2682e+01, -1.2738e+01, -1.2773e+01, -1.2815e+01, -1.2762e+01,\n",
       "          2.4289e+00, -5.5745e+00, -1.2719e+01, -1.2909e+01, -1.2759e+01,\n",
       "         -1.2833e+01, -1.2759e+01, -1.2749e+01, -1.2570e+01, -1.2817e+01,\n",
       "         -1.2820e+01, -1.2875e+01, -3.7295e+00, -1.2872e+01, -1.2890e+01,\n",
       "         -1.2752e+01, -1.2635e+01, -1.2750e+01, -1.2593e+01, -1.2744e+01,\n",
       "         -1.2788e+01, -1.2700e+01, -1.2930e+01, -1.2680e+01, -1.2771e+01,\n",
       "         -1.2743e+01, -1.2986e+01, -1.2817e+01, -1.2855e+01, -1.2810e+01,\n",
       "         -1.2831e+01, -1.2743e+01, -1.2848e+01, -1.2743e+01, -1.2448e+01,\n",
       "         -1.2683e+01],\n",
       "        [-2.4212e+01, -1.6132e+01, -1.8114e+00, -1.6146e+01,  5.8716e+00,\n",
       "          2.2145e+00,  2.4628e-01,  5.1427e+00, -7.3206e+00, -1.6881e+00,\n",
       "          1.3354e+00,  6.1891e-01,  4.9448e+00,  4.5401e+00, -2.6384e+00,\n",
       "          2.3586e+00, -6.9156e+00,  7.5051e-01,  2.8483e+00,  1.1872e+00,\n",
       "         -4.4748e+00,  3.9956e-01, -7.1030e+00, -1.6008e+01,  7.3428e+00,\n",
       "         -1.7044e+00, -1.5921e+01, -1.6534e+00,  1.4140e+00, -1.6134e+01,\n",
       "         -1.6120e+01, -2.2550e+00, -1.6123e+01, -1.6095e+01, -1.5970e+01,\n",
       "         -1.6187e+01, -1.6026e+01, -5.2942e+00, -1.5873e+01, -1.6145e+01,\n",
       "         -1.6020e+01, -1.6156e+01, -1.6066e+01, -1.6032e+01, -1.6148e+01,\n",
       "         -8.2226e-01, -6.0372e+00, -1.6184e+01, -1.6105e+01, -1.5980e+01,\n",
       "         -1.6257e+01, -1.6009e+01, -1.6110e+01, -1.5955e+01, -1.6270e+01,\n",
       "         -1.6133e+01, -1.6255e+01, -9.2853e+00, -1.6042e+01, -1.6079e+01,\n",
       "         -1.6159e+01, -1.6172e+01, -1.5961e+01, -1.6141e+01, -1.6138e+01,\n",
       "         -1.6220e+01, -1.6157e+01, -1.6292e+01, -1.6040e+01, -1.6088e+01,\n",
       "         -1.6151e+01, -1.6006e+01, -1.6257e+01, -1.6041e+01, -1.6106e+01,\n",
       "         -1.6049e+01, -1.6141e+01, -1.6144e+01, -1.6224e+01, -1.4362e+01,\n",
       "         -1.6027e+01]])"
      ]
     },
     "execution_count": 200,
     "metadata": {},
     "output_type": "execute_result"
    }
   ],
   "source": [
    "lprobs[0]"
   ]
  },
  {
   "cell_type": "code",
   "execution_count": 201,
   "id": "ba7571e7",
   "metadata": {},
   "outputs": [],
   "source": [
    "with torch.no_grad():\n",
    "    lprobs_hf = hf_model.text_decoder_postnet(decoder_output)"
   ]
  },
  {
   "cell_type": "code",
   "execution_count": 202,
   "id": "5623a791",
   "metadata": {},
   "outputs": [
    {
     "data": {
      "text/plain": [
       "torch.Size([10, 6, 81])"
      ]
     },
     "execution_count": 202,
     "metadata": {},
     "output_type": "execute_result"
    }
   ],
   "source": [
    "lprobs_hf.shape"
   ]
  },
  {
   "cell_type": "code",
   "execution_count": 203,
   "id": "64f0c976",
   "metadata": {},
   "outputs": [
    {
     "data": {
      "text/plain": [
       "tensor([[-2.4168e+01, -2.2556e+01,  5.4097e-01, -2.2586e+01,  1.7349e+01,\n",
       "          4.6760e-02,  6.2041e-01, -9.4606e-01, -4.4315e-01, -1.8812e+00,\n",
       "         -3.9952e-01,  2.1893e-01,  3.9134e-01, -1.3906e+00, -2.2705e+00,\n",
       "         -1.5500e+00, -1.0440e+00, -2.6232e+00, -7.7046e-01, -4.0442e-02,\n",
       "          1.1401e+00,  2.4883e-01, -3.7950e+00, -2.2715e+01, -8.6929e-01,\n",
       "          6.3732e-01, -2.2659e+01, -2.8817e+00, -3.3690e+00, -2.2606e+01,\n",
       "         -2.2637e+01,  9.3877e-02, -2.2744e+01, -2.2613e+01, -2.2609e+01,\n",
       "         -2.2670e+01, -2.2651e+01, -5.3913e+00, -2.2602e+01, -2.2722e+01,\n",
       "         -2.2586e+01, -2.2674e+01, -2.2655e+01, -2.2676e+01, -2.2658e+01,\n",
       "         -2.4368e+00, -2.3410e+00, -2.2580e+01, -2.2609e+01, -2.2735e+01,\n",
       "         -2.2613e+01, -2.2698e+01, -2.2605e+01, -2.2590e+01, -2.2633e+01,\n",
       "         -2.2558e+01, -2.2639e+01, -6.2336e+00, -2.2628e+01, -2.2604e+01,\n",
       "         -2.2654e+01, -2.2722e+01, -2.2647e+01, -2.2622e+01, -2.2642e+01,\n",
       "         -2.2666e+01, -2.2624e+01, -2.2692e+01, -2.2651e+01, -2.2621e+01,\n",
       "         -2.2545e+01, -2.2643e+01, -2.2597e+01, -2.2617e+01, -2.2579e+01,\n",
       "         -2.2647e+01, -2.2589e+01, -2.2632e+01, -2.2609e+01, -2.1264e+01,\n",
       "         -2.2597e+01],\n",
       "        [-1.9043e+01, -1.6790e+01, -1.0073e+01, -1.6704e+01, -2.1654e+00,\n",
       "         -1.6095e-01,  2.0542e+00,  1.3301e+00,  8.8607e-01,  3.1429e+00,\n",
       "          1.7273e+00,  1.7962e+00,  2.6194e+00,  1.9622e+00,  1.1515e+00,\n",
       "          2.9886e-01, -3.7260e+00, -1.7935e+00,  1.7473e+01,  1.4869e+00,\n",
       "          2.9626e+00, -5.8204e-01, -1.0603e+00, -1.6751e+01, -2.1045e-01,\n",
       "          1.1617e+00, -1.6724e+01,  1.3194e-01, -1.3141e+00, -1.6618e+01,\n",
       "         -1.6784e+01, -7.2883e+00, -1.6691e+01, -1.6631e+01, -1.6725e+01,\n",
       "         -1.6714e+01, -1.6689e+01, -8.9997e+00, -1.6611e+01, -1.6721e+01,\n",
       "         -1.6792e+01, -1.6688e+01, -1.6791e+01, -1.6748e+01, -1.6654e+01,\n",
       "         -4.4007e+00,  1.5568e-02, -1.6610e+01, -1.6773e+01, -1.6620e+01,\n",
       "         -1.6670e+01, -1.6731e+01, -1.6700e+01, -1.6577e+01, -1.6680e+01,\n",
       "         -1.6566e+01, -1.6698e+01, -3.7797e+00, -1.6731e+01, -1.6726e+01,\n",
       "         -1.6751e+01, -1.6781e+01, -1.6745e+01, -1.6605e+01, -1.6571e+01,\n",
       "         -1.6787e+01, -1.6671e+01, -1.6678e+01, -1.6674e+01, -1.6768e+01,\n",
       "         -1.6603e+01, -1.6593e+01, -1.6689e+01, -1.6522e+01, -1.6743e+01,\n",
       "         -1.6653e+01, -1.6763e+01, -1.6809e+01, -1.6687e+01, -1.5258e+01,\n",
       "         -1.6675e+01],\n",
       "        [-2.3547e+01, -1.7763e+01, -3.8741e+00, -1.8379e+01,  4.6679e+00,\n",
       "          8.2100e+00, -1.0609e+00,  8.2360e+00,  6.7864e+00, -5.4316e-01,\n",
       "          1.1049e+01, -5.6321e+00, -1.6484e+00, -1.5931e+00, -5.5817e+00,\n",
       "         -4.7685e+00,  1.2519e+01, -4.8425e+00,  6.5959e-01, -5.7096e+00,\n",
       "         -7.5465e+00, -7.1944e+00,  1.1202e-01, -1.8384e+01, -2.8636e+00,\n",
       "         -8.6657e+00, -1.8400e+01, -2.7559e+00, -7.7308e+00, -1.8319e+01,\n",
       "         -1.8435e+01,  1.0387e+00, -1.8136e+01, -1.8234e+01, -1.8274e+01,\n",
       "         -1.8311e+01, -1.8356e+01, -1.0118e+01, -1.8370e+01, -1.8282e+01,\n",
       "         -1.8412e+01, -1.8292e+01, -1.8378e+01, -1.8441e+01, -1.8355e+01,\n",
       "         -8.4691e+00, -6.2354e+00, -1.8301e+01, -1.8260e+01, -1.8281e+01,\n",
       "         -1.8252e+01, -1.8347e+01, -1.8376e+01, -1.8136e+01, -1.8382e+01,\n",
       "         -1.8192e+01, -1.8309e+01, -7.9916e+00, -1.8421e+01, -1.8375e+01,\n",
       "         -1.8315e+01, -1.8357e+01, -1.8441e+01, -1.8317e+01, -1.8351e+01,\n",
       "         -1.8351e+01, -1.8408e+01, -1.8292e+01, -1.8241e+01, -1.8416e+01,\n",
       "         -1.8368e+01, -1.8337e+01, -1.8390e+01, -1.8279e+01, -1.8236e+01,\n",
       "         -1.8186e+01, -1.8362e+01, -1.8411e+01, -1.8322e+01, -1.7774e+01,\n",
       "         -1.8253e+01],\n",
       "        [-2.2486e+01, -1.6404e+01, -6.4348e+00, -1.6746e+01,  8.9949e-01,\n",
       "         -4.2801e+00,  1.9602e+00,  1.0625e+00, -6.0304e+00,  6.0616e+00,\n",
       "          3.1471e+00, -1.6299e+00,  1.1612e+01,  2.5203e+00,  7.0812e+00,\n",
       "          9.1620e+00, -4.3276e+00, -3.3373e+00,  5.9013e+00, -1.2608e+00,\n",
       "         -5.8013e+00, -2.0902e-01, -3.5005e+00, -1.6746e+01,  6.6611e+00,\n",
       "          3.9378e+00, -1.6607e+01,  1.7803e+00, -4.4496e+00, -1.6785e+01,\n",
       "         -1.6694e+01, -5.0086e+00, -1.6821e+01, -1.6751e+01, -1.6729e+01,\n",
       "         -1.6822e+01, -1.6882e+01, -4.3096e+00, -1.6694e+01, -1.6740e+01,\n",
       "         -1.6745e+01, -1.6832e+01, -1.6796e+01, -1.6810e+01, -1.6876e+01,\n",
       "         -4.3033e+00, -3.1710e+00, -1.6942e+01, -1.6760e+01, -1.6683e+01,\n",
       "         -1.6764e+01, -1.6752e+01, -1.6687e+01, -1.6698e+01, -1.6927e+01,\n",
       "         -1.6769e+01, -1.6844e+01, -3.7531e+00, -1.6823e+01, -1.6781e+01,\n",
       "         -1.6878e+01, -1.6840e+01, -1.6772e+01, -1.6743e+01, -1.6781e+01,\n",
       "         -1.6845e+01, -1.6749e+01, -1.6924e+01, -1.6653e+01, -1.6760e+01,\n",
       "         -1.6856e+01, -1.6797e+01, -1.6971e+01, -1.6886e+01, -1.6766e+01,\n",
       "         -1.6745e+01, -1.6744e+01, -1.6852e+01, -1.6832e+01, -1.5578e+01,\n",
       "         -1.6644e+01],\n",
       "        [-9.5296e+00, -1.2752e+01, -3.4893e+00, -1.2767e+01,  3.0611e+00,\n",
       "         -2.2461e-01,  2.1057e+01, -1.7268e+00, -2.7778e-01, -8.3309e-01,\n",
       "          1.2230e+00,  4.0795e-01,  4.5440e+00, -3.5393e+00,  1.2538e+00,\n",
       "         -4.1438e+00,  1.6193e+00,  3.5282e+00, -2.9716e+00,  1.2647e-01,\n",
       "         -4.9344e+00, -3.9908e+00, -5.4732e+00, -1.2774e+01,  7.8165e+00,\n",
       "         -3.4972e+00, -1.2680e+01, -5.0850e+00,  2.7922e+00, -1.2757e+01,\n",
       "         -1.2756e+01, -2.4174e+00, -1.2711e+01, -1.2820e+01, -1.2787e+01,\n",
       "         -1.2801e+01, -1.2719e+01, -7.6775e+00, -1.2788e+01, -1.2685e+01,\n",
       "         -1.2682e+01, -1.2738e+01, -1.2773e+01, -1.2815e+01, -1.2762e+01,\n",
       "          2.4289e+00, -5.5745e+00, -1.2719e+01, -1.2909e+01, -1.2759e+01,\n",
       "         -1.2833e+01, -1.2759e+01, -1.2749e+01, -1.2570e+01, -1.2817e+01,\n",
       "         -1.2820e+01, -1.2875e+01, -3.7295e+00, -1.2872e+01, -1.2890e+01,\n",
       "         -1.2752e+01, -1.2635e+01, -1.2750e+01, -1.2593e+01, -1.2744e+01,\n",
       "         -1.2788e+01, -1.2700e+01, -1.2930e+01, -1.2680e+01, -1.2771e+01,\n",
       "         -1.2743e+01, -1.2986e+01, -1.2817e+01, -1.2855e+01, -1.2810e+01,\n",
       "         -1.2831e+01, -1.2743e+01, -1.2848e+01, -1.2743e+01, -1.2448e+01,\n",
       "         -1.2683e+01],\n",
       "        [-2.4212e+01, -1.6132e+01, -1.8114e+00, -1.6146e+01,  5.8716e+00,\n",
       "          2.2145e+00,  2.4628e-01,  5.1427e+00, -7.3206e+00, -1.6881e+00,\n",
       "          1.3354e+00,  6.1891e-01,  4.9448e+00,  4.5401e+00, -2.6384e+00,\n",
       "          2.3586e+00, -6.9156e+00,  7.5051e-01,  2.8483e+00,  1.1872e+00,\n",
       "         -4.4748e+00,  3.9956e-01, -7.1030e+00, -1.6008e+01,  7.3428e+00,\n",
       "         -1.7044e+00, -1.5921e+01, -1.6534e+00,  1.4140e+00, -1.6134e+01,\n",
       "         -1.6120e+01, -2.2550e+00, -1.6123e+01, -1.6095e+01, -1.5970e+01,\n",
       "         -1.6187e+01, -1.6026e+01, -5.2942e+00, -1.5873e+01, -1.6145e+01,\n",
       "         -1.6020e+01, -1.6156e+01, -1.6066e+01, -1.6032e+01, -1.6148e+01,\n",
       "         -8.2226e-01, -6.0372e+00, -1.6184e+01, -1.6105e+01, -1.5980e+01,\n",
       "         -1.6257e+01, -1.6009e+01, -1.6110e+01, -1.5955e+01, -1.6270e+01,\n",
       "         -1.6133e+01, -1.6255e+01, -9.2853e+00, -1.6042e+01, -1.6079e+01,\n",
       "         -1.6159e+01, -1.6172e+01, -1.5961e+01, -1.6141e+01, -1.6138e+01,\n",
       "         -1.6220e+01, -1.6157e+01, -1.6292e+01, -1.6040e+01, -1.6088e+01,\n",
       "         -1.6151e+01, -1.6006e+01, -1.6257e+01, -1.6041e+01, -1.6106e+01,\n",
       "         -1.6049e+01, -1.6141e+01, -1.6144e+01, -1.6224e+01, -1.4362e+01,\n",
       "         -1.6027e+01]])"
      ]
     },
     "execution_count": 203,
     "metadata": {},
     "output_type": "execute_result"
    }
   ],
   "source": [
    "lprobs_hf[0]"
   ]
  },
  {
   "cell_type": "code",
   "execution_count": 204,
   "id": "6eeff463",
   "metadata": {},
   "outputs": [
    {
     "data": {
      "text/plain": [
       "tensor(0.)"
      ]
     },
     "execution_count": 204,
     "metadata": {},
     "output_type": "execute_result"
    }
   ],
   "source": [
    "torch.max(torch.abs(lprobs - lprobs_hf))"
   ]
  },
  {
   "cell_type": "code",
   "execution_count": null,
   "id": "24926eec",
   "metadata": {},
   "outputs": [],
   "source": []
  },
  {
   "cell_type": "markdown",
   "id": "32e98799",
   "metadata": {},
   "source": [
    "## Use the `transformers` generator loop:"
   ]
  },
  {
   "cell_type": "markdown",
   "id": "8cdaec2d",
   "metadata": {},
   "source": [
    "Run the full model to make sure this doesn't give any errors:"
   ]
  },
  {
   "cell_type": "code",
   "execution_count": 207,
   "id": "b4b889ab",
   "metadata": {},
   "outputs": [
    {
     "data": {
      "text/plain": [
       "transformers.modeling_outputs.Seq2SeqLMOutput"
      ]
     },
     "execution_count": 207,
     "metadata": {},
     "output_type": "execute_result"
    }
   ],
   "source": [
    "with torch.no_grad():\n",
    "     hf_outputs = hf_model(\n",
    "         input_values=inputs.input_values,\n",
    "         attention_mask=inputs.attention_mask,\n",
    "         decoder_input_ids=torch.tensor([[3, 4, 5]]),\n",
    "         #decoder_input_ids=torch.tensor([[3, 4, 5], [2, 2, 2]]),\n",
    "     )\n",
    "\n",
    "type(hf_outputs)"
   ]
  },
  {
   "cell_type": "code",
   "execution_count": 208,
   "id": "677718c5",
   "metadata": {},
   "outputs": [
    {
     "data": {
      "text/plain": [
       "['logits', 'past_key_values', 'encoder_last_hidden_state']"
      ]
     },
     "execution_count": 208,
     "metadata": {},
     "output_type": "execute_result"
    }
   ],
   "source": [
    "list(hf_outputs.keys())"
   ]
  },
  {
   "cell_type": "code",
   "execution_count": 209,
   "id": "7f2bcec8",
   "metadata": {},
   "outputs": [
    {
     "data": {
      "text/plain": [
       "torch.Size([2, 3, 81])"
      ]
     },
     "execution_count": 209,
     "metadata": {},
     "output_type": "execute_result"
    }
   ],
   "source": [
    "hf_outputs[\"logits\"].shape"
   ]
  },
  {
   "cell_type": "code",
   "execution_count": null,
   "id": "a94d1eae",
   "metadata": {},
   "outputs": [],
   "source": []
  },
  {
   "cell_type": "markdown",
   "id": "19619c18",
   "metadata": {},
   "source": [
    "Also calculate loss:"
   ]
  },
  {
   "cell_type": "code",
   "execution_count": 211,
   "id": "bf72acbd",
   "metadata": {},
   "outputs": [
    {
     "data": {
      "text/plain": [
       "transformers.modeling_outputs.Seq2SeqLMOutput"
      ]
     },
     "execution_count": 211,
     "metadata": {},
     "output_type": "execute_result"
    }
   ],
   "source": [
    "with torch.no_grad():\n",
    "     hf_outputs = hf_model(\n",
    "         input_values=inputs.input_values,\n",
    "         attention_mask=inputs.attention_mask,\n",
    "         #decoder_input_ids=torch.tensor([[2,  4, 18, 10, 12,  6,  5]]),\n",
    "         labels=torch.tensor([[4, 18, 10, 12,  6,  5, 13]]),\n",
    "         #labels=torch.tensor([[4, 18, 10, 12,  6,  5, 13], [4, 18, 10, 12,  6,  5, 13]]),  # batch\n",
    "     )\n",
    "\n",
    "type(hf_outputs)"
   ]
  },
  {
   "cell_type": "code",
   "execution_count": 213,
   "id": "5e15f966",
   "metadata": {},
   "outputs": [
    {
     "data": {
      "text/plain": [
       "torch.Size([2, 7, 81])"
      ]
     },
     "execution_count": 213,
     "metadata": {},
     "output_type": "execute_result"
    }
   ],
   "source": [
    "hf_outputs[\"logits\"].shape"
   ]
  },
  {
   "cell_type": "code",
   "execution_count": 212,
   "id": "c9429b7c",
   "metadata": {},
   "outputs": [
    {
     "data": {
      "text/plain": [
       "tensor(1.9692)"
      ]
     },
     "execution_count": 212,
     "metadata": {},
     "output_type": "execute_result"
    }
   ],
   "source": [
    "hf_outputs[\"loss\"]"
   ]
  },
  {
   "cell_type": "code",
   "execution_count": null,
   "id": "7733304c",
   "metadata": {},
   "outputs": [],
   "source": []
  },
  {
   "cell_type": "markdown",
   "id": "27209b72",
   "metadata": {},
   "source": [
    "Generator loop:"
   ]
  },
  {
   "cell_type": "code",
   "execution_count": 230,
   "id": "9b6b1ed1",
   "metadata": {},
   "outputs": [
    {
     "data": {
      "text/plain": [
       "torch.Size([2, 128632])"
      ]
     },
     "execution_count": 230,
     "metadata": {},
     "output_type": "execute_result"
    }
   ],
   "source": [
    "inputs.input_values.shape"
   ]
  },
  {
   "cell_type": "code",
   "execution_count": 240,
   "id": "b2fc2baa",
   "metadata": {},
   "outputs": [],
   "source": [
    "hf_outputs = hf_model.generate(inputs.input_values, max_length=100)\n",
    "# hf_outputs = hf_model.generate(inputs.input_values, num_beams=5, max_length=100) #, bos_token_id=2)\n",
    "# hf_outputs = hf_model.generate(torch.rand(1, 10000), num_beams=5, max_length=10)"
   ]
  },
  {
   "cell_type": "code",
   "execution_count": 241,
   "id": "015c80b1",
   "metadata": {},
   "outputs": [
    {
     "data": {
      "text/plain": [
       "torch.Size([2, 100])"
      ]
     },
     "execution_count": 241,
     "metadata": {},
     "output_type": "execute_result"
    }
   ],
   "source": [
    "hf_outputs.shape"
   ]
  },
  {
   "cell_type": "code",
   "execution_count": 242,
   "id": "ce7e1899",
   "metadata": {},
   "outputs": [
    {
     "data": {
      "text/plain": [
       "tensor([[ 2,  4, 18, 10, 12,  6,  5, 13,  4, 45, 16, 10, 15,  6,  5, 13,  4, 10,\n",
       "         12,  4,  6, 11,  5,  4,  7, 24,  8, 12,  6, 15,  5,  4,  8, 19,  4,  6,\n",
       "         11,  5,  4, 18, 10, 14, 14, 15,  5,  4, 17, 15,  7, 12, 12,  5, 12,  4,\n",
       "          7,  9, 14,  4, 20,  5,  4,  7, 13,  5,  4, 21, 15,  7, 14,  4,  6,  8,\n",
       "          4, 20,  5, 15, 17,  8, 18,  5,  4, 11, 10, 12,  4, 21,  8, 12, 24,  5,\n",
       "         15,  2,  1,  1,  1,  1,  1,  1,  1,  1],\n",
       "        [ 2,  4, 12,  5, 15, 19,  4, 14,  5, 12,  6, 13, 16, 17,  6, 10,  8,  9,\n",
       "          4, 17,  8, 18, 18,  5,  9, 17,  5,  4, 10,  9,  4, 19, 10, 27,  5,  4,\n",
       "         19,  8, 16, 13,  4,  6, 11, 13,  5,  5,  4,  6, 20,  8,  4,  8,  9,  5,\n",
       "          4,  7,  9, 14,  4,  7,  4, 11,  7, 15, 19,  4,  8,  9,  5,  4,  7,  9,\n",
       "         14,  4,  7,  4, 45, 16,  7, 13,  6,  5, 13,  4,  8,  9,  5,  4,  7,  9,\n",
       "         14,  4,  7,  4, 15, 10,  6,  6, 15,  5]])"
      ]
     },
     "execution_count": 242,
     "metadata": {},
     "output_type": "execute_result"
    }
   ],
   "source": [
    "hf_outputs"
   ]
  },
  {
   "cell_type": "code",
   "execution_count": 243,
   "id": "11fce9bd",
   "metadata": {},
   "outputs": [
    {
     "name": "stdout",
     "output_type": "stream",
     "text": [
      "▁ m i s t e r ▁ q u i l t e r ▁ i s ▁ t h e ▁ a p o s t l e ▁ o f ▁ t h e ▁ m i d d l e ▁ c l a s s e s ▁ a n d ▁ w e ▁ a r e ▁ g l a d ▁ t o ▁ w e l c o m e ▁ h i s ▁ g o s p e l <pad> <pad> <pad> <pad> <pad> <pad> <pad> <pad>\n",
      "mister quilter is the apostle of the middle classes and we are glad to welcome his gospel<pad><pad><pad><pad><pad><pad><pad><pad>\n",
      "\n",
      "▁ s e l f ▁ d e s t r u c t i o n ▁ c o m m e n c e ▁ i n ▁ f i v e ▁ f o u r ▁ t h r e e ▁ t w o ▁ o n e ▁ a n d ▁ a ▁ h a l f ▁ o n e ▁ a n d ▁ a ▁ q u a r t e r ▁ o n e ▁ a n d ▁ a ▁ l i t t l e\n",
      "self destruction commence in five four three two one and a half one and a quarter one and a little\n",
      "\n"
     ]
    }
   ],
   "source": [
    "for i in range(hf_outputs.shape[0]):\n",
    "    print(tgt_dict.string(hf_outputs[i]))\n",
    "    print(tokenizer.decode(tgt_dict.string(hf_outputs[i])))\n",
    "    print(\"\")"
   ]
  },
  {
   "cell_type": "code",
   "execution_count": 244,
   "id": "997fd48c",
   "metadata": {},
   "outputs": [
    {
     "data": {
      "text/plain": [
       "['<s>', '<pad>', '</s>', '<unk>', '▁']"
      ]
     },
     "execution_count": 244,
     "metadata": {},
     "output_type": "execute_result"
    }
   ],
   "source": [
    "[tgt_dict[x] for x in range(5)]"
   ]
  },
  {
   "cell_type": "code",
   "execution_count": null,
   "id": "b04fb295",
   "metadata": {},
   "outputs": [],
   "source": []
  },
  {
   "cell_type": "markdown",
   "id": "d592263e",
   "metadata": {},
   "source": [
    "For comparison, Speech2Text:"
   ]
  },
  {
   "cell_type": "code",
   "execution_count": null,
   "id": "340e218a",
   "metadata": {},
   "outputs": [],
   "source": [
    "import torch\n",
    "from transformers import Speech2TextProcessor, Speech2TextForConditionalGeneration\n",
    "\n",
    "s2t_model = Speech2TextForConditionalGeneration.from_pretrained(\"facebook/s2t-small-librispeech-asr\")\n",
    "s2t_processor = Speech2TextProcessor.from_pretrained(\"facebook/s2t-small-librispeech-asr\")"
   ]
  },
  {
   "cell_type": "code",
   "execution_count": 222,
   "id": "df390fbc",
   "metadata": {},
   "outputs": [
    {
     "name": "stderr",
     "output_type": "stream",
     "text": [
      "/Users/matthijs/anaconda3/envs/t5/lib/python3.9/site-packages/huggingface_hub/utils/_deprecation.py:97: FutureWarning: Deprecated argument(s) used in 'dataset_info': token. Will not be supported from version '0.12'.\n",
      "  warnings.warn(message, FutureWarning)\n",
      "Reusing dataset librispeech_asr_dummy (/Users/matthijs/.cache/huggingface/datasets/hf-internal-testing___librispeech_asr_dummy/clean/2.1.0/d3bc4c2bc2078fcde3ad0f0f635862e4c0fef78ba94c4a34c4c250a097af240b)\n"
     ]
    },
    {
     "data": {
      "text/plain": [
       "torch.Size([1, 584, 80])"
      ]
     },
     "execution_count": 222,
     "metadata": {},
     "output_type": "execute_result"
    }
   ],
   "source": [
    "from datasets import load_dataset\n",
    "\n",
    "ds = load_dataset(\"hf-internal-testing/librispeech_asr_dummy\", \"clean\", split=\"validation\")\n",
    "\n",
    "inputs = s2t_processor(\n",
    "    ds[0][\"audio\"][\"array\"], sampling_rate=ds[0][\"audio\"][\"sampling_rate\"], return_tensors=\"pt\"\n",
    ")\n",
    "input_features = inputs.input_features\n",
    "input_features.shape"
   ]
  },
  {
   "cell_type": "code",
   "execution_count": 223,
   "id": "08b6652a",
   "metadata": {},
   "outputs": [
    {
     "data": {
      "text/plain": [
       "torch.Size([2, 584, 80])"
      ]
     },
     "execution_count": 223,
     "metadata": {},
     "output_type": "execute_result"
    }
   ],
   "source": [
    "# test batch\n",
    "# input_features = torch.tile(input_features, dims=(2, 1, 1))\n",
    "# input_features.shape"
   ]
  },
  {
   "cell_type": "code",
   "execution_count": 224,
   "id": "daf06a1f",
   "metadata": {},
   "outputs": [
    {
     "name": "stderr",
     "output_type": "stream",
     "text": [
      "/Users/matthijs/Documents/FILES/HuggingFace/SpeechT5/transformers/src/transformers/models/speech_to_text/modeling_speech_to_text.py:561: UserWarning: __floordiv__ is deprecated, and its behavior will change in a future version of pytorch. It currently rounds toward 0 (like the 'trunc' function NOT 'floor'). This results in incorrect rounding for negative values. To keep the current behavior, use torch.div(a, b, rounding_mode='trunc'), or for actual floor division, use torch.div(a, b, rounding_mode='floor').\n",
      "  input_lengths = (input_lengths - 1) // 2 + 1\n",
      "/Users/matthijs/Documents/FILES/HuggingFace/SpeechT5/transformers/src/transformers/generation_utils.py:1296: UserWarning: Neither `max_length` nor `max_new_tokens` has been set, `max_length` will default to 200 (`self.config.max_length`). Controlling `max_length` via the config is deprecated and `max_length` will be removed from the config in v5 of Transformers -- we recommend using `max_new_tokens` to control the maximum length of the generation.\n",
      "  warnings.warn(\n"
     ]
    },
    {
     "data": {
      "text/plain": [
       "'mister quilter is the apostle of the middle classes and we are glad to welcome his gospel'"
      ]
     },
     "execution_count": 224,
     "metadata": {},
     "output_type": "execute_result"
    }
   ],
   "source": [
    "generated_ids = s2t_model.generate(inputs=input_features)\n",
    "\n",
    "transcription = s2t_processor.batch_decode(generated_ids)[0]\n",
    "transcription\n",
    "\n",
    "#'mister quilter is the apostle of the middle classes and we are glad to welcome his gospel'"
   ]
  },
  {
   "cell_type": "code",
   "execution_count": null,
   "id": "49667e88",
   "metadata": {},
   "outputs": [],
   "source": []
  },
  {
   "cell_type": "markdown",
   "id": "d50884f2",
   "metadata": {},
   "source": [
    "Test other methods:"
   ]
  },
  {
   "cell_type": "code",
   "execution_count": 30,
   "id": "1cd38a73",
   "metadata": {},
   "outputs": [],
   "source": [
    "# BART, Speech2Text, Wav2Vec2 don't have pruning\n",
    "#hf_model.prune_heads({1: [0, 2], 2: [2,3 ]})"
   ]
  },
  {
   "cell_type": "code",
   "execution_count": null,
   "id": "39bc11e3",
   "metadata": {},
   "outputs": [],
   "source": []
  },
  {
   "cell_type": "code",
   "execution_count": 27,
   "id": "41c735ad",
   "metadata": {},
   "outputs": [
    {
     "data": {
      "text/plain": [
       "Embedding(100, 768)"
      ]
     },
     "execution_count": 27,
     "metadata": {},
     "output_type": "execute_result"
    }
   ],
   "source": [
    "hf_model.get_input_embeddings()"
   ]
  },
  {
   "cell_type": "code",
   "execution_count": 28,
   "id": "7e42d707",
   "metadata": {},
   "outputs": [
    {
     "data": {
      "text/plain": [
       "Linear(in_features=768, out_features=100, bias=False)"
      ]
     },
     "execution_count": 28,
     "metadata": {},
     "output_type": "execute_result"
    }
   ],
   "source": [
    "hf_model.get_output_embeddings()"
   ]
  },
  {
   "cell_type": "code",
   "execution_count": 25,
   "id": "d6f954bf",
   "metadata": {},
   "outputs": [
    {
     "data": {
      "text/plain": [
       "Embedding(100, 768)"
      ]
     },
     "execution_count": 25,
     "metadata": {},
     "output_type": "execute_result"
    }
   ],
   "source": [
    "hf_model.resize_token_embeddings(100)"
   ]
  },
  {
   "cell_type": "code",
   "execution_count": 26,
   "id": "856c523b",
   "metadata": {},
   "outputs": [
    {
     "data": {
      "text/plain": [
       "Embedding(100, 768)"
      ]
     },
     "execution_count": 26,
     "metadata": {},
     "output_type": "execute_result"
    }
   ],
   "source": [
    "hf_model.get_input_embeddings()"
   ]
  },
  {
   "cell_type": "code",
   "execution_count": null,
   "id": "8ed13692",
   "metadata": {},
   "outputs": [],
   "source": []
  },
  {
   "cell_type": "code",
   "execution_count": 117,
   "id": "8c420142",
   "metadata": {},
   "outputs": [],
   "source": [
    "hf_model.freeze_feature_encoder()"
   ]
  },
  {
   "cell_type": "code",
   "execution_count": 118,
   "id": "2560fe9d",
   "metadata": {},
   "outputs": [],
   "source": [
    "hf_model_ctc.freeze_feature_encoder()"
   ]
  },
  {
   "cell_type": "code",
   "execution_count": 119,
   "id": "6d95fe1b",
   "metadata": {},
   "outputs": [],
   "source": [
    "hf_model_naked.freeze_feature_encoder()"
   ]
  },
  {
   "cell_type": "code",
   "execution_count": null,
   "id": "2e8ba29c",
   "metadata": {},
   "outputs": [],
   "source": []
  }
 ],
 "metadata": {
  "kernelspec": {
   "display_name": "Python 3 (ipykernel)",
   "language": "python",
   "name": "python3"
  },
  "language_info": {
   "codemirror_mode": {
    "name": "ipython",
    "version": 3
   },
   "file_extension": ".py",
   "mimetype": "text/x-python",
   "name": "python",
   "nbconvert_exporter": "python",
   "pygments_lexer": "ipython3",
   "version": "3.9.13"
  }
 },
 "nbformat": 4,
 "nbformat_minor": 5
}
